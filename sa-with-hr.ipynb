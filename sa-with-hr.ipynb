{
 "cells": [
  {
   "cell_type": "markdown",
   "id": "36bb84b0",
   "metadata": {
    "_uuid": "a22cd9684b1ccf2bf483b55f746881ebcbbcbe4c",
    "papermill": {
     "duration": 0.015783,
     "end_time": "2022-07-27T02:42:56.736003",
     "exception": false,
     "start_time": "2022-07-27T02:42:56.720220",
     "status": "completed"
    },
    "tags": []
   },
   "source": [
    "# Introduction"
   ]
  },
  {
   "cell_type": "markdown",
   "id": "bf936bfd",
   "metadata": {
    "_uuid": "9b15f7daa8f9c5cb04c1ff8974a9c0cefb672f6f",
    "papermill": {
     "duration": 0.014458,
     "end_time": "2022-07-27T02:42:56.765503",
     "exception": false,
     "start_time": "2022-07-27T02:42:56.751045",
     "status": "completed"
    },
    "tags": []
   },
   "source": [
    "Sentiment analysis is part of the Natural Language Processing (NLP) techniques that consists in extracting emotions related to some raw texts. This is usually used on social media posts and customer reviews in order to automatically understand if some users are positive or negative and why. The goal of this study is to show how sentiment analysis can be performed using python. Here are some of the main libraries we will use:\n",
    "\n",
    "- NLTK: the most famous python module for NLP techniques\n",
    "- Gensim: a topic-modelling and vector space modelling toolkit\n",
    "- Scikit-learn: the most used python machine learning library\n",
    "\n",
    "We will use here some hotel reviews data. Each observation consists in one customer review for one hotel. Each customer review is composed of a textual feedback of the customer's experience at the hotel and an overall rating. The data can be found here:\n",
    "https://www.kaggle.com/jiashenliu/515k-hotel-reviews-data-in-europe\n",
    "\n",
    "For each textual review, we want to predict if it corresponds to a good review (the customer is happy) or to a bad one (the customer is not satisfied). The reviews overall ratings can range from 2.5/10 to 10/10. In order to simplify the problem we will split those into two categories:\n",
    "- bad reviews have overall ratings < 5\n",
    "- good reviews have overall ratings >= 5\n",
    "\n",
    "The challenge here is to be able to predict this information using only the raw textual data from the review.\n",
    "Let's get it started!\n"
   ]
  },
  {
   "cell_type": "code",
   "execution_count": 1,
   "id": "276df721",
   "metadata": {
    "execution": {
     "iopub.execute_input": "2022-07-27T02:42:56.799173Z",
     "iopub.status.busy": "2022-07-27T02:42:56.798404Z",
     "iopub.status.idle": "2022-07-27T02:42:59.705792Z",
     "shell.execute_reply": "2022-07-27T02:42:59.704388Z"
    },
    "papermill": {
     "duration": 2.929026,
     "end_time": "2022-07-27T02:42:59.709200",
     "exception": false,
     "start_time": "2022-07-27T02:42:56.780174",
     "status": "completed"
    },
    "tags": []
   },
   "outputs": [
    {
     "name": "stdout",
     "output_type": "stream",
     "text": [
      "Cloning into 'Perpetua'...\r\n",
      "remote: Enumerating objects: 20, done.\u001b[K\r\n",
      "remote: Counting objects: 100% (20/20), done.\u001b[K\r\n",
      "remote: Compressing objects: 100% (18/18), done.\u001b[K\r\n",
      "remote: Total 20 (delta 6), reused 5 (delta 1), pack-reused 0\u001b[K\r\n",
      "Unpacking objects: 100% (20/20), 3.25 MiB | 2.88 MiB/s, done.\r\n"
     ]
    }
   ],
   "source": [
    "!git clone https://github.com/mahmoudfazeli/Perpetua.git"
   ]
  },
  {
   "cell_type": "markdown",
   "id": "a8850b5b",
   "metadata": {
    "_cell_guid": "79c7e3d0-c299-4dcb-8224-4455121ee9b0",
    "_uuid": "d629ff2d2480ee46fbb7e2d37f6b5fab8052498a",
    "papermill": {
     "duration": 0.014332,
     "end_time": "2022-07-27T02:42:59.738346",
     "exception": false,
     "start_time": "2022-07-27T02:42:59.724014",
     "status": "completed"
    },
    "tags": []
   },
   "source": [
    "# Load data"
   ]
  },
  {
   "cell_type": "markdown",
   "id": "a3d5feab",
   "metadata": {
    "_uuid": "7c52144478e304f76ce5310ab30a72a08e0c35dd",
    "papermill": {
     "duration": 0.014818,
     "end_time": "2022-07-27T02:42:59.768237",
     "exception": false,
     "start_time": "2022-07-27T02:42:59.753419",
     "status": "completed"
    },
    "tags": []
   },
   "source": [
    "We first start by loading the raw data. Each textual reviews is splitted into a positive part and a negative part. We group them together in order to start with only raw text data and no other information."
   ]
  },
  {
   "cell_type": "code",
   "execution_count": 2,
   "id": "0d2d62c1",
   "metadata": {
    "execution": {
     "iopub.execute_input": "2022-07-27T02:42:59.800135Z",
     "iopub.status.busy": "2022-07-27T02:42:59.799655Z",
     "iopub.status.idle": "2022-07-27T02:43:00.296379Z",
     "shell.execute_reply": "2022-07-27T02:43:00.294023Z"
    },
    "papermill": {
     "duration": 0.516427,
     "end_time": "2022-07-27T02:43:00.299361",
     "exception": false,
     "start_time": "2022-07-27T02:42:59.782934",
     "status": "completed"
    },
    "tags": []
   },
   "outputs": [
    {
     "name": "stdout",
     "output_type": "stream",
     "text": [
      "<class 'pandas.core.frame.DataFrame'>\n",
      "RangeIndex: 10000 entries, 0 to 9999\n",
      "Data columns (total 26 columns):\n",
      " #   Column                Non-Null Count  Dtype  \n",
      "---  ------                --------------  -----  \n",
      " 0   id                    10000 non-null  object \n",
      " 1   dateadded             10000 non-null  object \n",
      " 2   dateupdated           10000 non-null  object \n",
      " 3   address               10000 non-null  object \n",
      " 4   categories            10000 non-null  object \n",
      " 5   primarycategories     10000 non-null  object \n",
      " 6   city                  10000 non-null  object \n",
      " 7   country               10000 non-null  object \n",
      " 8   keys                  10000 non-null  object \n",
      " 9   latitude              10000 non-null  float64\n",
      " 10  longitude             10000 non-null  float64\n",
      " 11  name                  10000 non-null  object \n",
      " 12  postalcode            10000 non-null  object \n",
      " 13  province              10000 non-null  object \n",
      " 14  reviews_date          10000 non-null  object \n",
      " 15  reviews_dateseen      10000 non-null  object \n",
      " 16  reviews_rating        10000 non-null  float64\n",
      " 17  reviews_sourceurls    10000 non-null  object \n",
      " 18  reviews_text          9999 non-null   object \n",
      " 19  reviews_title         9999 non-null   object \n",
      " 20  reviews_usercity      4164 non-null   object \n",
      " 21  reviews_userprovince  2705 non-null   object \n",
      " 22  reviews_username      10000 non-null  object \n",
      " 23  sourceurls            10000 non-null  object \n",
      " 24  websites              10000 non-null  object \n",
      " 25  location              10000 non-null  object \n",
      "dtypes: float64(3), object(23)\n",
      "memory usage: 2.0+ MB\n"
     ]
    }
   ],
   "source": [
    "import pandas as pd\n",
    "data = pd.read_csv('./Perpetua/datasets/hotel_reviews.csv')\n",
    "#reviews = pd.read_csv('hotel_reviews - Copy.csv')\n",
    "#y = reviews.reviews_rating\n",
    "#X = reviews.drop('reviews_rating', axis = 1, inplace = False)\n",
    "#reviews = reviews.dropna(axis=0, subset=['reviews_text'])\n",
    "#reviews = reviews.dropna(axis=0, subset=['reviews_title'])\n",
    "data.info()"
   ]
  },
  {
   "cell_type": "code",
   "execution_count": 3,
   "id": "cf90de54",
   "metadata": {
    "execution": {
     "iopub.execute_input": "2022-07-27T02:43:00.331713Z",
     "iopub.status.busy": "2022-07-27T02:43:00.331268Z",
     "iopub.status.idle": "2022-07-27T02:43:00.371550Z",
     "shell.execute_reply": "2022-07-27T02:43:00.370203Z"
    },
    "papermill": {
     "duration": 0.059853,
     "end_time": "2022-07-27T02:43:00.374365",
     "exception": false,
     "start_time": "2022-07-27T02:43:00.314512",
     "status": "completed"
    },
    "tags": []
   },
   "outputs": [
    {
     "data": {
      "text/plain": [
       "id                         0\n",
       "dateadded                  0\n",
       "dateupdated                0\n",
       "address                    0\n",
       "categories                 0\n",
       "primarycategories          0\n",
       "city                       0\n",
       "country                    0\n",
       "keys                       0\n",
       "latitude                   0\n",
       "longitude                  0\n",
       "name                       0\n",
       "postalcode                 0\n",
       "province                   0\n",
       "reviews_date               0\n",
       "reviews_dateseen           0\n",
       "reviews_rating             0\n",
       "reviews_sourceurls         0\n",
       "reviews_text               1\n",
       "reviews_title              1\n",
       "reviews_usercity        5836\n",
       "reviews_userprovince    7295\n",
       "reviews_username           0\n",
       "sourceurls                 0\n",
       "websites                   0\n",
       "location                   0\n",
       "dtype: int64"
      ]
     },
     "execution_count": 3,
     "metadata": {},
     "output_type": "execute_result"
    }
   ],
   "source": [
    "data.isnull().sum()"
   ]
  },
  {
   "cell_type": "code",
   "execution_count": 4,
   "id": "5091e8a9",
   "metadata": {
    "execution": {
     "iopub.execute_input": "2022-07-27T02:43:00.408061Z",
     "iopub.status.busy": "2022-07-27T02:43:00.407600Z",
     "iopub.status.idle": "2022-07-27T02:43:00.435640Z",
     "shell.execute_reply": "2022-07-27T02:43:00.434264Z"
    },
    "papermill": {
     "duration": 0.048514,
     "end_time": "2022-07-27T02:43:00.438589",
     "exception": false,
     "start_time": "2022-07-27T02:43:00.390075",
     "status": "completed"
    },
    "tags": []
   },
   "outputs": [],
   "source": [
    "data = data.dropna(axis=0, subset=['reviews_text'])\n",
    "data = data.dropna(axis=0, subset=['reviews_title'])"
   ]
  },
  {
   "cell_type": "code",
   "execution_count": 5,
   "id": "c1a1d33a",
   "metadata": {
    "execution": {
     "iopub.execute_input": "2022-07-27T02:43:00.471428Z",
     "iopub.status.busy": "2022-07-27T02:43:00.470924Z",
     "iopub.status.idle": "2022-07-27T02:43:00.477279Z",
     "shell.execute_reply": "2022-07-27T02:43:00.476287Z"
    },
    "papermill": {
     "duration": 0.025463,
     "end_time": "2022-07-27T02:43:00.479582",
     "exception": false,
     "start_time": "2022-07-27T02:43:00.454119",
     "status": "completed"
    },
    "tags": []
   },
   "outputs": [
    {
     "data": {
      "text/plain": [
       "(9998, 26)"
      ]
     },
     "execution_count": 5,
     "metadata": {},
     "output_type": "execute_result"
    }
   ],
   "source": [
    "data.shape"
   ]
  },
  {
   "cell_type": "code",
   "execution_count": 6,
   "id": "d4f60f0e",
   "metadata": {
    "execution": {
     "iopub.execute_input": "2022-07-27T02:43:00.512630Z",
     "iopub.status.busy": "2022-07-27T02:43:00.512150Z",
     "iopub.status.idle": "2022-07-27T02:43:00.546375Z",
     "shell.execute_reply": "2022-07-27T02:43:00.544938Z"
    },
    "papermill": {
     "duration": 0.054497,
     "end_time": "2022-07-27T02:43:00.549071",
     "exception": false,
     "start_time": "2022-07-27T02:43:00.494574",
     "status": "completed"
    },
    "tags": []
   },
   "outputs": [
    {
     "data": {
      "text/html": [
       "<div>\n",
       "<style scoped>\n",
       "    .dataframe tbody tr th:only-of-type {\n",
       "        vertical-align: middle;\n",
       "    }\n",
       "\n",
       "    .dataframe tbody tr th {\n",
       "        vertical-align: top;\n",
       "    }\n",
       "\n",
       "    .dataframe thead th {\n",
       "        text-align: right;\n",
       "    }\n",
       "</style>\n",
       "<table border=\"1\" class=\"dataframe\">\n",
       "  <thead>\n",
       "    <tr style=\"text-align: right;\">\n",
       "      <th></th>\n",
       "      <th>id</th>\n",
       "      <th>dateadded</th>\n",
       "      <th>dateupdated</th>\n",
       "      <th>address</th>\n",
       "      <th>categories</th>\n",
       "      <th>primarycategories</th>\n",
       "      <th>city</th>\n",
       "      <th>country</th>\n",
       "      <th>keys</th>\n",
       "      <th>latitude</th>\n",
       "      <th>...</th>\n",
       "      <th>reviews_rating</th>\n",
       "      <th>reviews_sourceurls</th>\n",
       "      <th>reviews_text</th>\n",
       "      <th>reviews_title</th>\n",
       "      <th>reviews_usercity</th>\n",
       "      <th>reviews_userprovince</th>\n",
       "      <th>reviews_username</th>\n",
       "      <th>sourceurls</th>\n",
       "      <th>websites</th>\n",
       "      <th>location</th>\n",
       "    </tr>\n",
       "  </thead>\n",
       "  <tbody>\n",
       "    <tr>\n",
       "      <th>0</th>\n",
       "      <td>AVwc252WIN2L1WUfpqLP</td>\n",
       "      <td>2016-10-30T21:42:42Z</td>\n",
       "      <td>2018-09-10T21:06:27Z</td>\n",
       "      <td>5921 Valencia Cir</td>\n",
       "      <td>Hotels,Hotels and motels,Hotel and motel reser...</td>\n",
       "      <td>Accommodation &amp; Food Services</td>\n",
       "      <td>Rancho Santa Fe</td>\n",
       "      <td>US</td>\n",
       "      <td>us/ca/ranchosantafe/5921valenciacir/359754519</td>\n",
       "      <td>32.990959</td>\n",
       "      <td>...</td>\n",
       "      <td>5.0</td>\n",
       "      <td>https://www.hotels.com/hotel/125419/reviews%20/</td>\n",
       "      <td>Our experience at Rancho Valencia was absolute...</td>\n",
       "      <td>Best romantic vacation ever!!!!</td>\n",
       "      <td>NaN</td>\n",
       "      <td>NaN</td>\n",
       "      <td>Paula</td>\n",
       "      <td>http://www.hotels.com/ho125419/%25252525253Flo...</td>\n",
       "      <td>http://www.ranchovalencia.com</td>\n",
       "      <td>POINT(-117.186136 32.990959)</td>\n",
       "    </tr>\n",
       "    <tr>\n",
       "      <th>1</th>\n",
       "      <td>AVwc252WIN2L1WUfpqLP</td>\n",
       "      <td>2016-10-30T21:42:42Z</td>\n",
       "      <td>2018-09-10T21:06:27Z</td>\n",
       "      <td>5921 Valencia Cir</td>\n",
       "      <td>Hotels,Hotels and motels,Hotel and motel reser...</td>\n",
       "      <td>Accommodation &amp; Food Services</td>\n",
       "      <td>Rancho Santa Fe</td>\n",
       "      <td>US</td>\n",
       "      <td>us/ca/ranchosantafe/5921valenciacir/359754519</td>\n",
       "      <td>32.990959</td>\n",
       "      <td>...</td>\n",
       "      <td>5.0</td>\n",
       "      <td>https://www.hotels.com/hotel/125419/reviews%20/</td>\n",
       "      <td>Amazing place. Everyone was extremely warm and...</td>\n",
       "      <td>Sweet sweet serenity</td>\n",
       "      <td>NaN</td>\n",
       "      <td>NaN</td>\n",
       "      <td>D</td>\n",
       "      <td>http://www.hotels.com/ho125419/%25252525253Flo...</td>\n",
       "      <td>http://www.ranchovalencia.com</td>\n",
       "      <td>POINT(-117.186136 32.990959)</td>\n",
       "    </tr>\n",
       "    <tr>\n",
       "      <th>2</th>\n",
       "      <td>AVwc252WIN2L1WUfpqLP</td>\n",
       "      <td>2016-10-30T21:42:42Z</td>\n",
       "      <td>2018-09-10T21:06:27Z</td>\n",
       "      <td>5921 Valencia Cir</td>\n",
       "      <td>Hotels,Hotels and motels,Hotel and motel reser...</td>\n",
       "      <td>Accommodation &amp; Food Services</td>\n",
       "      <td>Rancho Santa Fe</td>\n",
       "      <td>US</td>\n",
       "      <td>us/ca/ranchosantafe/5921valenciacir/359754519</td>\n",
       "      <td>32.990959</td>\n",
       "      <td>...</td>\n",
       "      <td>5.0</td>\n",
       "      <td>https://www.hotels.com/hotel/125419/reviews%20/</td>\n",
       "      <td>We booked a 3 night stay at Rancho Valencia to...</td>\n",
       "      <td>Amazing Property and Experience</td>\n",
       "      <td>NaN</td>\n",
       "      <td>NaN</td>\n",
       "      <td>Ron</td>\n",
       "      <td>http://www.hotels.com/ho125419/%25252525253Flo...</td>\n",
       "      <td>http://www.ranchovalencia.com</td>\n",
       "      <td>POINT(-117.186136 32.990959)</td>\n",
       "    </tr>\n",
       "    <tr>\n",
       "      <th>3</th>\n",
       "      <td>AVwdOclqIN2L1WUfti38</td>\n",
       "      <td>2015-11-28T19:19:35Z</td>\n",
       "      <td>2018-09-10T21:06:16Z</td>\n",
       "      <td>7520 Teague Rd</td>\n",
       "      <td>Hotels,Hotels and motels,Travel agencies and b...</td>\n",
       "      <td>Accommodation &amp; Food Services</td>\n",
       "      <td>Hanover</td>\n",
       "      <td>US</td>\n",
       "      <td>us/md/hanover/7520teaguerd/-2043779672</td>\n",
       "      <td>39.155929</td>\n",
       "      <td>...</td>\n",
       "      <td>2.0</td>\n",
       "      <td>https://www.tripadvisor.com/Hotel_Review-g4118...</td>\n",
       "      <td>Currently in bed writing this for the past hr ...</td>\n",
       "      <td>Never again...beware, if you want sleep.</td>\n",
       "      <td>Richmond</td>\n",
       "      <td>VA</td>\n",
       "      <td>jaeem2016</td>\n",
       "      <td>http://www.yellowbook.com/profile/aloft-arunde...</td>\n",
       "      <td>http://www.starwoodhotels.com/alofthotels/prop...</td>\n",
       "      <td>POINT(-76.716341 39.155929)</td>\n",
       "    </tr>\n",
       "    <tr>\n",
       "      <th>4</th>\n",
       "      <td>AVwdOclqIN2L1WUfti38</td>\n",
       "      <td>2015-11-28T19:19:35Z</td>\n",
       "      <td>2018-09-10T21:06:16Z</td>\n",
       "      <td>7520 Teague Rd</td>\n",
       "      <td>Hotels,Hotels and motels,Travel agencies and b...</td>\n",
       "      <td>Accommodation &amp; Food Services</td>\n",
       "      <td>Hanover</td>\n",
       "      <td>US</td>\n",
       "      <td>us/md/hanover/7520teaguerd/-2043779672</td>\n",
       "      <td>39.155929</td>\n",
       "      <td>...</td>\n",
       "      <td>5.0</td>\n",
       "      <td>https://www.tripadvisor.com/Hotel_Review-g4118...</td>\n",
       "      <td>I live in Md and the Aloft is my Home away fro...</td>\n",
       "      <td>ALWAYS GREAT STAY...</td>\n",
       "      <td>Laurel</td>\n",
       "      <td>MD</td>\n",
       "      <td>MamaNiaOne</td>\n",
       "      <td>http://www.yellowbook.com/profile/aloft-arunde...</td>\n",
       "      <td>http://www.starwoodhotels.com/alofthotels/prop...</td>\n",
       "      <td>POINT(-76.716341 39.155929)</td>\n",
       "    </tr>\n",
       "  </tbody>\n",
       "</table>\n",
       "<p>5 rows × 26 columns</p>\n",
       "</div>"
      ],
      "text/plain": [
       "                     id             dateadded           dateupdated  \\\n",
       "0  AVwc252WIN2L1WUfpqLP  2016-10-30T21:42:42Z  2018-09-10T21:06:27Z   \n",
       "1  AVwc252WIN2L1WUfpqLP  2016-10-30T21:42:42Z  2018-09-10T21:06:27Z   \n",
       "2  AVwc252WIN2L1WUfpqLP  2016-10-30T21:42:42Z  2018-09-10T21:06:27Z   \n",
       "3  AVwdOclqIN2L1WUfti38  2015-11-28T19:19:35Z  2018-09-10T21:06:16Z   \n",
       "4  AVwdOclqIN2L1WUfti38  2015-11-28T19:19:35Z  2018-09-10T21:06:16Z   \n",
       "\n",
       "             address                                         categories  \\\n",
       "0  5921 Valencia Cir  Hotels,Hotels and motels,Hotel and motel reser...   \n",
       "1  5921 Valencia Cir  Hotels,Hotels and motels,Hotel and motel reser...   \n",
       "2  5921 Valencia Cir  Hotels,Hotels and motels,Hotel and motel reser...   \n",
       "3     7520 Teague Rd  Hotels,Hotels and motels,Travel agencies and b...   \n",
       "4     7520 Teague Rd  Hotels,Hotels and motels,Travel agencies and b...   \n",
       "\n",
       "               primarycategories             city country  \\\n",
       "0  Accommodation & Food Services  Rancho Santa Fe      US   \n",
       "1  Accommodation & Food Services  Rancho Santa Fe      US   \n",
       "2  Accommodation & Food Services  Rancho Santa Fe      US   \n",
       "3  Accommodation & Food Services          Hanover      US   \n",
       "4  Accommodation & Food Services          Hanover      US   \n",
       "\n",
       "                                            keys   latitude  ...  \\\n",
       "0  us/ca/ranchosantafe/5921valenciacir/359754519  32.990959  ...   \n",
       "1  us/ca/ranchosantafe/5921valenciacir/359754519  32.990959  ...   \n",
       "2  us/ca/ranchosantafe/5921valenciacir/359754519  32.990959  ...   \n",
       "3         us/md/hanover/7520teaguerd/-2043779672  39.155929  ...   \n",
       "4         us/md/hanover/7520teaguerd/-2043779672  39.155929  ...   \n",
       "\n",
       "   reviews_rating                                 reviews_sourceurls  \\\n",
       "0             5.0    https://www.hotels.com/hotel/125419/reviews%20/   \n",
       "1             5.0    https://www.hotels.com/hotel/125419/reviews%20/   \n",
       "2             5.0    https://www.hotels.com/hotel/125419/reviews%20/   \n",
       "3             2.0  https://www.tripadvisor.com/Hotel_Review-g4118...   \n",
       "4             5.0  https://www.tripadvisor.com/Hotel_Review-g4118...   \n",
       "\n",
       "                                        reviews_text  \\\n",
       "0  Our experience at Rancho Valencia was absolute...   \n",
       "1  Amazing place. Everyone was extremely warm and...   \n",
       "2  We booked a 3 night stay at Rancho Valencia to...   \n",
       "3  Currently in bed writing this for the past hr ...   \n",
       "4  I live in Md and the Aloft is my Home away fro...   \n",
       "\n",
       "                              reviews_title reviews_usercity  \\\n",
       "0           Best romantic vacation ever!!!!              NaN   \n",
       "1                      Sweet sweet serenity              NaN   \n",
       "2           Amazing Property and Experience              NaN   \n",
       "3  Never again...beware, if you want sleep.         Richmond   \n",
       "4                      ALWAYS GREAT STAY...           Laurel   \n",
       "\n",
       "  reviews_userprovince  reviews_username  \\\n",
       "0                  NaN             Paula   \n",
       "1                  NaN                 D   \n",
       "2                  NaN               Ron   \n",
       "3                   VA         jaeem2016   \n",
       "4                   MD        MamaNiaOne   \n",
       "\n",
       "                                          sourceurls  \\\n",
       "0  http://www.hotels.com/ho125419/%25252525253Flo...   \n",
       "1  http://www.hotels.com/ho125419/%25252525253Flo...   \n",
       "2  http://www.hotels.com/ho125419/%25252525253Flo...   \n",
       "3  http://www.yellowbook.com/profile/aloft-arunde...   \n",
       "4  http://www.yellowbook.com/profile/aloft-arunde...   \n",
       "\n",
       "                                            websites  \\\n",
       "0                      http://www.ranchovalencia.com   \n",
       "1                      http://www.ranchovalencia.com   \n",
       "2                      http://www.ranchovalencia.com   \n",
       "3  http://www.starwoodhotels.com/alofthotels/prop...   \n",
       "4  http://www.starwoodhotels.com/alofthotels/prop...   \n",
       "\n",
       "                       location  \n",
       "0  POINT(-117.186136 32.990959)  \n",
       "1  POINT(-117.186136 32.990959)  \n",
       "2  POINT(-117.186136 32.990959)  \n",
       "3   POINT(-76.716341 39.155929)  \n",
       "4   POINT(-76.716341 39.155929)  \n",
       "\n",
       "[5 rows x 26 columns]"
      ]
     },
     "execution_count": 6,
     "metadata": {},
     "output_type": "execute_result"
    }
   ],
   "source": [
    "data.head()"
   ]
  },
  {
   "cell_type": "code",
   "execution_count": 7,
   "id": "e79d2f0f",
   "metadata": {
    "_uuid": "cb56534fa07076079598d82a2e69848802148d70",
    "execution": {
     "iopub.execute_input": "2022-07-27T02:43:00.582915Z",
     "iopub.status.busy": "2022-07-27T02:43:00.582448Z",
     "iopub.status.idle": "2022-07-27T02:43:00.607036Z",
     "shell.execute_reply": "2022-07-27T02:43:00.605902Z"
    },
    "papermill": {
     "duration": 0.044575,
     "end_time": "2022-07-27T02:43:00.609518",
     "exception": false,
     "start_time": "2022-07-27T02:43:00.564943",
     "status": "completed"
    },
    "tags": []
   },
   "outputs": [
    {
     "data": {
      "text/html": [
       "<div>\n",
       "<style scoped>\n",
       "    .dataframe tbody tr th:only-of-type {\n",
       "        vertical-align: middle;\n",
       "    }\n",
       "\n",
       "    .dataframe tbody tr th {\n",
       "        vertical-align: top;\n",
       "    }\n",
       "\n",
       "    .dataframe thead th {\n",
       "        text-align: right;\n",
       "    }\n",
       "</style>\n",
       "<table border=\"1\" class=\"dataframe\">\n",
       "  <thead>\n",
       "    <tr style=\"text-align: right;\">\n",
       "      <th></th>\n",
       "      <th>reviews_text</th>\n",
       "      <th>is_bad_review</th>\n",
       "    </tr>\n",
       "  </thead>\n",
       "  <tbody>\n",
       "    <tr>\n",
       "      <th>0</th>\n",
       "      <td>Our experience at Rancho Valencia was absolute...</td>\n",
       "      <td>0</td>\n",
       "    </tr>\n",
       "    <tr>\n",
       "      <th>1</th>\n",
       "      <td>Amazing place. Everyone was extremely warm and...</td>\n",
       "      <td>0</td>\n",
       "    </tr>\n",
       "    <tr>\n",
       "      <th>2</th>\n",
       "      <td>We booked a 3 night stay at Rancho Valencia to...</td>\n",
       "      <td>0</td>\n",
       "    </tr>\n",
       "    <tr>\n",
       "      <th>3</th>\n",
       "      <td>Currently in bed writing this for the past hr ...</td>\n",
       "      <td>1</td>\n",
       "    </tr>\n",
       "    <tr>\n",
       "      <th>4</th>\n",
       "      <td>I live in Md and the Aloft is my Home away fro...</td>\n",
       "      <td>0</td>\n",
       "    </tr>\n",
       "  </tbody>\n",
       "</table>\n",
       "</div>"
      ],
      "text/plain": [
       "                                        reviews_text  is_bad_review\n",
       "0  Our experience at Rancho Valencia was absolute...              0\n",
       "1  Amazing place. Everyone was extremely warm and...              0\n",
       "2  We booked a 3 night stay at Rancho Valencia to...              0\n",
       "3  Currently in bed writing this for the past hr ...              1\n",
       "4  I live in Md and the Aloft is my Home away fro...              0"
      ]
     },
     "execution_count": 7,
     "metadata": {},
     "output_type": "execute_result"
    }
   ],
   "source": [
    "\n",
    "\n",
    "\n",
    "# append the positive and negative text reviews\n",
    "#reviews_df[\"review\"] = reviews_df[\"Negative_Review\"] + reviews_df[\"Positive_Review\"]\n",
    "# create the label\n",
    "data[\"is_bad_review\"] = data[\"reviews_rating\"].apply(lambda x: 1 if x < 4 else 0)\n",
    "# select only relevant columns\n",
    "reviews = data[[\"reviews_text\", \"is_bad_review\"]]\n",
    "reviews.head()"
   ]
  },
  {
   "cell_type": "code",
   "execution_count": 8,
   "id": "44696d26",
   "metadata": {
    "execution": {
     "iopub.execute_input": "2022-07-27T02:43:00.644094Z",
     "iopub.status.busy": "2022-07-27T02:43:00.643603Z",
     "iopub.status.idle": "2022-07-27T02:43:00.656251Z",
     "shell.execute_reply": "2022-07-27T02:43:00.654962Z"
    },
    "papermill": {
     "duration": 0.032602,
     "end_time": "2022-07-27T02:43:00.658719",
     "exception": false,
     "start_time": "2022-07-27T02:43:00.626117",
     "status": "completed"
    },
    "tags": []
   },
   "outputs": [
    {
     "data": {
      "text/plain": [
       "reviews_text     0\n",
       "is_bad_review    0\n",
       "dtype: int64"
      ]
     },
     "execution_count": 8,
     "metadata": {},
     "output_type": "execute_result"
    }
   ],
   "source": [
    "reviews.isnull().sum()"
   ]
  },
  {
   "cell_type": "code",
   "execution_count": 9,
   "id": "aa970a66",
   "metadata": {
    "execution": {
     "iopub.execute_input": "2022-07-27T02:43:00.693508Z",
     "iopub.status.busy": "2022-07-27T02:43:00.693035Z",
     "iopub.status.idle": "2022-07-27T02:43:00.709291Z",
     "shell.execute_reply": "2022-07-27T02:43:00.707538Z"
    },
    "papermill": {
     "duration": 0.037151,
     "end_time": "2022-07-27T02:43:00.711930",
     "exception": false,
     "start_time": "2022-07-27T02:43:00.674779",
     "status": "completed"
    },
    "tags": []
   },
   "outputs": [
    {
     "name": "stdout",
     "output_type": "stream",
     "text": [
      "<class 'pandas.core.frame.DataFrame'>\n",
      "Int64Index: 9998 entries, 0 to 9999\n",
      "Data columns (total 2 columns):\n",
      " #   Column         Non-Null Count  Dtype \n",
      "---  ------         --------------  ----- \n",
      " 0   reviews_text   9998 non-null   object\n",
      " 1   is_bad_review  9998 non-null   int64 \n",
      "dtypes: int64(1), object(1)\n",
      "memory usage: 234.3+ KB\n"
     ]
    }
   ],
   "source": [
    "#check the type \n",
    "reviews.info()"
   ]
  },
  {
   "cell_type": "code",
   "execution_count": 10,
   "id": "0cb2069d",
   "metadata": {
    "execution": {
     "iopub.execute_input": "2022-07-27T02:43:00.746765Z",
     "iopub.status.busy": "2022-07-27T02:43:00.746127Z",
     "iopub.status.idle": "2022-07-27T02:43:00.759674Z",
     "shell.execute_reply": "2022-07-27T02:43:00.758714Z"
    },
    "papermill": {
     "duration": 0.03429,
     "end_time": "2022-07-27T02:43:00.762417",
     "exception": false,
     "start_time": "2022-07-27T02:43:00.728127",
     "status": "completed"
    },
    "tags": []
   },
   "outputs": [
    {
     "name": "stderr",
     "output_type": "stream",
     "text": [
      "/opt/conda/lib/python3.7/site-packages/pandas/core/generic.py:5516: SettingWithCopyWarning: \n",
      "A value is trying to be set on a copy of a slice from a DataFrame.\n",
      "Try using .loc[row_indexer,col_indexer] = value instead\n",
      "\n",
      "See the caveats in the documentation: https://pandas.pydata.org/pandas-docs/stable/user_guide/indexing.html#returning-a-view-versus-a-copy\n",
      "  self[name] = value\n"
     ]
    }
   ],
   "source": [
    "reviews.reviews_text=reviews.reviews_text.astype(str)"
   ]
  },
  {
   "cell_type": "code",
   "execution_count": 11,
   "id": "559efb3b",
   "metadata": {
    "_uuid": "a4f04ca1ef2a8b8b98bdbba2a3563b776a583964",
    "execution": {
     "iopub.execute_input": "2022-07-27T02:43:00.798233Z",
     "iopub.status.busy": "2022-07-27T02:43:00.797733Z",
     "iopub.status.idle": "2022-07-27T02:43:00.802655Z",
     "shell.execute_reply": "2022-07-27T02:43:00.801476Z"
    },
    "papermill": {
     "duration": 0.02535,
     "end_time": "2022-07-27T02:43:00.804916",
     "exception": false,
     "start_time": "2022-07-27T02:43:00.779566",
     "status": "completed"
    },
    "tags": []
   },
   "outputs": [],
   "source": [
    "#reviews_df = reviews_df.sample(frac = 0.1, replace = False, random_state=42)"
   ]
  },
  {
   "cell_type": "markdown",
   "id": "b9898f47",
   "metadata": {
    "_uuid": "f57e5b9e22b0ac6d9a1fb98224da2d2417e991f4",
    "papermill": {
     "duration": 0.01551,
     "end_time": "2022-07-27T02:43:00.836527",
     "exception": false,
     "start_time": "2022-07-27T02:43:00.821017",
     "status": "completed"
    },
    "tags": []
   },
   "source": [
    "Reviews data is sampled in order to speed up computations."
   ]
  },
  {
   "cell_type": "markdown",
   "id": "a0c8dd1c",
   "metadata": {
    "_uuid": "0f2061b96461095869fe3cbd19ae10ca9c651482",
    "papermill": {
     "duration": 0.015618,
     "end_time": "2022-07-27T02:43:00.868146",
     "exception": false,
     "start_time": "2022-07-27T02:43:00.852528",
     "status": "completed"
    },
    "tags": []
   },
   "source": [
    "# Clean data"
   ]
  },
  {
   "cell_type": "code",
   "execution_count": 12,
   "id": "e180761d",
   "metadata": {
    "_uuid": "005e87154e11f530b58c56cac9f555c82493b906",
    "execution": {
     "iopub.execute_input": "2022-07-27T02:43:00.902593Z",
     "iopub.status.busy": "2022-07-27T02:43:00.902072Z",
     "iopub.status.idle": "2022-07-27T02:43:00.907548Z",
     "shell.execute_reply": "2022-07-27T02:43:00.906067Z"
    },
    "papermill": {
     "duration": 0.025798,
     "end_time": "2022-07-27T02:43:00.909988",
     "exception": false,
     "start_time": "2022-07-27T02:43:00.884190",
     "status": "completed"
    },
    "tags": []
   },
   "outputs": [],
   "source": [
    "# remove 'No Negative' or 'No Positive' from text\n",
    "#df_reviews[\"reviews_text\"] = df_reviews[\"reviews_text\"].apply(lambda x: x.replace(\"No Negative\", \"\").replace(\"No Positive\", \"\"))"
   ]
  },
  {
   "cell_type": "markdown",
   "id": "5e9c652d",
   "metadata": {
    "_uuid": "256f6d920bcb8b50725cb93488a9e7be4c772349",
    "papermill": {
     "duration": 0.015771,
     "end_time": "2022-07-27T02:43:00.942279",
     "exception": false,
     "start_time": "2022-07-27T02:43:00.926508",
     "status": "completed"
    },
    "tags": []
   },
   "source": [
    "If the user doesn't leave any negative feedback comment, this will appear as \"No Negative\" in our data. This is the same for the positive comments with the default value \"No Positive\". We have to remove those parts from our texts.\n",
    "\n",
    "The next step consists in cleaning the text data with various operations:"
   ]
  },
  {
   "cell_type": "code",
   "execution_count": 13,
   "id": "e471d718",
   "metadata": {
    "execution": {
     "iopub.execute_input": "2022-07-27T02:43:00.977559Z",
     "iopub.status.busy": "2022-07-27T02:43:00.977065Z",
     "iopub.status.idle": "2022-07-27T02:43:03.236920Z",
     "shell.execute_reply": "2022-07-27T02:43:03.235609Z"
    },
    "papermill": {
     "duration": 2.281191,
     "end_time": "2022-07-27T02:43:03.239746",
     "exception": false,
     "start_time": "2022-07-27T02:43:00.958555",
     "status": "completed"
    },
    "tags": []
   },
   "outputs": [
    {
     "name": "stderr",
     "output_type": "stream",
     "text": [
      "[nltk_data] Downloading package omw-1.4 to /usr/share/nltk_data...\n"
     ]
    },
    {
     "data": {
      "text/plain": [
       "True"
      ]
     },
     "execution_count": 13,
     "metadata": {},
     "output_type": "execute_result"
    }
   ],
   "source": [
    "import nltk\n",
    "nltk.download('omw-1.4')"
   ]
  },
  {
   "cell_type": "code",
   "execution_count": 14,
   "id": "81a7e78e",
   "metadata": {
    "_uuid": "2d51a84a81d55c527dbd56b42201f5df3d444ce5",
    "execution": {
     "iopub.execute_input": "2022-07-27T02:43:03.275845Z",
     "iopub.status.busy": "2022-07-27T02:43:03.274776Z",
     "iopub.status.idle": "2022-07-27T02:43:36.521433Z",
     "shell.execute_reply": "2022-07-27T02:43:36.520084Z"
    },
    "papermill": {
     "duration": 33.284727,
     "end_time": "2022-07-27T02:43:36.541536",
     "exception": false,
     "start_time": "2022-07-27T02:43:03.256809",
     "status": "completed"
    },
    "tags": []
   },
   "outputs": [
    {
     "name": "stderr",
     "output_type": "stream",
     "text": [
      "/opt/conda/lib/python3.7/site-packages/ipykernel_launcher.py:45: SettingWithCopyWarning: \n",
      "A value is trying to be set on a copy of a slice from a DataFrame.\n",
      "Try using .loc[row_indexer,col_indexer] = value instead\n",
      "\n",
      "See the caveats in the documentation: https://pandas.pydata.org/pandas-docs/stable/user_guide/indexing.html#returning-a-view-versus-a-copy\n"
     ]
    }
   ],
   "source": [
    "# return the wordnet object value corresponding to the POS tag\n",
    "from nltk.corpus import wordnet\n",
    "\n",
    "def get_wordnet_pos(pos_tag):\n",
    "    if pos_tag.startswith('J'):\n",
    "        return wordnet.ADJ\n",
    "    elif pos_tag.startswith('V'):\n",
    "        return wordnet.VERB\n",
    "    elif pos_tag.startswith('N'):\n",
    "        return wordnet.NOUN\n",
    "    elif pos_tag.startswith('R'):\n",
    "        return wordnet.ADV\n",
    "    else:\n",
    "        return wordnet.NOUN\n",
    "    \n",
    "import string\n",
    "from nltk import pos_tag\n",
    "from nltk.corpus import stopwords\n",
    "from nltk.tokenize import WhitespaceTokenizer\n",
    "from nltk.stem import WordNetLemmatizer\n",
    "\n",
    "def clean_text(text):\n",
    "    # lower text\n",
    "    text = text.lower()\n",
    "    # tokenize text and remove puncutation\n",
    "    text = [word.strip(string.punctuation) for word in text.split(\" \")]\n",
    "    # remove words that contain numbers\n",
    "    text = [word for word in text if not any(c.isdigit() for c in word)]\n",
    "    # remove stop words\n",
    "    stop = stopwords.words('english')\n",
    "    text = [x for x in text if x not in stop]\n",
    "    # remove empty tokens\n",
    "    text = [t for t in text if len(t) > 0]\n",
    "    # pos tag text\n",
    "    pos_tags = pos_tag(text)\n",
    "    # lemmatize text\n",
    "    text = [WordNetLemmatizer().lemmatize(t[0], get_wordnet_pos(t[1])) for t in pos_tags]\n",
    "    # remove words with only one letter\n",
    "    text = [t for t in text if len(t) > 1]\n",
    "    # join all\n",
    "    text = \" \".join(text)\n",
    "    return(text)\n",
    "\n",
    "# clean text data\n",
    "reviews[\"review_clean\"] = reviews[\"reviews_text\"].apply(lambda x: clean_text(x))"
   ]
  },
  {
   "cell_type": "code",
   "execution_count": 15,
   "id": "a874d449",
   "metadata": {
    "execution": {
     "iopub.execute_input": "2022-07-27T02:43:36.577512Z",
     "iopub.status.busy": "2022-07-27T02:43:36.576584Z",
     "iopub.status.idle": "2022-07-27T02:43:36.589637Z",
     "shell.execute_reply": "2022-07-27T02:43:36.588407Z"
    },
    "papermill": {
     "duration": 0.033059,
     "end_time": "2022-07-27T02:43:36.591831",
     "exception": false,
     "start_time": "2022-07-27T02:43:36.558772",
     "status": "completed"
    },
    "tags": []
   },
   "outputs": [
    {
     "data": {
      "text/html": [
       "<div>\n",
       "<style scoped>\n",
       "    .dataframe tbody tr th:only-of-type {\n",
       "        vertical-align: middle;\n",
       "    }\n",
       "\n",
       "    .dataframe tbody tr th {\n",
       "        vertical-align: top;\n",
       "    }\n",
       "\n",
       "    .dataframe thead th {\n",
       "        text-align: right;\n",
       "    }\n",
       "</style>\n",
       "<table border=\"1\" class=\"dataframe\">\n",
       "  <thead>\n",
       "    <tr style=\"text-align: right;\">\n",
       "      <th></th>\n",
       "      <th>reviews_text</th>\n",
       "      <th>is_bad_review</th>\n",
       "      <th>review_clean</th>\n",
       "    </tr>\n",
       "  </thead>\n",
       "  <tbody>\n",
       "    <tr>\n",
       "      <th>0</th>\n",
       "      <td>Our experience at Rancho Valencia was absolute...</td>\n",
       "      <td>0</td>\n",
       "      <td>experience rancho valencia absolutely perfect ...</td>\n",
       "    </tr>\n",
       "    <tr>\n",
       "      <th>1</th>\n",
       "      <td>Amazing place. Everyone was extremely warm and...</td>\n",
       "      <td>0</td>\n",
       "      <td>amazing place everyone extremely warm welcomin...</td>\n",
       "    </tr>\n",
       "    <tr>\n",
       "      <th>2</th>\n",
       "      <td>We booked a 3 night stay at Rancho Valencia to...</td>\n",
       "      <td>0</td>\n",
       "      <td>book night stay rancho valencia play tennis si...</td>\n",
       "    </tr>\n",
       "    <tr>\n",
       "      <th>3</th>\n",
       "      <td>Currently in bed writing this for the past hr ...</td>\n",
       "      <td>1</td>\n",
       "      <td>currently bed write past hr dog bark squeal ca...</td>\n",
       "    </tr>\n",
       "    <tr>\n",
       "      <th>4</th>\n",
       "      <td>I live in Md and the Aloft is my Home away fro...</td>\n",
       "      <td>0</td>\n",
       "      <td>live md aloft home away home...we stayed night...</td>\n",
       "    </tr>\n",
       "  </tbody>\n",
       "</table>\n",
       "</div>"
      ],
      "text/plain": [
       "                                        reviews_text  is_bad_review  \\\n",
       "0  Our experience at Rancho Valencia was absolute...              0   \n",
       "1  Amazing place. Everyone was extremely warm and...              0   \n",
       "2  We booked a 3 night stay at Rancho Valencia to...              0   \n",
       "3  Currently in bed writing this for the past hr ...              1   \n",
       "4  I live in Md and the Aloft is my Home away fro...              0   \n",
       "\n",
       "                                        review_clean  \n",
       "0  experience rancho valencia absolutely perfect ...  \n",
       "1  amazing place everyone extremely warm welcomin...  \n",
       "2  book night stay rancho valencia play tennis si...  \n",
       "3  currently bed write past hr dog bark squeal ca...  \n",
       "4  live md aloft home away home...we stayed night...  "
      ]
     },
     "execution_count": 15,
     "metadata": {},
     "output_type": "execute_result"
    }
   ],
   "source": [
    "reviews.head()"
   ]
  },
  {
   "cell_type": "markdown",
   "id": "b43555e9",
   "metadata": {
    "_uuid": "ab1d87cea172f979af13ba58cafed1302267b183",
    "papermill": {
     "duration": 0.016063,
     "end_time": "2022-07-27T02:43:36.624437",
     "exception": false,
     "start_time": "2022-07-27T02:43:36.608374",
     "status": "completed"
    },
    "tags": []
   },
   "source": [
    "To clean textual data, we call our custom 'clean_text' function that performs several transformations:\n",
    "- lower the text\n",
    "- tokenize the text (split the text into words) and remove the punctuation\n",
    "- remove useless words that contain numbers\n",
    "- remove useless stop words like 'the', 'a' ,'this' etc.\n",
    "- Part-Of-Speech (POS) tagging: assign a tag to every word to define if it corresponds to a noun, a verb etc. using the WordNet lexical database\n",
    "- lemmatize the text: transform every word into their root form (e.g. rooms -> room, slept -> sleep)\n",
    "\n",
    "Now that we have cleaned our data, we can do some feature engineering for our modelization part."
   ]
  },
  {
   "cell_type": "markdown",
   "id": "9123f261",
   "metadata": {
    "_uuid": "79ed7c7647f7868d74bb5b3267a77914539dd61d",
    "papermill": {
     "duration": 0.016001,
     "end_time": "2022-07-27T02:43:36.656728",
     "exception": false,
     "start_time": "2022-07-27T02:43:36.640727",
     "status": "completed"
    },
    "tags": []
   },
   "source": [
    "# Feature engineering"
   ]
  },
  {
   "cell_type": "code",
   "execution_count": 16,
   "id": "746dda8d",
   "metadata": {
    "_uuid": "edbc356b3b7289c9aaafeafb41c11eb7c5a601f7",
    "execution": {
     "iopub.execute_input": "2022-07-27T02:43:36.692029Z",
     "iopub.status.busy": "2022-07-27T02:43:36.691279Z",
     "iopub.status.idle": "2022-07-27T02:43:48.077582Z",
     "shell.execute_reply": "2022-07-27T02:43:48.076025Z"
    },
    "papermill": {
     "duration": 11.407732,
     "end_time": "2022-07-27T02:43:48.080818",
     "exception": false,
     "start_time": "2022-07-27T02:43:36.673086",
     "status": "completed"
    },
    "tags": []
   },
   "outputs": [
    {
     "name": "stderr",
     "output_type": "stream",
     "text": [
      "/opt/conda/lib/python3.7/site-packages/ipykernel_launcher.py:5: SettingWithCopyWarning: \n",
      "A value is trying to be set on a copy of a slice from a DataFrame.\n",
      "Try using .loc[row_indexer,col_indexer] = value instead\n",
      "\n",
      "See the caveats in the documentation: https://pandas.pydata.org/pandas-docs/stable/user_guide/indexing.html#returning-a-view-versus-a-copy\n",
      "  \"\"\"\n"
     ]
    }
   ],
   "source": [
    "# add sentiment anaylsis columns\n",
    "from nltk.sentiment.vader import SentimentIntensityAnalyzer\n",
    "\n",
    "sid = SentimentIntensityAnalyzer()\n",
    "reviews[\"sentiments\"] = reviews[\"reviews_text\"].apply(lambda x: sid.polarity_scores(x))\n",
    "reviews = pd.concat([reviews.drop(['sentiments'], axis=1), reviews['sentiments'].apply(pd.Series)], axis=1)"
   ]
  },
  {
   "cell_type": "code",
   "execution_count": 17,
   "id": "b6ad5527",
   "metadata": {
    "execution": {
     "iopub.execute_input": "2022-07-27T02:43:48.117197Z",
     "iopub.status.busy": "2022-07-27T02:43:48.116724Z",
     "iopub.status.idle": "2022-07-27T02:43:48.133600Z",
     "shell.execute_reply": "2022-07-27T02:43:48.132277Z"
    },
    "papermill": {
     "duration": 0.037759,
     "end_time": "2022-07-27T02:43:48.136160",
     "exception": false,
     "start_time": "2022-07-27T02:43:48.098401",
     "status": "completed"
    },
    "tags": []
   },
   "outputs": [
    {
     "data": {
      "text/html": [
       "<div>\n",
       "<style scoped>\n",
       "    .dataframe tbody tr th:only-of-type {\n",
       "        vertical-align: middle;\n",
       "    }\n",
       "\n",
       "    .dataframe tbody tr th {\n",
       "        vertical-align: top;\n",
       "    }\n",
       "\n",
       "    .dataframe thead th {\n",
       "        text-align: right;\n",
       "    }\n",
       "</style>\n",
       "<table border=\"1\" class=\"dataframe\">\n",
       "  <thead>\n",
       "    <tr style=\"text-align: right;\">\n",
       "      <th></th>\n",
       "      <th>reviews_text</th>\n",
       "      <th>is_bad_review</th>\n",
       "      <th>review_clean</th>\n",
       "      <th>neg</th>\n",
       "      <th>neu</th>\n",
       "      <th>pos</th>\n",
       "      <th>compound</th>\n",
       "    </tr>\n",
       "  </thead>\n",
       "  <tbody>\n",
       "    <tr>\n",
       "      <th>0</th>\n",
       "      <td>Our experience at Rancho Valencia was absolute...</td>\n",
       "      <td>0</td>\n",
       "      <td>experience rancho valencia absolutely perfect ...</td>\n",
       "      <td>0.0</td>\n",
       "      <td>0.669</td>\n",
       "      <td>0.331</td>\n",
       "      <td>0.9162</td>\n",
       "    </tr>\n",
       "    <tr>\n",
       "      <th>1</th>\n",
       "      <td>Amazing place. Everyone was extremely warm and...</td>\n",
       "      <td>0</td>\n",
       "      <td>amazing place everyone extremely warm welcomin...</td>\n",
       "      <td>0.0</td>\n",
       "      <td>0.654</td>\n",
       "      <td>0.346</td>\n",
       "      <td>0.9650</td>\n",
       "    </tr>\n",
       "    <tr>\n",
       "      <th>2</th>\n",
       "      <td>We booked a 3 night stay at Rancho Valencia to...</td>\n",
       "      <td>0</td>\n",
       "      <td>book night stay rancho valencia play tennis si...</td>\n",
       "      <td>0.0</td>\n",
       "      <td>0.727</td>\n",
       "      <td>0.273</td>\n",
       "      <td>0.9748</td>\n",
       "    </tr>\n",
       "    <tr>\n",
       "      <th>3</th>\n",
       "      <td>Currently in bed writing this for the past hr ...</td>\n",
       "      <td>1</td>\n",
       "      <td>currently bed write past hr dog bark squeal ca...</td>\n",
       "      <td>0.0</td>\n",
       "      <td>1.000</td>\n",
       "      <td>0.000</td>\n",
       "      <td>0.0000</td>\n",
       "    </tr>\n",
       "    <tr>\n",
       "      <th>4</th>\n",
       "      <td>I live in Md and the Aloft is my Home away fro...</td>\n",
       "      <td>0</td>\n",
       "      <td>live md aloft home away home...we stayed night...</td>\n",
       "      <td>0.0</td>\n",
       "      <td>0.838</td>\n",
       "      <td>0.162</td>\n",
       "      <td>0.8713</td>\n",
       "    </tr>\n",
       "  </tbody>\n",
       "</table>\n",
       "</div>"
      ],
      "text/plain": [
       "                                        reviews_text  is_bad_review  \\\n",
       "0  Our experience at Rancho Valencia was absolute...              0   \n",
       "1  Amazing place. Everyone was extremely warm and...              0   \n",
       "2  We booked a 3 night stay at Rancho Valencia to...              0   \n",
       "3  Currently in bed writing this for the past hr ...              1   \n",
       "4  I live in Md and the Aloft is my Home away fro...              0   \n",
       "\n",
       "                                        review_clean  neg    neu    pos  \\\n",
       "0  experience rancho valencia absolutely perfect ...  0.0  0.669  0.331   \n",
       "1  amazing place everyone extremely warm welcomin...  0.0  0.654  0.346   \n",
       "2  book night stay rancho valencia play tennis si...  0.0  0.727  0.273   \n",
       "3  currently bed write past hr dog bark squeal ca...  0.0  1.000  0.000   \n",
       "4  live md aloft home away home...we stayed night...  0.0  0.838  0.162   \n",
       "\n",
       "   compound  \n",
       "0    0.9162  \n",
       "1    0.9650  \n",
       "2    0.9748  \n",
       "3    0.0000  \n",
       "4    0.8713  "
      ]
     },
     "execution_count": 17,
     "metadata": {},
     "output_type": "execute_result"
    }
   ],
   "source": [
    "reviews.head()"
   ]
  },
  {
   "cell_type": "markdown",
   "id": "2bd60fde",
   "metadata": {
    "_uuid": "0c9161a58d443d38ca818ef7deb128cc92359b5c",
    "papermill": {
     "duration": 0.016603,
     "end_time": "2022-07-27T02:43:48.169862",
     "exception": false,
     "start_time": "2022-07-27T02:43:48.153259",
     "status": "completed"
    },
    "tags": []
   },
   "source": [
    "We first start by adding sentiment analysis features because we can guess that customers reviews are highly linked to how they felt about their stay at the hotel. We use Vader, which is a part of the NLTK module designed for sentiment analysis. Vader uses a lexicon of words to find which ones are positives or negatives. It also takes into accout the context of the sentences to determine the sentiment scores. For each text, Vader retuns 4 values:\n",
    "- a neutrality score\n",
    "- a positivity score\n",
    "- a negativity score\n",
    "- an overall score that summarizes the previous scores\n",
    "\n",
    "We will integrate those 4 values as features in our dataset."
   ]
  },
  {
   "cell_type": "code",
   "execution_count": 18,
   "id": "6cb73256",
   "metadata": {
    "_uuid": "183c8e5ad5659fea721bed9cdf40b45757f49721",
    "execution": {
     "iopub.execute_input": "2022-07-27T02:43:48.205877Z",
     "iopub.status.busy": "2022-07-27T02:43:48.205433Z",
     "iopub.status.idle": "2022-07-27T02:43:48.277654Z",
     "shell.execute_reply": "2022-07-27T02:43:48.276413Z"
    },
    "papermill": {
     "duration": 0.093773,
     "end_time": "2022-07-27T02:43:48.280565",
     "exception": false,
     "start_time": "2022-07-27T02:43:48.186792",
     "status": "completed"
    },
    "tags": []
   },
   "outputs": [
    {
     "data": {
      "text/html": [
       "<div>\n",
       "<style scoped>\n",
       "    .dataframe tbody tr th:only-of-type {\n",
       "        vertical-align: middle;\n",
       "    }\n",
       "\n",
       "    .dataframe tbody tr th {\n",
       "        vertical-align: top;\n",
       "    }\n",
       "\n",
       "    .dataframe thead th {\n",
       "        text-align: right;\n",
       "    }\n",
       "</style>\n",
       "<table border=\"1\" class=\"dataframe\">\n",
       "  <thead>\n",
       "    <tr style=\"text-align: right;\">\n",
       "      <th></th>\n",
       "      <th>reviews_text</th>\n",
       "      <th>is_bad_review</th>\n",
       "      <th>review_clean</th>\n",
       "      <th>neg</th>\n",
       "      <th>neu</th>\n",
       "      <th>pos</th>\n",
       "      <th>compound</th>\n",
       "      <th>nb_chars</th>\n",
       "      <th>nb_words</th>\n",
       "    </tr>\n",
       "  </thead>\n",
       "  <tbody>\n",
       "    <tr>\n",
       "      <th>0</th>\n",
       "      <td>Our experience at Rancho Valencia was absolute...</td>\n",
       "      <td>0</td>\n",
       "      <td>experience rancho valencia absolutely perfect ...</td>\n",
       "      <td>0.0</td>\n",
       "      <td>0.669</td>\n",
       "      <td>0.331</td>\n",
       "      <td>0.9162</td>\n",
       "      <td>169</td>\n",
       "      <td>29</td>\n",
       "    </tr>\n",
       "    <tr>\n",
       "      <th>1</th>\n",
       "      <td>Amazing place. Everyone was extremely warm and...</td>\n",
       "      <td>0</td>\n",
       "      <td>amazing place everyone extremely warm welcomin...</td>\n",
       "      <td>0.0</td>\n",
       "      <td>0.654</td>\n",
       "      <td>0.346</td>\n",
       "      <td>0.9650</td>\n",
       "      <td>283</td>\n",
       "      <td>52</td>\n",
       "    </tr>\n",
       "    <tr>\n",
       "      <th>2</th>\n",
       "      <td>We booked a 3 night stay at Rancho Valencia to...</td>\n",
       "      <td>0</td>\n",
       "      <td>book night stay rancho valencia play tennis si...</td>\n",
       "      <td>0.0</td>\n",
       "      <td>0.727</td>\n",
       "      <td>0.273</td>\n",
       "      <td>0.9748</td>\n",
       "      <td>471</td>\n",
       "      <td>81</td>\n",
       "    </tr>\n",
       "    <tr>\n",
       "      <th>3</th>\n",
       "      <td>Currently in bed writing this for the past hr ...</td>\n",
       "      <td>1</td>\n",
       "      <td>currently bed write past hr dog bark squeal ca...</td>\n",
       "      <td>0.0</td>\n",
       "      <td>1.000</td>\n",
       "      <td>0.000</td>\n",
       "      <td>0.0000</td>\n",
       "      <td>198</td>\n",
       "      <td>37</td>\n",
       "    </tr>\n",
       "    <tr>\n",
       "      <th>4</th>\n",
       "      <td>I live in Md and the Aloft is my Home away fro...</td>\n",
       "      <td>0</td>\n",
       "      <td>live md aloft home away home...we stayed night...</td>\n",
       "      <td>0.0</td>\n",
       "      <td>0.838</td>\n",
       "      <td>0.162</td>\n",
       "      <td>0.8713</td>\n",
       "      <td>307</td>\n",
       "      <td>58</td>\n",
       "    </tr>\n",
       "  </tbody>\n",
       "</table>\n",
       "</div>"
      ],
      "text/plain": [
       "                                        reviews_text  is_bad_review  \\\n",
       "0  Our experience at Rancho Valencia was absolute...              0   \n",
       "1  Amazing place. Everyone was extremely warm and...              0   \n",
       "2  We booked a 3 night stay at Rancho Valencia to...              0   \n",
       "3  Currently in bed writing this for the past hr ...              1   \n",
       "4  I live in Md and the Aloft is my Home away fro...              0   \n",
       "\n",
       "                                        review_clean  neg    neu    pos  \\\n",
       "0  experience rancho valencia absolutely perfect ...  0.0  0.669  0.331   \n",
       "1  amazing place everyone extremely warm welcomin...  0.0  0.654  0.346   \n",
       "2  book night stay rancho valencia play tennis si...  0.0  0.727  0.273   \n",
       "3  currently bed write past hr dog bark squeal ca...  0.0  1.000  0.000   \n",
       "4  live md aloft home away home...we stayed night...  0.0  0.838  0.162   \n",
       "\n",
       "   compound  nb_chars  nb_words  \n",
       "0    0.9162       169        29  \n",
       "1    0.9650       283        52  \n",
       "2    0.9748       471        81  \n",
       "3    0.0000       198        37  \n",
       "4    0.8713       307        58  "
      ]
     },
     "execution_count": 18,
     "metadata": {},
     "output_type": "execute_result"
    }
   ],
   "source": [
    "# add number of characters column\n",
    "reviews[\"nb_chars\"] = reviews[\"reviews_text\"].apply(lambda x: len(x))\n",
    "\n",
    "# add number of words column\n",
    "reviews[\"nb_words\"] = reviews[\"reviews_text\"].apply(lambda x: len(x.split(\" \")))\n",
    "\n",
    "reviews.head()"
   ]
  },
  {
   "cell_type": "markdown",
   "id": "0432d02f",
   "metadata": {
    "_uuid": "892e8afaecce1fbfcbd61cfc5cbfea2a122c0296",
    "papermill": {
     "duration": 0.017131,
     "end_time": "2022-07-27T02:43:48.315486",
     "exception": false,
     "start_time": "2022-07-27T02:43:48.298355",
     "status": "completed"
    },
    "tags": []
   },
   "source": [
    "Next, we add some simple metrics for every text:\n",
    "- number of characters in the text\n",
    "- number of words in the text"
   ]
  },
  {
   "cell_type": "code",
   "execution_count": 19,
   "id": "c8c68dec",
   "metadata": {
    "_uuid": "905b125a775fa13b20d869443dc439d324a124b7",
    "execution": {
     "iopub.execute_input": "2022-07-27T02:43:48.352729Z",
     "iopub.status.busy": "2022-07-27T02:43:48.352300Z",
     "iopub.status.idle": "2022-07-27T02:44:12.655173Z",
     "shell.execute_reply": "2022-07-27T02:44:12.653892Z"
    },
    "papermill": {
     "duration": 24.325519,
     "end_time": "2022-07-27T02:44:12.658473",
     "exception": false,
     "start_time": "2022-07-27T02:43:48.332954",
     "status": "completed"
    },
    "tags": []
   },
   "outputs": [],
   "source": [
    "# create doc2vec vector columns\n",
    "from gensim.test.utils import common_texts\n",
    "from gensim.models.doc2vec import Doc2Vec, TaggedDocument\n",
    "\n",
    "documents = [TaggedDocument(doc, [i]) for i, doc in enumerate(reviews[\"review_clean\"].apply(lambda x: x.split(\" \")))]\n",
    "\n",
    "# train a Doc2Vec model with our text data\n",
    "model = Doc2Vec(documents, vector_size=5, window=2, min_count=1, workers=4)\n",
    "\n",
    "# transform each document into a vector data\n",
    "doc2vec_df = reviews[\"review_clean\"].apply(lambda x: model.infer_vector(x.split(\" \"))).apply(pd.Series)\n",
    "doc2vec_df.columns = [\"doc2vec_vector_\" + str(x) for x in doc2vec_df.columns]\n",
    "reviews = pd.concat([reviews, doc2vec_df], axis=1)"
   ]
  },
  {
   "cell_type": "code",
   "execution_count": 20,
   "id": "65ea26b2",
   "metadata": {
    "execution": {
     "iopub.execute_input": "2022-07-27T02:44:12.696723Z",
     "iopub.status.busy": "2022-07-27T02:44:12.695639Z",
     "iopub.status.idle": "2022-07-27T02:44:12.717253Z",
     "shell.execute_reply": "2022-07-27T02:44:12.715989Z"
    },
    "papermill": {
     "duration": 0.043614,
     "end_time": "2022-07-27T02:44:12.719920",
     "exception": false,
     "start_time": "2022-07-27T02:44:12.676306",
     "status": "completed"
    },
    "tags": []
   },
   "outputs": [
    {
     "data": {
      "text/html": [
       "<div>\n",
       "<style scoped>\n",
       "    .dataframe tbody tr th:only-of-type {\n",
       "        vertical-align: middle;\n",
       "    }\n",
       "\n",
       "    .dataframe tbody tr th {\n",
       "        vertical-align: top;\n",
       "    }\n",
       "\n",
       "    .dataframe thead th {\n",
       "        text-align: right;\n",
       "    }\n",
       "</style>\n",
       "<table border=\"1\" class=\"dataframe\">\n",
       "  <thead>\n",
       "    <tr style=\"text-align: right;\">\n",
       "      <th></th>\n",
       "      <th>reviews_text</th>\n",
       "      <th>is_bad_review</th>\n",
       "      <th>review_clean</th>\n",
       "      <th>neg</th>\n",
       "      <th>neu</th>\n",
       "      <th>pos</th>\n",
       "      <th>compound</th>\n",
       "      <th>nb_chars</th>\n",
       "      <th>nb_words</th>\n",
       "      <th>doc2vec_vector_0</th>\n",
       "      <th>doc2vec_vector_1</th>\n",
       "      <th>doc2vec_vector_2</th>\n",
       "      <th>doc2vec_vector_3</th>\n",
       "      <th>doc2vec_vector_4</th>\n",
       "    </tr>\n",
       "  </thead>\n",
       "  <tbody>\n",
       "    <tr>\n",
       "      <th>0</th>\n",
       "      <td>Our experience at Rancho Valencia was absolute...</td>\n",
       "      <td>0</td>\n",
       "      <td>experience rancho valencia absolutely perfect ...</td>\n",
       "      <td>0.0</td>\n",
       "      <td>0.669</td>\n",
       "      <td>0.331</td>\n",
       "      <td>0.9162</td>\n",
       "      <td>169</td>\n",
       "      <td>29</td>\n",
       "      <td>-0.005281</td>\n",
       "      <td>-0.364853</td>\n",
       "      <td>0.192835</td>\n",
       "      <td>-0.214701</td>\n",
       "      <td>-0.064165</td>\n",
       "    </tr>\n",
       "    <tr>\n",
       "      <th>1</th>\n",
       "      <td>Amazing place. Everyone was extremely warm and...</td>\n",
       "      <td>0</td>\n",
       "      <td>amazing place everyone extremely warm welcomin...</td>\n",
       "      <td>0.0</td>\n",
       "      <td>0.654</td>\n",
       "      <td>0.346</td>\n",
       "      <td>0.9650</td>\n",
       "      <td>283</td>\n",
       "      <td>52</td>\n",
       "      <td>0.063424</td>\n",
       "      <td>-0.125081</td>\n",
       "      <td>0.197462</td>\n",
       "      <td>-0.258637</td>\n",
       "      <td>-0.251291</td>\n",
       "    </tr>\n",
       "    <tr>\n",
       "      <th>2</th>\n",
       "      <td>We booked a 3 night stay at Rancho Valencia to...</td>\n",
       "      <td>0</td>\n",
       "      <td>book night stay rancho valencia play tennis si...</td>\n",
       "      <td>0.0</td>\n",
       "      <td>0.727</td>\n",
       "      <td>0.273</td>\n",
       "      <td>0.9748</td>\n",
       "      <td>471</td>\n",
       "      <td>81</td>\n",
       "      <td>0.296176</td>\n",
       "      <td>0.430764</td>\n",
       "      <td>0.553954</td>\n",
       "      <td>-0.563485</td>\n",
       "      <td>-0.432367</td>\n",
       "    </tr>\n",
       "    <tr>\n",
       "      <th>3</th>\n",
       "      <td>Currently in bed writing this for the past hr ...</td>\n",
       "      <td>1</td>\n",
       "      <td>currently bed write past hr dog bark squeal ca...</td>\n",
       "      <td>0.0</td>\n",
       "      <td>1.000</td>\n",
       "      <td>0.000</td>\n",
       "      <td>0.0000</td>\n",
       "      <td>198</td>\n",
       "      <td>37</td>\n",
       "      <td>0.396732</td>\n",
       "      <td>0.032271</td>\n",
       "      <td>0.059145</td>\n",
       "      <td>-0.141958</td>\n",
       "      <td>-0.139376</td>\n",
       "    </tr>\n",
       "    <tr>\n",
       "      <th>4</th>\n",
       "      <td>I live in Md and the Aloft is my Home away fro...</td>\n",
       "      <td>0</td>\n",
       "      <td>live md aloft home away home...we stayed night...</td>\n",
       "      <td>0.0</td>\n",
       "      <td>0.838</td>\n",
       "      <td>0.162</td>\n",
       "      <td>0.8713</td>\n",
       "      <td>307</td>\n",
       "      <td>58</td>\n",
       "      <td>0.286701</td>\n",
       "      <td>-0.124483</td>\n",
       "      <td>0.238912</td>\n",
       "      <td>-0.511139</td>\n",
       "      <td>-0.340605</td>\n",
       "    </tr>\n",
       "  </tbody>\n",
       "</table>\n",
       "</div>"
      ],
      "text/plain": [
       "                                        reviews_text  is_bad_review  \\\n",
       "0  Our experience at Rancho Valencia was absolute...              0   \n",
       "1  Amazing place. Everyone was extremely warm and...              0   \n",
       "2  We booked a 3 night stay at Rancho Valencia to...              0   \n",
       "3  Currently in bed writing this for the past hr ...              1   \n",
       "4  I live in Md and the Aloft is my Home away fro...              0   \n",
       "\n",
       "                                        review_clean  neg    neu    pos  \\\n",
       "0  experience rancho valencia absolutely perfect ...  0.0  0.669  0.331   \n",
       "1  amazing place everyone extremely warm welcomin...  0.0  0.654  0.346   \n",
       "2  book night stay rancho valencia play tennis si...  0.0  0.727  0.273   \n",
       "3  currently bed write past hr dog bark squeal ca...  0.0  1.000  0.000   \n",
       "4  live md aloft home away home...we stayed night...  0.0  0.838  0.162   \n",
       "\n",
       "   compound  nb_chars  nb_words  doc2vec_vector_0  doc2vec_vector_1  \\\n",
       "0    0.9162       169        29         -0.005281         -0.364853   \n",
       "1    0.9650       283        52          0.063424         -0.125081   \n",
       "2    0.9748       471        81          0.296176          0.430764   \n",
       "3    0.0000       198        37          0.396732          0.032271   \n",
       "4    0.8713       307        58          0.286701         -0.124483   \n",
       "\n",
       "   doc2vec_vector_2  doc2vec_vector_3  doc2vec_vector_4  \n",
       "0          0.192835         -0.214701         -0.064165  \n",
       "1          0.197462         -0.258637         -0.251291  \n",
       "2          0.553954         -0.563485         -0.432367  \n",
       "3          0.059145         -0.141958         -0.139376  \n",
       "4          0.238912         -0.511139         -0.340605  "
      ]
     },
     "execution_count": 20,
     "metadata": {},
     "output_type": "execute_result"
    }
   ],
   "source": [
    "reviews.head()"
   ]
  },
  {
   "cell_type": "markdown",
   "id": "581f8334",
   "metadata": {
    "_uuid": "0b1c2be5745ae8ecf348212b5af359f3c9ce09c1",
    "papermill": {
     "duration": 0.017632,
     "end_time": "2022-07-27T02:44:12.755382",
     "exception": false,
     "start_time": "2022-07-27T02:44:12.737750",
     "status": "completed"
    },
    "tags": []
   },
   "source": [
    "The next step consist in extracting vector representations for every review. The module Gensim creates a numerical vector representation of every word in the corpus by using the contexts in which they appear (Word2Vec). This is performed using shallow neural networks. What's interesting is that similar words will have similar representation vectors.\n",
    "\n",
    "Each text can also be transformed into numerical vectors using the word vectors (Doc2Vec). Same texts will also have similar representations and that is why we can use those vectors as training features.\n",
    "\n",
    "We first have to train a Doc2Vec model by feeding in our text data. By applying this model on our reviews, we can get those representation vectors."
   ]
  },
  {
   "cell_type": "code",
   "execution_count": 21,
   "id": "4046a5f0",
   "metadata": {
    "_uuid": "2a2b0d4e04270e1249ec4436dce176573be2c147",
    "execution": {
     "iopub.execute_input": "2022-07-27T02:44:12.794861Z",
     "iopub.status.busy": "2022-07-27T02:44:12.794040Z",
     "iopub.status.idle": "2022-07-27T02:44:13.865908Z",
     "shell.execute_reply": "2022-07-27T02:44:13.864558Z"
    },
    "papermill": {
     "duration": 1.095254,
     "end_time": "2022-07-27T02:44:13.869067",
     "exception": false,
     "start_time": "2022-07-27T02:44:12.773813",
     "status": "completed"
    },
    "tags": []
   },
   "outputs": [
    {
     "name": "stderr",
     "output_type": "stream",
     "text": [
      "/opt/conda/lib/python3.7/site-packages/sklearn/utils/deprecation.py:87: FutureWarning: Function get_feature_names is deprecated; get_feature_names is deprecated in 1.0 and will be removed in 1.2. Please use get_feature_names_out instead.\n",
      "  warnings.warn(msg, category=FutureWarning)\n"
     ]
    }
   ],
   "source": [
    "# add tf-idfs columns\n",
    "from sklearn.feature_extraction.text import TfidfVectorizer\n",
    "tfidf = TfidfVectorizer(min_df = 10)\n",
    "tfidf_result = tfidf.fit_transform(reviews[\"review_clean\"]).toarray()\n",
    "tfidf_df = pd.DataFrame(tfidf_result, columns = tfidf.get_feature_names())\n",
    "tfidf_df.columns = [\"word_\" + str(x) for x in tfidf_df.columns]\n",
    "tfidf_df.index = reviews.index\n",
    "reviews = pd.concat([reviews, tfidf_df], axis=1)"
   ]
  },
  {
   "cell_type": "markdown",
   "id": "cfbc339b",
   "metadata": {
    "_uuid": "90c32da70b76239209f524e4fa473dba8685b2a3",
    "papermill": {
     "duration": 0.0173,
     "end_time": "2022-07-27T02:44:13.904326",
     "exception": false,
     "start_time": "2022-07-27T02:44:13.887026",
     "status": "completed"
    },
    "tags": []
   },
   "source": [
    "Finally we add the TF-IDF (Term Frequency - Inverse Document Frequency) values for every word and every document. \n",
    "\n",
    "But why not simply counting how many times each word appears in every document? The problem with this method is that it doesn't take into account the relative importance of words in the texts. A word that appears in almost every text would not likely bring useful information for analysis. On the contrary, rare words may have a lot more of meanings.\n",
    "\n",
    "The TF-IDF metric solves this problem:\n",
    "- TF computes the classic number of times the word appears in the text\n",
    "- IDF computes the relative importance of this word which depends on how many texts the word can be found\n",
    "\n",
    "We add TF-IDF columns for every word that appear in at least 10 different texts to filter some of them and reduce the size of the final output."
   ]
  },
  {
   "cell_type": "code",
   "execution_count": 22,
   "id": "72738fa3",
   "metadata": {
    "_uuid": "6682eda4d0078a4953f5111717e4750c8f98d409",
    "execution": {
     "iopub.execute_input": "2022-07-27T02:44:13.943204Z",
     "iopub.status.busy": "2022-07-27T02:44:13.942366Z",
     "iopub.status.idle": "2022-07-27T02:44:13.977375Z",
     "shell.execute_reply": "2022-07-27T02:44:13.976383Z"
    },
    "papermill": {
     "duration": 0.057058,
     "end_time": "2022-07-27T02:44:13.979935",
     "exception": false,
     "start_time": "2022-07-27T02:44:13.922877",
     "status": "completed"
    },
    "tags": []
   },
   "outputs": [
    {
     "data": {
      "text/html": [
       "<div>\n",
       "<style scoped>\n",
       "    .dataframe tbody tr th:only-of-type {\n",
       "        vertical-align: middle;\n",
       "    }\n",
       "\n",
       "    .dataframe tbody tr th {\n",
       "        vertical-align: top;\n",
       "    }\n",
       "\n",
       "    .dataframe thead th {\n",
       "        text-align: right;\n",
       "    }\n",
       "</style>\n",
       "<table border=\"1\" class=\"dataframe\">\n",
       "  <thead>\n",
       "    <tr style=\"text-align: right;\">\n",
       "      <th></th>\n",
       "      <th>reviews_text</th>\n",
       "      <th>is_bad_review</th>\n",
       "      <th>review_clean</th>\n",
       "      <th>neg</th>\n",
       "      <th>neu</th>\n",
       "      <th>pos</th>\n",
       "      <th>compound</th>\n",
       "      <th>nb_chars</th>\n",
       "      <th>nb_words</th>\n",
       "      <th>doc2vec_vector_0</th>\n",
       "      <th>...</th>\n",
       "      <th>word_yes</th>\n",
       "      <th>word_yet</th>\n",
       "      <th>word_yogurt</th>\n",
       "      <th>word_yolanda</th>\n",
       "      <th>word_york</th>\n",
       "      <th>word_you</th>\n",
       "      <th>word_young</th>\n",
       "      <th>word_yummy</th>\n",
       "      <th>word_zero</th>\n",
       "      <th>word_zoo</th>\n",
       "    </tr>\n",
       "  </thead>\n",
       "  <tbody>\n",
       "    <tr>\n",
       "      <th>0</th>\n",
       "      <td>Our experience at Rancho Valencia was absolute...</td>\n",
       "      <td>0</td>\n",
       "      <td>experience rancho valencia absolutely perfect ...</td>\n",
       "      <td>0.0</td>\n",
       "      <td>0.669</td>\n",
       "      <td>0.331</td>\n",
       "      <td>0.9162</td>\n",
       "      <td>169</td>\n",
       "      <td>29</td>\n",
       "      <td>-0.005281</td>\n",
       "      <td>...</td>\n",
       "      <td>0.0</td>\n",
       "      <td>0.0</td>\n",
       "      <td>0.0</td>\n",
       "      <td>0.0</td>\n",
       "      <td>0.0</td>\n",
       "      <td>0.0</td>\n",
       "      <td>0.0</td>\n",
       "      <td>0.0</td>\n",
       "      <td>0.0</td>\n",
       "      <td>0.0</td>\n",
       "    </tr>\n",
       "    <tr>\n",
       "      <th>1</th>\n",
       "      <td>Amazing place. Everyone was extremely warm and...</td>\n",
       "      <td>0</td>\n",
       "      <td>amazing place everyone extremely warm welcomin...</td>\n",
       "      <td>0.0</td>\n",
       "      <td>0.654</td>\n",
       "      <td>0.346</td>\n",
       "      <td>0.9650</td>\n",
       "      <td>283</td>\n",
       "      <td>52</td>\n",
       "      <td>0.063424</td>\n",
       "      <td>...</td>\n",
       "      <td>0.0</td>\n",
       "      <td>0.0</td>\n",
       "      <td>0.0</td>\n",
       "      <td>0.0</td>\n",
       "      <td>0.0</td>\n",
       "      <td>0.0</td>\n",
       "      <td>0.0</td>\n",
       "      <td>0.0</td>\n",
       "      <td>0.0</td>\n",
       "      <td>0.0</td>\n",
       "    </tr>\n",
       "    <tr>\n",
       "      <th>2</th>\n",
       "      <td>We booked a 3 night stay at Rancho Valencia to...</td>\n",
       "      <td>0</td>\n",
       "      <td>book night stay rancho valencia play tennis si...</td>\n",
       "      <td>0.0</td>\n",
       "      <td>0.727</td>\n",
       "      <td>0.273</td>\n",
       "      <td>0.9748</td>\n",
       "      <td>471</td>\n",
       "      <td>81</td>\n",
       "      <td>0.296176</td>\n",
       "      <td>...</td>\n",
       "      <td>0.0</td>\n",
       "      <td>0.0</td>\n",
       "      <td>0.0</td>\n",
       "      <td>0.0</td>\n",
       "      <td>0.0</td>\n",
       "      <td>0.0</td>\n",
       "      <td>0.0</td>\n",
       "      <td>0.0</td>\n",
       "      <td>0.0</td>\n",
       "      <td>0.0</td>\n",
       "    </tr>\n",
       "    <tr>\n",
       "      <th>3</th>\n",
       "      <td>Currently in bed writing this for the past hr ...</td>\n",
       "      <td>1</td>\n",
       "      <td>currently bed write past hr dog bark squeal ca...</td>\n",
       "      <td>0.0</td>\n",
       "      <td>1.000</td>\n",
       "      <td>0.000</td>\n",
       "      <td>0.0000</td>\n",
       "      <td>198</td>\n",
       "      <td>37</td>\n",
       "      <td>0.396732</td>\n",
       "      <td>...</td>\n",
       "      <td>0.0</td>\n",
       "      <td>0.0</td>\n",
       "      <td>0.0</td>\n",
       "      <td>0.0</td>\n",
       "      <td>0.0</td>\n",
       "      <td>0.0</td>\n",
       "      <td>0.0</td>\n",
       "      <td>0.0</td>\n",
       "      <td>0.0</td>\n",
       "      <td>0.0</td>\n",
       "    </tr>\n",
       "    <tr>\n",
       "      <th>4</th>\n",
       "      <td>I live in Md and the Aloft is my Home away fro...</td>\n",
       "      <td>0</td>\n",
       "      <td>live md aloft home away home...we stayed night...</td>\n",
       "      <td>0.0</td>\n",
       "      <td>0.838</td>\n",
       "      <td>0.162</td>\n",
       "      <td>0.8713</td>\n",
       "      <td>307</td>\n",
       "      <td>58</td>\n",
       "      <td>0.286701</td>\n",
       "      <td>...</td>\n",
       "      <td>0.0</td>\n",
       "      <td>0.0</td>\n",
       "      <td>0.0</td>\n",
       "      <td>0.0</td>\n",
       "      <td>0.0</td>\n",
       "      <td>0.0</td>\n",
       "      <td>0.0</td>\n",
       "      <td>0.0</td>\n",
       "      <td>0.0</td>\n",
       "      <td>0.0</td>\n",
       "    </tr>\n",
       "  </tbody>\n",
       "</table>\n",
       "<p>5 rows × 2446 columns</p>\n",
       "</div>"
      ],
      "text/plain": [
       "                                        reviews_text  is_bad_review  \\\n",
       "0  Our experience at Rancho Valencia was absolute...              0   \n",
       "1  Amazing place. Everyone was extremely warm and...              0   \n",
       "2  We booked a 3 night stay at Rancho Valencia to...              0   \n",
       "3  Currently in bed writing this for the past hr ...              1   \n",
       "4  I live in Md and the Aloft is my Home away fro...              0   \n",
       "\n",
       "                                        review_clean  neg    neu    pos  \\\n",
       "0  experience rancho valencia absolutely perfect ...  0.0  0.669  0.331   \n",
       "1  amazing place everyone extremely warm welcomin...  0.0  0.654  0.346   \n",
       "2  book night stay rancho valencia play tennis si...  0.0  0.727  0.273   \n",
       "3  currently bed write past hr dog bark squeal ca...  0.0  1.000  0.000   \n",
       "4  live md aloft home away home...we stayed night...  0.0  0.838  0.162   \n",
       "\n",
       "   compound  nb_chars  nb_words  doc2vec_vector_0  ...  word_yes  word_yet  \\\n",
       "0    0.9162       169        29         -0.005281  ...       0.0       0.0   \n",
       "1    0.9650       283        52          0.063424  ...       0.0       0.0   \n",
       "2    0.9748       471        81          0.296176  ...       0.0       0.0   \n",
       "3    0.0000       198        37          0.396732  ...       0.0       0.0   \n",
       "4    0.8713       307        58          0.286701  ...       0.0       0.0   \n",
       "\n",
       "   word_yogurt  word_yolanda  word_york  word_you  word_young  word_yummy  \\\n",
       "0          0.0           0.0        0.0       0.0         0.0         0.0   \n",
       "1          0.0           0.0        0.0       0.0         0.0         0.0   \n",
       "2          0.0           0.0        0.0       0.0         0.0         0.0   \n",
       "3          0.0           0.0        0.0       0.0         0.0         0.0   \n",
       "4          0.0           0.0        0.0       0.0         0.0         0.0   \n",
       "\n",
       "   word_zero  word_zoo  \n",
       "0        0.0       0.0  \n",
       "1        0.0       0.0  \n",
       "2        0.0       0.0  \n",
       "3        0.0       0.0  \n",
       "4        0.0       0.0  \n",
       "\n",
       "[5 rows x 2446 columns]"
      ]
     },
     "execution_count": 22,
     "metadata": {},
     "output_type": "execute_result"
    }
   ],
   "source": [
    "reviews.head()"
   ]
  },
  {
   "cell_type": "code",
   "execution_count": 23,
   "id": "3d8c3646",
   "metadata": {
    "_uuid": "90a369931c57755f171e8cd9e8f9ff8e12e7a04b",
    "execution": {
     "iopub.execute_input": "2022-07-27T02:44:14.019460Z",
     "iopub.status.busy": "2022-07-27T02:44:14.018640Z",
     "iopub.status.idle": "2022-07-27T02:44:14.025030Z",
     "shell.execute_reply": "2022-07-27T02:44:14.024173Z"
    },
    "papermill": {
     "duration": 0.028484,
     "end_time": "2022-07-27T02:44:14.027234",
     "exception": false,
     "start_time": "2022-07-27T02:44:13.998750",
     "status": "completed"
    },
    "tags": []
   },
   "outputs": [
    {
     "data": {
      "text/plain": [
       "(9998, 2446)"
      ]
     },
     "execution_count": 23,
     "metadata": {},
     "output_type": "execute_result"
    }
   ],
   "source": [
    "reviews.shape"
   ]
  },
  {
   "cell_type": "markdown",
   "id": "d1a2146a",
   "metadata": {
    "_uuid": "fff48629c55ba10d8625ced055d92cfd0621a235",
    "papermill": {
     "duration": 0.018005,
     "end_time": "2022-07-27T02:44:14.063716",
     "exception": false,
     "start_time": "2022-07-27T02:44:14.045711",
     "status": "completed"
    },
    "tags": []
   },
   "source": [
    "# Exploratory data analysis\n",
    "\n",
    "\n",
    "In order to have a better understanding of our data, let's explore it a little:"
   ]
  },
  {
   "cell_type": "code",
   "execution_count": 24,
   "id": "11d15fd2",
   "metadata": {
    "_uuid": "9b19f8973b5aabec726dfe0a4806e2d88a310b0c",
    "execution": {
     "iopub.execute_input": "2022-07-27T02:44:14.102890Z",
     "iopub.status.busy": "2022-07-27T02:44:14.102105Z",
     "iopub.status.idle": "2022-07-27T02:44:14.112080Z",
     "shell.execute_reply": "2022-07-27T02:44:14.110915Z"
    },
    "papermill": {
     "duration": 0.032636,
     "end_time": "2022-07-27T02:44:14.114563",
     "exception": false,
     "start_time": "2022-07-27T02:44:14.081927",
     "status": "completed"
    },
    "tags": []
   },
   "outputs": [
    {
     "data": {
      "text/plain": [
       "0    0.728546\n",
       "1    0.271454\n",
       "Name: is_bad_review, dtype: float64"
      ]
     },
     "execution_count": 24,
     "metadata": {},
     "output_type": "execute_result"
    }
   ],
   "source": [
    "# show is_bad_review distribution\n",
    "reviews[\"is_bad_review\"].value_counts(normalize = True)"
   ]
  },
  {
   "cell_type": "markdown",
   "id": "acdc8228",
   "metadata": {
    "_uuid": "cd96811d40bd891b0360b702bfc0b59a33a7215a",
    "papermill": {
     "duration": 0.018123,
     "end_time": "2022-07-27T02:44:14.151124",
     "exception": false,
     "start_time": "2022-07-27T02:44:14.133001",
     "status": "completed"
    },
    "tags": []
   },
   "source": [
    "Our dataset is highly imbalanced because less than 5% of our reviews are considered as negative ones. This information will be very useful for the modelling part.\n",
    "\n",
    "Now let's print some wordclouds to have a glimpse at what kind of words apear in our reviews:"
   ]
  },
  {
   "cell_type": "code",
   "execution_count": 25,
   "id": "d3f2e0c4",
   "metadata": {
    "_uuid": "0d81a097747f9e9d16076cbaa211e7e66ba37a8f",
    "execution": {
     "iopub.execute_input": "2022-07-27T02:44:14.190241Z",
     "iopub.status.busy": "2022-07-27T02:44:14.189739Z",
     "iopub.status.idle": "2022-07-27T02:44:14.828920Z",
     "shell.execute_reply": "2022-07-27T02:44:14.827887Z"
    },
    "papermill": {
     "duration": 0.666,
     "end_time": "2022-07-27T02:44:14.835462",
     "exception": false,
     "start_time": "2022-07-27T02:44:14.169462",
     "status": "completed"
    },
    "tags": []
   },
   "outputs": [
    {
     "data": {
      "image/png": "[encoded data removed]",
      "text/plain": [
       "<Figure size 1440x1440 with 1 Axes>"
      ]
     },
     "metadata": {
      "needs_background": "light"
     },
     "output_type": "display_data"
    }
   ],
   "source": [
    "# wordcloud function\n",
    "\n",
    "from wordcloud import WordCloud\n",
    "import matplotlib.pyplot as plt\n",
    "\n",
    "def show_wordcloud(data, title = None):\n",
    "    wordcloud = WordCloud(\n",
    "        background_color = 'white',\n",
    "        max_words = 200,\n",
    "        max_font_size = 40, \n",
    "        scale = 3,\n",
    "        random_state = 42\n",
    "    ).generate(str(data))\n",
    "\n",
    "    fig = plt.figure(1, figsize = (20, 20))\n",
    "    plt.axis('off')\n",
    "    if title: \n",
    "        fig.suptitle(title, fontsize = 20)\n",
    "        fig.subplots_adjust(top = 2.3)\n",
    "\n",
    "    plt.imshow(wordcloud)\n",
    "    plt.show()\n",
    "    \n",
    "# print wordcloud\n",
    "show_wordcloud(reviews[\"reviews_text\"])"
   ]
  },
  {
   "cell_type": "markdown",
   "id": "d0500a76",
   "metadata": {
    "_uuid": "cad7d1ca94c9ce4fff486c0f65450e41790ecd57",
    "papermill": {
     "duration": 0.023719,
     "end_time": "2022-07-27T02:44:14.882420",
     "exception": false,
     "start_time": "2022-07-27T02:44:14.858701",
     "status": "completed"
    },
    "tags": []
   },
   "source": [
    "Most of the words are indeed related to the hotels: room, staff, breakfast, etc. Some words are more related to the customer experience with the hotel stay: perfect, loved, expensive, dislike, etc."
   ]
  },
  {
   "cell_type": "code",
   "execution_count": 26,
   "id": "8ae736ed",
   "metadata": {
    "_uuid": "d247f98a3ae20c5b1b8227171d12ba375d548132",
    "execution": {
     "iopub.execute_input": "2022-07-27T02:44:14.933337Z",
     "iopub.status.busy": "2022-07-27T02:44:14.931965Z",
     "iopub.status.idle": "2022-07-27T02:44:15.353254Z",
     "shell.execute_reply": "2022-07-27T02:44:15.351506Z"
    },
    "papermill": {
     "duration": 0.450176,
     "end_time": "2022-07-27T02:44:15.356747",
     "exception": false,
     "start_time": "2022-07-27T02:44:14.906571",
     "status": "completed"
    },
    "tags": []
   },
   "outputs": [
    {
     "data": {
      "text/html": [
       "<div>\n",
       "<style scoped>\n",
       "    .dataframe tbody tr th:only-of-type {\n",
       "        vertical-align: middle;\n",
       "    }\n",
       "\n",
       "    .dataframe tbody tr th {\n",
       "        vertical-align: top;\n",
       "    }\n",
       "\n",
       "    .dataframe thead th {\n",
       "        text-align: right;\n",
       "    }\n",
       "</style>\n",
       "<table border=\"1\" class=\"dataframe\">\n",
       "  <thead>\n",
       "    <tr style=\"text-align: right;\">\n",
       "      <th></th>\n",
       "      <th>reviews_text</th>\n",
       "      <th>pos</th>\n",
       "    </tr>\n",
       "  </thead>\n",
       "  <tbody>\n",
       "    <tr>\n",
       "      <th>554</th>\n",
       "      <td>Good: Great value. Great location.</td>\n",
       "      <td>0.931</td>\n",
       "    </tr>\n",
       "    <tr>\n",
       "      <th>4150</th>\n",
       "      <td>Good: Great value, excellent customer service</td>\n",
       "      <td>0.868</td>\n",
       "    </tr>\n",
       "    <tr>\n",
       "      <th>896</th>\n",
       "      <td>Good: Great value! Very friendly staff. Excell...</td>\n",
       "      <td>0.851</td>\n",
       "    </tr>\n",
       "    <tr>\n",
       "      <th>3565</th>\n",
       "      <td>Great experience. Friendly, helpful staff.</td>\n",
       "      <td>0.835</td>\n",
       "    </tr>\n",
       "    <tr>\n",
       "      <th>7251</th>\n",
       "      <td>Great, friendly, helpful staff. Nice bar/resta...</td>\n",
       "      <td>0.835</td>\n",
       "    </tr>\n",
       "    <tr>\n",
       "      <th>870</th>\n",
       "      <td>Good: Great staff, superb rooms, brilliant loc...</td>\n",
       "      <td>0.832</td>\n",
       "    </tr>\n",
       "    <tr>\n",
       "      <th>703</th>\n",
       "      <td>Good: great location Good services</td>\n",
       "      <td>0.832</td>\n",
       "    </tr>\n",
       "    <tr>\n",
       "      <th>680</th>\n",
       "      <td>Good: Great location,comfortable beds,very clean</td>\n",
       "      <td>0.829</td>\n",
       "    </tr>\n",
       "    <tr>\n",
       "      <th>1028</th>\n",
       "      <td>Good: Good location, comfortable bed</td>\n",
       "      <td>0.820</td>\n",
       "    </tr>\n",
       "    <tr>\n",
       "      <th>837</th>\n",
       "      <td>Good: Perfect Location, friendly staff, amazin...</td>\n",
       "      <td>0.819</td>\n",
       "    </tr>\n",
       "  </tbody>\n",
       "</table>\n",
       "</div>"
      ],
      "text/plain": [
       "                                           reviews_text    pos\n",
       "554                  Good: Great value. Great location.  0.931\n",
       "4150      Good: Great value, excellent customer service  0.868\n",
       "896   Good: Great value! Very friendly staff. Excell...  0.851\n",
       "3565         Great experience. Friendly, helpful staff.  0.835\n",
       "7251  Great, friendly, helpful staff. Nice bar/resta...  0.835\n",
       "870   Good: Great staff, superb rooms, brilliant loc...  0.832\n",
       "703                  Good: great location Good services  0.832\n",
       "680    Good: Great location,comfortable beds,very clean  0.829\n",
       "1028               Good: Good location, comfortable bed  0.820\n",
       "837   Good: Perfect Location, friendly staff, amazin...  0.819"
      ]
     },
     "execution_count": 26,
     "metadata": {},
     "output_type": "execute_result"
    }
   ],
   "source": [
    "# highest positive sentiment reviews (with more than 5 words)\n",
    "reviews[reviews[\"nb_words\"] >= 5].sort_values(\"pos\", ascending = False)[[\"reviews_text\", \"pos\"]].head(10)"
   ]
  },
  {
   "cell_type": "markdown",
   "id": "be8cb376",
   "metadata": {
    "_uuid": "ca802efbb1bb92214e5addfc400952178970162a",
    "papermill": {
     "duration": 0.023278,
     "end_time": "2022-07-27T02:44:15.403826",
     "exception": false,
     "start_time": "2022-07-27T02:44:15.380548",
     "status": "completed"
    },
    "tags": []
   },
   "source": [
    "The most positive reviews indeed correspond to some good feedbacks."
   ]
  },
  {
   "cell_type": "code",
   "execution_count": 27,
   "id": "4c4fb4ed",
   "metadata": {
    "_uuid": "e506946236e230f419c09280cbfbcdfad35ab1a4",
    "execution": {
     "iopub.execute_input": "2022-07-27T02:44:15.454085Z",
     "iopub.status.busy": "2022-07-27T02:44:15.453605Z",
     "iopub.status.idle": "2022-07-27T02:44:15.640847Z",
     "shell.execute_reply": "2022-07-27T02:44:15.639605Z"
    },
    "papermill": {
     "duration": 0.216265,
     "end_time": "2022-07-27T02:44:15.643915",
     "exception": false,
     "start_time": "2022-07-27T02:44:15.427650",
     "status": "completed"
    },
    "tags": []
   },
   "outputs": [
    {
     "data": {
      "text/html": [
       "<div>\n",
       "<style scoped>\n",
       "    .dataframe tbody tr th:only-of-type {\n",
       "        vertical-align: middle;\n",
       "    }\n",
       "\n",
       "    .dataframe tbody tr th {\n",
       "        vertical-align: top;\n",
       "    }\n",
       "\n",
       "    .dataframe thead th {\n",
       "        text-align: right;\n",
       "    }\n",
       "</style>\n",
       "<table border=\"1\" class=\"dataframe\">\n",
       "  <thead>\n",
       "    <tr style=\"text-align: right;\">\n",
       "      <th></th>\n",
       "      <th>reviews_text</th>\n",
       "      <th>neg</th>\n",
       "    </tr>\n",
       "  </thead>\n",
       "  <tbody>\n",
       "    <tr>\n",
       "      <th>4156</th>\n",
       "      <td>Bad: Ac wasnt working . Good: Clean</td>\n",
       "      <td>0.731</td>\n",
       "    </tr>\n",
       "    <tr>\n",
       "      <th>3631</th>\n",
       "      <td>Bad: The eggs was nasty.</td>\n",
       "      <td>0.703</td>\n",
       "    </tr>\n",
       "    <tr>\n",
       "      <th>815</th>\n",
       "      <td>Bad: The elevators were a problem.</td>\n",
       "      <td>0.674</td>\n",
       "    </tr>\n",
       "    <tr>\n",
       "      <th>3822</th>\n",
       "      <td>Bad: Nothing. Good: Beautiful and romantic</td>\n",
       "      <td>0.658</td>\n",
       "    </tr>\n",
       "    <tr>\n",
       "      <th>4199</th>\n",
       "      <td>Bad: No microwave at breakfast.</td>\n",
       "      <td>0.655</td>\n",
       "    </tr>\n",
       "    <tr>\n",
       "      <th>1427</th>\n",
       "      <td>Bad: Possibly lower parking rates,.</td>\n",
       "      <td>0.655</td>\n",
       "    </tr>\n",
       "    <tr>\n",
       "      <th>1871</th>\n",
       "      <td>I hate it very disappointed. It is a dump I wo...</td>\n",
       "      <td>0.641</td>\n",
       "    </tr>\n",
       "    <tr>\n",
       "      <th>675</th>\n",
       "      <td>Bad: Room was terribly dirty. Good: Location</td>\n",
       "      <td>0.629</td>\n",
       "    </tr>\n",
       "    <tr>\n",
       "      <th>3618</th>\n",
       "      <td>Bad: key didn't work. Good: helpfulness of staff</td>\n",
       "      <td>0.624</td>\n",
       "    </tr>\n",
       "    <tr>\n",
       "      <th>803</th>\n",
       "      <td>Bad: HODO lounge service was poor.</td>\n",
       "      <td>0.623</td>\n",
       "    </tr>\n",
       "  </tbody>\n",
       "</table>\n",
       "</div>"
      ],
      "text/plain": [
       "                                           reviews_text    neg\n",
       "4156                Bad: Ac wasnt working . Good: Clean  0.731\n",
       "3631                           Bad: The eggs was nasty.  0.703\n",
       "815                  Bad: The elevators were a problem.  0.674\n",
       "3822         Bad: Nothing. Good: Beautiful and romantic  0.658\n",
       "4199                    Bad: No microwave at breakfast.  0.655\n",
       "1427                Bad: Possibly lower parking rates,.  0.655\n",
       "1871  I hate it very disappointed. It is a dump I wo...  0.641\n",
       "675        Bad: Room was terribly dirty. Good: Location  0.629\n",
       "3618   Bad: key didn't work. Good: helpfulness of staff  0.624\n",
       "803                  Bad: HODO lounge service was poor.  0.623"
      ]
     },
     "execution_count": 27,
     "metadata": {},
     "output_type": "execute_result"
    }
   ],
   "source": [
    "# lowest negative sentiment reviews (with more than 5 words)\n",
    "reviews[reviews[\"nb_words\"] >= 5].sort_values(\"neg\", ascending = False)[[\"reviews_text\", \"neg\"]].head(10)"
   ]
  },
  {
   "cell_type": "markdown",
   "id": "f4fb8797",
   "metadata": {
    "_uuid": "8064f8760dff31dab1fed7deed313d57655dee94",
    "papermill": {
     "duration": 0.023244,
     "end_time": "2022-07-27T02:44:15.690701",
     "exception": false,
     "start_time": "2022-07-27T02:44:15.667457",
     "status": "completed"
    },
    "tags": []
   },
   "source": [
    "Some errors can be found among the most negative reviews: Vader sometimes interpret 'no' or 'nothing' as negative words whereas they are sometimes used to say that there were no problems with the hotel. Fortunately, most of the reviews are indeed bad ones."
   ]
  },
  {
   "cell_type": "code",
   "execution_count": 28,
   "id": "a89eebad",
   "metadata": {
    "_uuid": "efd086062b8ded2dd18515d66048416e7b979a5c",
    "execution": {
     "iopub.execute_input": "2022-07-27T02:44:15.740297Z",
     "iopub.status.busy": "2022-07-27T02:44:15.739820Z",
     "iopub.status.idle": "2022-07-27T02:44:16.322012Z",
     "shell.execute_reply": "2022-07-27T02:44:16.321028Z"
    },
    "papermill": {
     "duration": 0.610146,
     "end_time": "2022-07-27T02:44:16.324527",
     "exception": false,
     "start_time": "2022-07-27T02:44:15.714381",
     "status": "completed"
    },
    "tags": []
   },
   "outputs": [
    {
     "name": "stderr",
     "output_type": "stream",
     "text": [
      "/opt/conda/lib/python3.7/site-packages/seaborn/distributions.py:2619: FutureWarning: `distplot` is a deprecated function and will be removed in a future version. Please adapt your code to use either `displot` (a figure-level function with similar flexibility) or `kdeplot` (an axes-level function for kernel density plots).\n",
      "  warnings.warn(msg, FutureWarning)\n",
      "/opt/conda/lib/python3.7/site-packages/seaborn/distributions.py:2619: FutureWarning: `distplot` is a deprecated function and will be removed in a future version. Please adapt your code to use either `displot` (a figure-level function with similar flexibility) or `kdeplot` (an axes-level function for kernel density plots).\n",
      "  warnings.warn(msg, FutureWarning)\n"
     ]
    },
    {
     "data": {
      "image/png": "[encoded data removed]",
      "text/plain": [
       "<Figure size 432x288 with 1 Axes>"
      ]
     },
     "metadata": {
      "needs_background": "light"
     },
     "output_type": "display_data"
    }
   ],
   "source": [
    "# plot sentiment distribution for positive and negative reviews\n",
    "\n",
    "import seaborn as sns\n",
    "\n",
    "for x in [0, 1]:\n",
    "    subset = reviews[reviews['is_bad_review'] == x]\n",
    "    \n",
    "    # Draw the density plot\n",
    "    if x == 0:\n",
    "        label = \"Good reviews\"\n",
    "    else:\n",
    "        label = \"Bad reviews\"\n",
    "    sns.distplot(subset['compound'], hist = False, label = label)"
   ]
  },
  {
   "cell_type": "markdown",
   "id": "ffb241f3",
   "metadata": {
    "_uuid": "09bfd81cce5feeb359cff985e71061c44a9c21de",
    "papermill": {
     "duration": 0.024429,
     "end_time": "2022-07-27T02:44:16.373463",
     "exception": false,
     "start_time": "2022-07-27T02:44:16.349034",
     "status": "completed"
    },
    "tags": []
   },
   "source": [
    "The above graph shows the distribution of the reviews sentiments among good reviews and bad ones. We can see that good reviews are for most of them considered as very positive by Vader. On the contrary, bad reviews tend to have lower compound sentiment scores.\n",
    "\n",
    "This shows us that previously computed sentiment features will be very important in our modelling part."
   ]
  },
  {
   "cell_type": "markdown",
   "id": "f90f8aa3",
   "metadata": {
    "_uuid": "6792e4ff851b10ce6e0dc46bb8b81e066a6026e7",
    "papermill": {
     "duration": 0.024299,
     "end_time": "2022-07-27T02:44:16.422064",
     "exception": false,
     "start_time": "2022-07-27T02:44:16.397765",
     "status": "completed"
    },
    "tags": []
   },
   "source": [
    "# Modelling reviewer_score"
   ]
  },
  {
   "cell_type": "code",
   "execution_count": 29,
   "id": "7dee5e3d",
   "metadata": {
    "_uuid": "5176528611b2a898af937dedfdb89661d9fd1870",
    "execution": {
     "iopub.execute_input": "2022-07-27T02:44:16.474078Z",
     "iopub.status.busy": "2022-07-27T02:44:16.473559Z",
     "iopub.status.idle": "2022-07-27T02:44:16.837113Z",
     "shell.execute_reply": "2022-07-27T02:44:16.835859Z"
    },
    "papermill": {
     "duration": 0.392988,
     "end_time": "2022-07-27T02:44:16.840119",
     "exception": false,
     "start_time": "2022-07-27T02:44:16.447131",
     "status": "completed"
    },
    "tags": []
   },
   "outputs": [],
   "source": [
    "# feature selection\n",
    "label = \"is_bad_review\"\n",
    "ignore_cols = [label, \"reviews_text\", \"review_clean\"]\n",
    "features = [c for c in reviews.columns if c not in ignore_cols]\n",
    "\n",
    "# split the data into train and test\n",
    "from sklearn.ensemble import RandomForestClassifier\n",
    "from sklearn.model_selection import train_test_split\n",
    "\n",
    "X_train, X_test, y_train, y_test = train_test_split(reviews[features], reviews[label], test_size = 0.20, random_state = 42)"
   ]
  },
  {
   "cell_type": "markdown",
   "id": "67f3ba85",
   "metadata": {
    "_uuid": "9269d829bf108611ce8ed17517309a72e2e9e727",
    "papermill": {
     "duration": 0.024397,
     "end_time": "2022-07-27T02:44:16.889707",
     "exception": false,
     "start_time": "2022-07-27T02:44:16.865310",
     "status": "completed"
    },
    "tags": []
   },
   "source": [
    "We first choose which features we want to use to train our model. Then we split our data into two parts:\n",
    "- one to train our model\n",
    "- one to assess its performances\n",
    "\n",
    "We will next use a Random Forest (RF) classifier for our predictions."
   ]
  },
  {
   "cell_type": "code",
   "execution_count": 30,
   "id": "1582c57a",
   "metadata": {
    "_uuid": "59086a25cfed314ea49d54d4ee58df4e194a0342",
    "execution": {
     "iopub.execute_input": "2022-07-27T02:44:16.940831Z",
     "iopub.status.busy": "2022-07-27T02:44:16.940389Z",
     "iopub.status.idle": "2022-07-27T02:44:26.098040Z",
     "shell.execute_reply": "2022-07-27T02:44:26.096947Z"
    },
    "papermill": {
     "duration": 9.186861,
     "end_time": "2022-07-27T02:44:26.100880",
     "exception": false,
     "start_time": "2022-07-27T02:44:16.914019",
     "status": "completed"
    },
    "tags": []
   },
   "outputs": [
    {
     "data": {
      "text/html": [
       "<div>\n",
       "<style scoped>\n",
       "    .dataframe tbody tr th:only-of-type {\n",
       "        vertical-align: middle;\n",
       "    }\n",
       "\n",
       "    .dataframe tbody tr th {\n",
       "        vertical-align: top;\n",
       "    }\n",
       "\n",
       "    .dataframe thead th {\n",
       "        text-align: right;\n",
       "    }\n",
       "</style>\n",
       "<table border=\"1\" class=\"dataframe\">\n",
       "  <thead>\n",
       "    <tr style=\"text-align: right;\">\n",
       "      <th></th>\n",
       "      <th>feature</th>\n",
       "      <th>importance</th>\n",
       "    </tr>\n",
       "  </thead>\n",
       "  <tbody>\n",
       "    <tr>\n",
       "      <th>3</th>\n",
       "      <td>compound</td>\n",
       "      <td>0.069718</td>\n",
       "    </tr>\n",
       "    <tr>\n",
       "      <th>2</th>\n",
       "      <td>pos</td>\n",
       "      <td>0.061259</td>\n",
       "    </tr>\n",
       "    <tr>\n",
       "      <th>0</th>\n",
       "      <td>neg</td>\n",
       "      <td>0.039968</td>\n",
       "    </tr>\n",
       "    <tr>\n",
       "      <th>6</th>\n",
       "      <td>doc2vec_vector_0</td>\n",
       "      <td>0.038108</td>\n",
       "    </tr>\n",
       "    <tr>\n",
       "      <th>1</th>\n",
       "      <td>neu</td>\n",
       "      <td>0.024506</td>\n",
       "    </tr>\n",
       "    <tr>\n",
       "      <th>9</th>\n",
       "      <td>doc2vec_vector_3</td>\n",
       "      <td>0.012874</td>\n",
       "    </tr>\n",
       "    <tr>\n",
       "      <th>188</th>\n",
       "      <td>word_bad</td>\n",
       "      <td>0.012690</td>\n",
       "    </tr>\n",
       "    <tr>\n",
       "      <th>959</th>\n",
       "      <td>word_great</td>\n",
       "      <td>0.011023</td>\n",
       "    </tr>\n",
       "    <tr>\n",
       "      <th>7</th>\n",
       "      <td>doc2vec_vector_1</td>\n",
       "      <td>0.010517</td>\n",
       "    </tr>\n",
       "    <tr>\n",
       "      <th>4</th>\n",
       "      <td>nb_chars</td>\n",
       "      <td>0.010305</td>\n",
       "    </tr>\n",
       "    <tr>\n",
       "      <th>8</th>\n",
       "      <td>doc2vec_vector_2</td>\n",
       "      <td>0.010172</td>\n",
       "    </tr>\n",
       "    <tr>\n",
       "      <th>632</th>\n",
       "      <td>word_dirty</td>\n",
       "      <td>0.009972</td>\n",
       "    </tr>\n",
       "    <tr>\n",
       "      <th>10</th>\n",
       "      <td>doc2vec_vector_4</td>\n",
       "      <td>0.009818</td>\n",
       "    </tr>\n",
       "    <tr>\n",
       "      <th>5</th>\n",
       "      <td>nb_words</td>\n",
       "      <td>0.009750</td>\n",
       "    </tr>\n",
       "    <tr>\n",
       "      <th>1952</th>\n",
       "      <td>word_smell</td>\n",
       "      <td>0.008653</td>\n",
       "    </tr>\n",
       "    <tr>\n",
       "      <th>1804</th>\n",
       "      <td>word_room</td>\n",
       "      <td>0.007623</td>\n",
       "    </tr>\n",
       "    <tr>\n",
       "      <th>2012</th>\n",
       "      <td>word_staff</td>\n",
       "      <td>0.007306</td>\n",
       "    </tr>\n",
       "    <tr>\n",
       "      <th>946</th>\n",
       "      <td>word_good</td>\n",
       "      <td>0.006109</td>\n",
       "    </tr>\n",
       "    <tr>\n",
       "      <th>890</th>\n",
       "      <td>word_friendly</td>\n",
       "      <td>0.005581</td>\n",
       "    </tr>\n",
       "    <tr>\n",
       "      <th>2028</th>\n",
       "      <td>word_stay</td>\n",
       "      <td>0.005400</td>\n",
       "    </tr>\n",
       "  </tbody>\n",
       "</table>\n",
       "</div>"
      ],
      "text/plain": [
       "               feature  importance\n",
       "3             compound    0.069718\n",
       "2                  pos    0.061259\n",
       "0                  neg    0.039968\n",
       "6     doc2vec_vector_0    0.038108\n",
       "1                  neu    0.024506\n",
       "9     doc2vec_vector_3    0.012874\n",
       "188           word_bad    0.012690\n",
       "959         word_great    0.011023\n",
       "7     doc2vec_vector_1    0.010517\n",
       "4             nb_chars    0.010305\n",
       "8     doc2vec_vector_2    0.010172\n",
       "632         word_dirty    0.009972\n",
       "10    doc2vec_vector_4    0.009818\n",
       "5             nb_words    0.009750\n",
       "1952        word_smell    0.008653\n",
       "1804         word_room    0.007623\n",
       "2012        word_staff    0.007306\n",
       "946          word_good    0.006109\n",
       "890      word_friendly    0.005581\n",
       "2028         word_stay    0.005400"
      ]
     },
     "execution_count": 30,
     "metadata": {},
     "output_type": "execute_result"
    }
   ],
   "source": [
    "# train a random forest classifier\n",
    "rf = RandomForestClassifier(n_estimators = 100, random_state = 42)\n",
    "rf.fit(X_train, y_train)\n",
    "\n",
    "# show feature importance\n",
    "feature_importances_df = pd.DataFrame({\"feature\": features, \"importance\": rf.feature_importances_}).sort_values(\"importance\", ascending = False)\n",
    "feature_importances_df.head(20)"
   ]
  },
  {
   "cell_type": "markdown",
   "id": "dd1f5460",
   "metadata": {
    "_uuid": "d492d226a93da9843ad25c36ceb89645353f1acd",
    "papermill": {
     "duration": 0.024345,
     "end_time": "2022-07-27T02:44:26.149733",
     "exception": false,
     "start_time": "2022-07-27T02:44:26.125388",
     "status": "completed"
    },
    "tags": []
   },
   "source": [
    "The most important features are indeed the ones that come from the previous sentiment analysis. The vector representations of the texts also have a lot of importance in our training. Some words appear to have a fairly good importance as well."
   ]
  },
  {
   "cell_type": "code",
   "execution_count": 31,
   "id": "fb022c45",
   "metadata": {
    "_uuid": "9900998d64c493c2c162b1b2bd7b5b3e3b72db90",
    "execution": {
     "iopub.execute_input": "2022-07-27T02:44:26.201556Z",
     "iopub.status.busy": "2022-07-27T02:44:26.200689Z",
     "iopub.status.idle": "2022-07-27T02:44:26.599499Z",
     "shell.execute_reply": "2022-07-27T02:44:26.598263Z"
    },
    "papermill": {
     "duration": 0.427861,
     "end_time": "2022-07-27T02:44:26.602379",
     "exception": false,
     "start_time": "2022-07-27T02:44:26.174518",
     "status": "completed"
    },
    "tags": []
   },
   "outputs": [
    {
     "data": {
      "image/png": "[encoded data removed]",
      "text/plain": [
       "<Figure size 1080x720 with 1 Axes>"
      ]
     },
     "metadata": {
      "needs_background": "light"
     },
     "output_type": "display_data"
    }
   ],
   "source": [
    "# ROC curve\n",
    "\n",
    "from sklearn.metrics import roc_curve, auc, roc_auc_score\n",
    "import matplotlib.pyplot as plt\n",
    "\n",
    "y_pred = [x[1] for x in rf.predict_proba(X_test)]\n",
    "fpr, tpr, thresholds = roc_curve(y_test, y_pred, pos_label = 1)\n",
    "\n",
    "roc_auc = auc(fpr, tpr)\n",
    "\n",
    "plt.figure(1, figsize = (15, 10))\n",
    "lw = 2\n",
    "plt.plot(fpr, tpr, color='darkorange',\n",
    "         lw=lw, label='ROC curve (area = %0.2f)' % roc_auc)\n",
    "plt.plot([0, 1], [0, 1], lw=lw, linestyle='--')\n",
    "plt.xlim([0.0, 1.0])\n",
    "plt.ylim([0.0, 1.0])\n",
    "plt.xlabel('False Positive Rate')\n",
    "plt.ylabel('True Positive Rate')\n",
    "plt.title('Receiver operating characteristic example')\n",
    "plt.legend(loc=\"lower right\")\n",
    "plt.show()"
   ]
  },
  {
   "cell_type": "markdown",
   "id": "61085b56",
   "metadata": {
    "_uuid": "65e4d155a09ff2750eed793b890bd99c35960da8",
    "papermill": {
     "duration": 0.024837,
     "end_time": "2022-07-27T02:44:26.652603",
     "exception": false,
     "start_time": "2022-07-27T02:44:26.627766",
     "status": "completed"
    },
    "tags": []
   },
   "source": [
    "The ROC (Receiver Operating Characteristic) curve is usually a good graph to summarize the quality of our classifier. The higher the curve is above the diagonal baseline, the better the predictions. Although the AUC ROC (Area Under the Curve ROC) is very good, we should not use here the ROC curve to assess the quality of our model.\n",
    "\n",
    "Why? First let us remind the False Positive Rate formula, which corresponds to the x axis of the ROC curve: FPR (False Positive Rate) = # False Positives / # Negatives.\n",
    "\n",
    "Here the # Negatives corresponds to our number of good reviews which is very high because our dataset is imbalanced. This means that even with some False Positives, our FPR will tend to stay very low. Our model will be able to make a lot of false positives predictions and still have a low false positive rate, while increasing the true positive rate and therefore artificially increasing the AUC ROC metric."
   ]
  },
  {
   "cell_type": "code",
   "execution_count": 32,
   "id": "f94abf57",
   "metadata": {
    "execution": {
     "iopub.execute_input": "2022-07-27T02:44:26.706766Z",
     "iopub.status.busy": "2022-07-27T02:44:26.706307Z",
     "iopub.status.idle": "2022-07-27T02:44:40.866665Z",
     "shell.execute_reply": "2022-07-27T02:44:40.864985Z"
    },
    "papermill": {
     "duration": 14.192184,
     "end_time": "2022-07-27T02:44:40.869919",
     "exception": false,
     "start_time": "2022-07-27T02:44:26.677735",
     "status": "completed"
    },
    "tags": []
   },
   "outputs": [
    {
     "name": "stdout",
     "output_type": "stream",
     "text": [
      "Collecting funcsigs\r\n",
      "  Downloading funcsigs-1.0.2-py2.py3-none-any.whl (17 kB)\r\n",
      "Installing collected packages: funcsigs\r\n",
      "Successfully installed funcsigs-1.0.2\r\n",
      "\u001b[33mWARNING: Running pip as the 'root' user can result in broken permissions and conflicting behaviour with the system package manager. It is recommended to use a virtual environment instead: https://pip.pypa.io/warnings/venv\u001b[0m\u001b[33m\r\n",
      "\u001b[0m"
     ]
    }
   ],
   "source": [
    "!pip install funcsigs"
   ]
  },
  {
   "cell_type": "code",
   "execution_count": 33,
   "id": "e6bcce26",
   "metadata": {
    "_uuid": "ce77133401f4c7862f7aa28c7f879217f382f93a",
    "execution": {
     "iopub.execute_input": "2022-07-27T02:44:40.925316Z",
     "iopub.status.busy": "2022-07-27T02:44:40.924829Z",
     "iopub.status.idle": "2022-07-27T02:44:41.168776Z",
     "shell.execute_reply": "2022-07-27T02:44:41.167837Z"
    },
    "papermill": {
     "duration": 0.274933,
     "end_time": "2022-07-27T02:44:41.171298",
     "exception": false,
     "start_time": "2022-07-27T02:44:40.896365",
     "status": "completed"
    },
    "tags": []
   },
   "outputs": [
    {
     "data": {
      "text/plain": [
       "Text(0.5, 1.0, '2-class Precision-Recall curve: AP=0.76')"
      ]
     },
     "execution_count": 33,
     "metadata": {},
     "output_type": "execute_result"
    },
    {
     "data": {
      "image/png": "[encoded data removed]",
      "text/plain": [
       "<Figure size 1080x720 with 1 Axes>"
      ]
     },
     "metadata": {
      "needs_background": "light"
     },
     "output_type": "display_data"
    }
   ],
   "source": [
    "# PR curve\n",
    "\n",
    "from sklearn.metrics import average_precision_score, precision_recall_curve\n",
    "#from sklearn.utils.fixes import signature\n",
    "from funcsigs import signature\n",
    "\n",
    "average_precision = average_precision_score(y_test, y_pred)\n",
    "\n",
    "precision, recall, _ = precision_recall_curve(y_test, y_pred)\n",
    "\n",
    "# In matplotlib < 1.5, plt.fill_between does not have a 'step' argument\n",
    "step_kwargs = ({'step': 'post'}\n",
    "               if 'step' in signature(plt.fill_between).parameters\n",
    "               else {})\n",
    "\n",
    "plt.figure(1, figsize = (15, 10))\n",
    "plt.step(recall, precision, color='b', alpha=0.2,\n",
    "         where='post')\n",
    "plt.fill_between(recall, precision, alpha=0.2, color='b', **step_kwargs)\n",
    "\n",
    "plt.xlabel('Recall')\n",
    "plt.ylabel('Precision')\n",
    "plt.ylim([0.0, 1.05])\n",
    "plt.xlim([0.0, 1.0])\n",
    "plt.title('2-class Precision-Recall curve: AP={0:0.2f}'.format(average_precision))"
   ]
  },
  {
   "cell_type": "markdown",
   "id": "e299b355",
   "metadata": {
    "_uuid": "a6a6977b4e48d28e637b85fed45064edf1725bfb",
    "papermill": {
     "duration": 0.026063,
     "end_time": "2022-07-27T02:44:41.223769",
     "exception": false,
     "start_time": "2022-07-27T02:44:41.197706",
     "status": "completed"
    },
    "tags": []
   },
   "source": [
    "A better metric in this imbalanced situation is the AUC PR (Area Under the Curve Precision Recall), or also called AP (Average Precision). \n",
    "\n",
    "We can see that the precision decreases when we increase the recall. This shows us that we have to choose a prediction thresold adapted to our needs. If our goal is to have a high recall, we should set a low prediction thresold that will allow us to detect most of the observations of the positive class, but with a low precision. On the contrary, if we want to be really confident about our predictions but don't mind about not finding all the positive observations, we should set a high thresold that will get us a high precision and a low recall.\n",
    "\n",
    "In order to know if our model performs better than another classifier, we can simply use the AP metric. To assess the quality of our model, we can compare it to a simple decision baseline. Let's take a random classifier as a baseline here that would predict half of the time 1 and half of the time 0 for the label.\n",
    "\n",
    "Such a classifier would have a precision of 4.3%, which corresponds to the proportion of positive observations. For every recall value the precision would stay the same, and this would lead us to an AP of 0.043. The AP of our model is approximately 0.35, which is more than 8 times higher than the AP of the random method. This means that our model has a good predictive power."
   ]
  },
  {
   "cell_type": "markdown",
   "id": "f44bbca7",
   "metadata": {
    "_uuid": "1459faf9b176c226ce05ad23e4bee5832dfcba77",
    "papermill": {
     "duration": 0.026134,
     "end_time": "2022-07-27T02:44:41.276264",
     "exception": false,
     "start_time": "2022-07-27T02:44:41.250130",
     "status": "completed"
    },
    "tags": []
   },
   "source": [
    "# Conclusion"
   ]
  },
  {
   "cell_type": "markdown",
   "id": "738d22d5",
   "metadata": {
    "_uuid": "1869399f441d068dfdafaf1eb6b8710a0a58dd59",
    "papermill": {
     "duration": 0.026465,
     "end_time": "2022-07-27T02:44:41.329161",
     "exception": false,
     "start_time": "2022-07-27T02:44:41.302696",
     "status": "completed"
    },
    "tags": []
   },
   "source": [
    "It is completely possible to use only raw text as input for making predictions. The most important thing is to be able to extract the relevant features from this raw source of data. This kind of data can often come as a good complementary source in data science projects in order to extract more learning features and increase the predictive power of the models."
   ]
  },
  {
   "cell_type": "code",
   "execution_count": null,
   "id": "1d443dcd",
   "metadata": {
    "_uuid": "fd65c8f4e60ac6fddc80f1b3a88476fdc28b1cee",
    "papermill": {
     "duration": 0.025954,
     "end_time": "2022-07-27T02:44:41.381502",
     "exception": false,
     "start_time": "2022-07-27T02:44:41.355548",
     "status": "completed"
    },
    "tags": []
   },
   "outputs": [],
   "source": []
  }
 ],
 "metadata": {
  "kernelspec": {
   "display_name": "Python 3",
   "language": "python",
   "name": "python3"
  },
  "language_info": {
   "codemirror_mode": {
    "name": "ipython",
    "version": 3
   },
   "file_extension": ".py",
   "mimetype": "text/x-python",
   "name": "python",
   "nbconvert_exporter": "python",
   "pygments_lexer": "ipython3",
   "version": "3.7.12"
  },
  "papermill": {
   "default_parameters": {},
   "duration": 117.291385,
   "end_time": "2022-07-27T02:44:42.937052",
   "environment_variables": {},
   "exception": null,
   "input_path": "__notebook__.ipynb",
   "output_path": "__notebook__.ipynb",
   "parameters": {},
   "start_time": "2022-07-27T02:42:45.645667",
   "version": "2.3.4"
  }
 },
 "nbformat": 4,
 "nbformat_minor": 5
}
