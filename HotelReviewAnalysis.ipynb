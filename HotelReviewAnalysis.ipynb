{
 "cells": [
  {
   "cell_type": "code",
   "execution_count": 181,
   "metadata": {},
   "outputs": [],
   "source": [
    "import pandas as pd\n",
    "import matplotlib.pyplot as plt\n",
    "import seaborn as sns \n",
    "from datetime import datetime\n",
    "import numpy as np\n",
    "import matplotlib.pyplot as plt\n"
   ]
  },
  {
   "cell_type": "code",
   "execution_count": 18,
   "metadata": {},
   "outputs": [
    {
     "name": "stdout",
     "output_type": "stream",
     "text": [
      "<class 'pandas.core.frame.DataFrame'>\n",
      "RangeIndex: 10000 entries, 0 to 9999\n",
      "Data columns (total 26 columns):\n",
      " #   Column                Non-Null Count  Dtype  \n",
      "---  ------                --------------  -----  \n",
      " 0   id                    10000 non-null  object \n",
      " 1   dateadded             10000 non-null  object \n",
      " 2   dateupdated           10000 non-null  object \n",
      " 3   address               10000 non-null  object \n",
      " 4   categories            10000 non-null  object \n",
      " 5   primarycategories     10000 non-null  object \n",
      " 6   city                  10000 non-null  object \n",
      " 7   country               10000 non-null  object \n",
      " 8   keys                  10000 non-null  object \n",
      " 9   latitude              10000 non-null  float64\n",
      " 10  longitude             10000 non-null  float64\n",
      " 11  name                  10000 non-null  object \n",
      " 12  postalcode            10000 non-null  object \n",
      " 13  province              10000 non-null  object \n",
      " 14  reviews_date          10000 non-null  object \n",
      " 15  reviews_dateseen      10000 non-null  object \n",
      " 16  reviews_rating        10000 non-null  float64\n",
      " 17  reviews_sourceurls    10000 non-null  object \n",
      " 18  reviews_text          9999 non-null   object \n",
      " 19  reviews_title         9999 non-null   object \n",
      " 20  reviews_usercity      4164 non-null   object \n",
      " 21  reviews_userprovince  2705 non-null   object \n",
      " 22  reviews_username      10000 non-null  object \n",
      " 23  sourceurls            10000 non-null  object \n",
      " 24  websites              10000 non-null  object \n",
      " 25  location              10000 non-null  object \n",
      "dtypes: float64(3), object(23)\n",
      "memory usage: 2.0+ MB\n"
     ]
    }
   ],
   "source": [
    "data = pd.read_csv('hotel_reviews.csv')\n",
    "data.info()"
   ]
  },
  {
   "cell_type": "code",
   "execution_count": 19,
   "metadata": {},
   "outputs": [
    {
     "data": {
      "text/plain": [
       "array([5.  , 2.  , 4.  , 3.  , 1.  , 4.8 , 4.6 , 3.55, 4.4 , 4.15, 2.5 ,\n",
       "       3.95, 2.9 , 3.35, 3.75, 4.5 , 2.1 , 1.65, 3.15, 2.7 , 1.45, 2.75,\n",
       "       2.3 , 3.5 , 4.25, 1.25, 1.9 , 3.45, 3.25, 4.75])"
      ]
     },
     "execution_count": 19,
     "metadata": {},
     "output_type": "execute_result"
    }
   ],
   "source": [
    "(data['reviews_rating'].unique()) ### we found that the reviews are between 1 to 5 "
   ]
  },
  {
   "cell_type": "code",
   "execution_count": 20,
   "metadata": {},
   "outputs": [
    {
     "name": "stdout",
     "output_type": "stream",
     "text": [
      "<class 'pandas.core.frame.DataFrame'>\n",
      "RangeIndex: 10000 entries, 0 to 9999\n",
      "Data columns (total 26 columns):\n",
      " #   Column                Non-Null Count  Dtype  \n",
      "---  ------                --------------  -----  \n",
      " 0   id                    10000 non-null  object \n",
      " 1   dateadded             10000 non-null  object \n",
      " 2   dateupdated           10000 non-null  object \n",
      " 3   address               10000 non-null  object \n",
      " 4   categories            10000 non-null  object \n",
      " 5   primarycategories     10000 non-null  object \n",
      " 6   city                  10000 non-null  object \n",
      " 7   country               10000 non-null  object \n",
      " 8   keys                  10000 non-null  object \n",
      " 9   latitude              10000 non-null  float64\n",
      " 10  longitude             10000 non-null  float64\n",
      " 11  name                  10000 non-null  object \n",
      " 12  postalcode            10000 non-null  object \n",
      " 13  province              10000 non-null  object \n",
      " 14  reviews_date          10000 non-null  object \n",
      " 15  reviews_dateseen      10000 non-null  object \n",
      " 16  reviews_rating        10000 non-null  float64\n",
      " 17  reviews_sourceurls    10000 non-null  object \n",
      " 18  reviews_text          9999 non-null   object \n",
      " 19  reviews_title         9999 non-null   object \n",
      " 20  reviews_usercity      4164 non-null   object \n",
      " 21  reviews_userprovince  2705 non-null   object \n",
      " 22  reviews_username      10000 non-null  object \n",
      " 23  sourceurls            10000 non-null  object \n",
      " 24  websites              10000 non-null  object \n",
      " 25  location              10000 non-null  object \n",
      "dtypes: float64(3), object(23)\n",
      "memory usage: 2.0+ MB\n"
     ]
    }
   ],
   "source": [
    "target = data.reviews_rating\n",
    "features = data.drop('reviews_rating', axis = 1, inplace = False)\n",
    "data.info()"
   ]
  },
  {
   "cell_type": "code",
   "execution_count": 21,
   "metadata": {},
   "outputs": [
    {
     "data": {
      "text/plain": [
       "array(['US'], dtype=object)"
      ]
     },
     "execution_count": 21,
     "metadata": {},
     "output_type": "execute_result"
    }
   ],
   "source": [
    "data['country'].unique()"
   ]
  },
  {
   "cell_type": "code",
   "execution_count": 22,
   "metadata": {},
   "outputs": [
    {
     "data": {
      "text/plain": [
       "reviews_userprovince    7295\n",
       "reviews_usercity        5836\n",
       "reviews_title              1\n",
       "reviews_text               1\n",
       "location                   0\n",
       "longitude                  0\n",
       "dateadded                  0\n",
       "dateupdated                0\n",
       "address                    0\n",
       "categories                 0\n",
       "primarycategories          0\n",
       "city                       0\n",
       "country                    0\n",
       "keys                       0\n",
       "latitude                   0\n",
       "postalcode                 0\n",
       "name                       0\n",
       "websites                   0\n",
       "province                   0\n",
       "reviews_date               0\n",
       "reviews_dateseen           0\n",
       "reviews_rating             0\n",
       "reviews_sourceurls         0\n",
       "reviews_username           0\n",
       "sourceurls                 0\n",
       "id                         0\n",
       "dtype: int64"
      ]
     },
     "execution_count": 22,
     "metadata": {},
     "output_type": "execute_result"
    }
   ],
   "source": [
    "data.isnull().sum().sort_values(ascending = False)"
   ]
  },
  {
   "cell_type": "code",
   "execution_count": 34,
   "metadata": {},
   "outputs": [],
   "source": [
    "# Because I want to make a model based on reviews_text, and reviews_title, then I deleted the rows that are empty\n",
    "data = data.dropna(axis=0, subset=['reviews_text'])\n",
    "data = data.dropna(axis=0, subset=['reviews_title'])\n"
   ]
  },
  {
   "cell_type": "code",
   "execution_count": 35,
   "metadata": {},
   "outputs": [
    {
     "name": "stdout",
     "output_type": "stream",
     "text": [
      "<class 'pandas.core.frame.DataFrame'>\n",
      "Int64Index: 9998 entries, 0 to 9999\n",
      "Data columns (total 26 columns):\n",
      " #   Column                Non-Null Count  Dtype  \n",
      "---  ------                --------------  -----  \n",
      " 0   id                    9998 non-null   object \n",
      " 1   dateadded             9998 non-null   object \n",
      " 2   dateupdated           9998 non-null   object \n",
      " 3   address               9998 non-null   object \n",
      " 4   categories            9998 non-null   object \n",
      " 5   primarycategories     9998 non-null   object \n",
      " 6   city                  9998 non-null   object \n",
      " 7   country               9998 non-null   object \n",
      " 8   keys                  9998 non-null   object \n",
      " 9   latitude              9998 non-null   float64\n",
      " 10  longitude             9998 non-null   float64\n",
      " 11  name                  9998 non-null   object \n",
      " 12  postalcode            9998 non-null   object \n",
      " 13  province              9998 non-null   object \n",
      " 14  reviews_date          9998 non-null   object \n",
      " 15  reviews_dateseen      9998 non-null   object \n",
      " 16  reviews_rating        9998 non-null   float64\n",
      " 17  reviews_sourceurls    9998 non-null   object \n",
      " 18  reviews_text          9998 non-null   object \n",
      " 19  reviews_title         9998 non-null   object \n",
      " 20  reviews_usercity      4164 non-null   object \n",
      " 21  reviews_userprovince  2705 non-null   object \n",
      " 22  reviews_username      9998 non-null   object \n",
      " 23  sourceurls            9998 non-null   object \n",
      " 24  websites              9998 non-null   object \n",
      " 25  location              9998 non-null   object \n",
      "dtypes: float64(3), object(23)\n",
      "memory usage: 2.1+ MB\n"
     ]
    }
   ],
   "source": [
    "data.isnull().sum().sort_values(ascending = False)\n",
    "data.info()"
   ]
  },
  {
   "cell_type": "code",
   "execution_count": 188,
   "metadata": {
    "scrolled": true
   },
   "outputs": [
    {
     "name": "stdout",
     "output_type": "stream",
     "text": [
      " hotels that have less than 5 reviews id                      1164\n",
      "dateadded               1164\n",
      "dateupdated             1164\n",
      "address                 1164\n",
      "categories              1164\n",
      "primarycategories       1164\n",
      "city                    1164\n",
      "country                 1164\n",
      "keys                    1164\n",
      "latitude                1164\n",
      "longitude               1164\n",
      "postalcode              1164\n",
      "province                1164\n",
      "reviews_date            1164\n",
      "reviews_dateseen        1164\n",
      "reviews_rating          1164\n",
      "reviews_sourceurls      1164\n",
      "reviews_text            1164\n",
      "reviews_title           1164\n",
      "reviews_usercity        1466\n",
      "reviews_userprovince    1558\n",
      "reviews_username        1164\n",
      "sourceurls              1164\n",
      "websites                1164\n",
      "location                1164\n",
      "dtype: int64\n"
     ]
    },
    {
     "data": {
      "image/png": "[encoded data removed]",
      "text/plain": [
       "<Figure size 648x360 with 1 Axes>"
      ]
     },
     "metadata": {
      "needs_background": "light"
     },
     "output_type": "display_data"
    }
   ],
   "source": [
    "plt.figure(figsize = (9, 5)) \n",
    "data['reviews_rating'].plot(kind =\"hist\") \n",
    "number_of_reviews = data.groupby(['name']).count().sort_values('reviews_rating')\n",
    "print(\" hotels that have less than 5 reviews\", number_of_reviews[number_of_reviews < 5].count())\n",
    "# We see that we have close to 600 records that have the reating of 1 which is 1/20 of our data approximately"
   ]
  },
  {
   "cell_type": "code",
   "execution_count": 196,
   "metadata": {},
   "outputs": [
    {
     "data": {
      "text/plain": [
       "array([2013, 2014, 2015, 2016, 2012, 2018, 2009, 2011, 2017, 2010, 2007,\n",
       "       2006, 2004, 2008, 2005, 2003, 2002], dtype=int64)"
      ]
     },
     "execution_count": 196,
     "metadata": {},
     "output_type": "execute_result"
    }
   ],
   "source": [
    "# extracting the year of the reviews\n",
    "data['reviews_date'] = pd.to_datetime(data['reviews_date'])\n",
    "year_review = pd.to_datetime(data['reviews_date']).dt.year\n",
    "year_review.unique()\n",
    "### we see that the year goes from 2002 to 208. Do we need to keep the record of 2001..? "
   ]
  },
  {
   "cell_type": "code",
   "execution_count": 79,
   "metadata": {},
   "outputs": [
    {
     "name": "stdout",
     "output_type": "stream",
     "text": [
      "                      HotelName  ReviewYear  Rate\n",
      "1825  Suncoast Hotel and Casino        2003   5.0\n",
      "1867  Suncoast Hotel and Casino        2003   3.0\n",
      "2335         Omni Royal Orleans        2002   4.0\n"
     ]
    },
    {
     "data": {
      "text/plain": [
       "HotelName     58\n",
       "ReviewYear    58\n",
       "Rate          58\n",
       "dtype: int64"
      ]
     },
     "execution_count": 79,
     "metadata": {},
     "output_type": "execute_result"
    }
   ],
   "source": [
    "frame = { 'HotelName': data['name'], 'ReviewYear': year_review, 'Rate': data['reviews_rating']} \n",
    "data_NRY = pd.DataFrame(frame)  #Data_NameReviewYear\n",
    "data_NRY.head(5)\n",
    "\n",
    "data_NRY.loc[data_NRY['ReviewYear'] <=2003]\n",
    "# As the results shows, we see that there are some hotels that their review is for 2003\n",
    "print(data_NRY.loc[data_NRY['ReviewYear'] <=2003])\n",
    "#But taking a look at the data, we find that we have many of these records so, we prefer to keep them in our file \n",
    "data_NRY.loc[data_NRY['HotelName'] =='Suncoast Hotel and Casino'].count()\n",
    "\n"
   ]
  },
  {
   "cell_type": "code",
   "execution_count": 199,
   "metadata": {},
   "outputs": [
    {
     "name": "stdout",
     "output_type": "stream",
     "text": [
      "grouped_multiple.head(5)                                 HotelName  count  rate_mean  rate_min  \\\n",
      "1127  Metro Points Hotel-Washington North    202   3.702970      1.00   \n",
      "1577     The Westin Las Vegas Hotel & Spa    170   4.199412      1.45   \n",
      "269              Best Western Springfield    160   3.712500      1.00   \n",
      "5                      ARIA Resort Casino    139   4.503597      1.00   \n",
      "1055                         Kinzie Hotel    138   4.438043      1.65   \n",
      "\n",
      "      rate_max  \n",
      "1127       5.0  \n",
      "1577       5.0  \n",
      "269        5.0  \n",
      "5          5.0  \n",
      "1055       5.0  \n",
      "hotels that have just one review HotelName    600\n",
      "count        600\n",
      "rate_mean    600\n",
      "rate_min     600\n",
      "rate_max     600\n",
      "dtype: int64\n"
     ]
    }
   ],
   "source": [
    "# Here we grouped the data based on the hotelName, ReviewYear, and we take the average rate for each hotel and each year\n",
    "grouped_multiple = data_NRY.groupby(['HotelName']).agg({'Rate': ['count','mean', 'min', 'max']})\n",
    "grouped_multiple.columns = ['count','rate_mean', 'rate_min', 'rate_max']\n",
    "grouped_multiple = grouped_multiple.reset_index().sort_values(by='count', ascending=False)\n",
    "print(\"grouped_multiple.head(5)\",grouped_multiple.head(5))\n",
    "### after grouping hotels we have 2943 records, among them some of them just have 1 review which we cannot make \n",
    "# a decision based on that. We see that we have 1301 reviews which has \n",
    "\n",
    "### we have 600 hotels that they just have one review in all of these years\n",
    "### note that for gaining this, we should remove 'ReviewYear' from groupd_multiple\n",
    "### since 600 is a lot, we are not deleting them but we are also not suggesting them\n",
    "one_review = grouped_multiple.loc[grouped_multiple['count']<=1]\n",
    "print(\"hotels that have just one review\",one_review.count() )"
   ]
  },
  {
   "cell_type": "code",
   "execution_count": 109,
   "metadata": {},
   "outputs": [
    {
     "data": {
      "text/html": [
       "<div>\n",
       "<style scoped>\n",
       "    .dataframe tbody tr th:only-of-type {\n",
       "        vertical-align: middle;\n",
       "    }\n",
       "\n",
       "    .dataframe tbody tr th {\n",
       "        vertical-align: top;\n",
       "    }\n",
       "\n",
       "    .dataframe thead th {\n",
       "        text-align: right;\n",
       "    }\n",
       "</style>\n",
       "<table border=\"1\" class=\"dataframe\">\n",
       "  <thead>\n",
       "    <tr style=\"text-align: right;\">\n",
       "      <th></th>\n",
       "      <th>HotelName</th>\n",
       "      <th>count</th>\n",
       "      <th>rate_mean</th>\n",
       "      <th>rate_min</th>\n",
       "      <th>rate_max</th>\n",
       "    </tr>\n",
       "  </thead>\n",
       "  <tbody>\n",
       "    <tr>\n",
       "      <th>1127</th>\n",
       "      <td>Metro Points Hotel-Washington North</td>\n",
       "      <td>202</td>\n",
       "      <td>3.702970</td>\n",
       "      <td>1.00</td>\n",
       "      <td>5.0</td>\n",
       "    </tr>\n",
       "    <tr>\n",
       "      <th>1577</th>\n",
       "      <td>The Westin Las Vegas Hotel &amp; Spa</td>\n",
       "      <td>170</td>\n",
       "      <td>4.199412</td>\n",
       "      <td>1.45</td>\n",
       "      <td>5.0</td>\n",
       "    </tr>\n",
       "    <tr>\n",
       "      <th>269</th>\n",
       "      <td>Best Western Springfield</td>\n",
       "      <td>160</td>\n",
       "      <td>3.712500</td>\n",
       "      <td>1.00</td>\n",
       "      <td>5.0</td>\n",
       "    </tr>\n",
       "    <tr>\n",
       "      <th>5</th>\n",
       "      <td>ARIA Resort Casino</td>\n",
       "      <td>139</td>\n",
       "      <td>4.503597</td>\n",
       "      <td>1.00</td>\n",
       "      <td>5.0</td>\n",
       "    </tr>\n",
       "    <tr>\n",
       "      <th>1055</th>\n",
       "      <td>Kinzie Hotel</td>\n",
       "      <td>138</td>\n",
       "      <td>4.438043</td>\n",
       "      <td>1.65</td>\n",
       "      <td>5.0</td>\n",
       "    </tr>\n",
       "    <tr>\n",
       "      <th>1512</th>\n",
       "      <td>The Charlesmark Hotel</td>\n",
       "      <td>99</td>\n",
       "      <td>4.265657</td>\n",
       "      <td>1.45</td>\n",
       "      <td>5.0</td>\n",
       "    </tr>\n",
       "    <tr>\n",
       "      <th>964</th>\n",
       "      <td>Honua Kai Resort Spa</td>\n",
       "      <td>99</td>\n",
       "      <td>4.404040</td>\n",
       "      <td>1.00</td>\n",
       "      <td>5.0</td>\n",
       "    </tr>\n",
       "    <tr>\n",
       "      <th>1272</th>\n",
       "      <td>Ramada BWI Airport/Arundel Mills</td>\n",
       "      <td>87</td>\n",
       "      <td>3.229885</td>\n",
       "      <td>1.00</td>\n",
       "      <td>5.0</td>\n",
       "    </tr>\n",
       "    <tr>\n",
       "      <th>1575</th>\n",
       "      <td>The Virginian Suites, an Ascend Hotel Collecti...</td>\n",
       "      <td>86</td>\n",
       "      <td>4.081395</td>\n",
       "      <td>1.00</td>\n",
       "      <td>5.0</td>\n",
       "    </tr>\n",
       "    <tr>\n",
       "      <th>651</th>\n",
       "      <td>Fremont Hotel &amp; Casino</td>\n",
       "      <td>85</td>\n",
       "      <td>3.670000</td>\n",
       "      <td>1.45</td>\n",
       "      <td>5.0</td>\n",
       "    </tr>\n",
       "    <tr>\n",
       "      <th>585</th>\n",
       "      <td>Embassy Suites by Hilton Crystal City National...</td>\n",
       "      <td>83</td>\n",
       "      <td>4.457831</td>\n",
       "      <td>2.00</td>\n",
       "      <td>5.0</td>\n",
       "    </tr>\n",
       "    <tr>\n",
       "      <th>1625</th>\n",
       "      <td>W Boston</td>\n",
       "      <td>78</td>\n",
       "      <td>4.225641</td>\n",
       "      <td>1.90</td>\n",
       "      <td>5.0</td>\n",
       "    </tr>\n",
       "    <tr>\n",
       "      <th>397</th>\n",
       "      <td>Comfort Suites</td>\n",
       "      <td>76</td>\n",
       "      <td>4.210526</td>\n",
       "      <td>1.00</td>\n",
       "      <td>5.0</td>\n",
       "    </tr>\n",
       "    <tr>\n",
       "      <th>223</th>\n",
       "      <td>Best Western Plus Inn At The Vines</td>\n",
       "      <td>74</td>\n",
       "      <td>4.148649</td>\n",
       "      <td>1.00</td>\n",
       "      <td>5.0</td>\n",
       "    </tr>\n",
       "    <tr>\n",
       "      <th>1370</th>\n",
       "      <td>Room Mate Lord Balfour</td>\n",
       "      <td>65</td>\n",
       "      <td>4.257692</td>\n",
       "      <td>1.25</td>\n",
       "      <td>5.0</td>\n",
       "    </tr>\n",
       "    <tr>\n",
       "      <th>993</th>\n",
       "      <td>Hotel Zetta San Francisco</td>\n",
       "      <td>63</td>\n",
       "      <td>4.350794</td>\n",
       "      <td>2.30</td>\n",
       "      <td>5.0</td>\n",
       "    </tr>\n",
       "    <tr>\n",
       "      <th>133</th>\n",
       "      <td>Best Western Capital Beltway</td>\n",
       "      <td>62</td>\n",
       "      <td>3.354839</td>\n",
       "      <td>1.00</td>\n",
       "      <td>5.0</td>\n",
       "    </tr>\n",
       "    <tr>\n",
       "      <th>1069</th>\n",
       "      <td>La Quinta Inn Norfolk Virginia Beach</td>\n",
       "      <td>60</td>\n",
       "      <td>3.566667</td>\n",
       "      <td>1.00</td>\n",
       "      <td>5.0</td>\n",
       "    </tr>\n",
       "    <tr>\n",
       "      <th>1267</th>\n",
       "      <td>Quality Inn and Suites By The Parks</td>\n",
       "      <td>60</td>\n",
       "      <td>4.332500</td>\n",
       "      <td>1.25</td>\n",
       "      <td>5.0</td>\n",
       "    </tr>\n",
       "    <tr>\n",
       "      <th>249</th>\n",
       "      <td>Best Western Plus Virginia Beach</td>\n",
       "      <td>59</td>\n",
       "      <td>3.711864</td>\n",
       "      <td>2.00</td>\n",
       "      <td>5.0</td>\n",
       "    </tr>\n",
       "    <tr>\n",
       "      <th>1542</th>\n",
       "      <td>The Mills House Wyndham Grand Hotel</td>\n",
       "      <td>58</td>\n",
       "      <td>4.517241</td>\n",
       "      <td>2.00</td>\n",
       "      <td>5.0</td>\n",
       "    </tr>\n",
       "    <tr>\n",
       "      <th>1461</th>\n",
       "      <td>Suncoast Hotel and Casino</td>\n",
       "      <td>58</td>\n",
       "      <td>3.913793</td>\n",
       "      <td>1.00</td>\n",
       "      <td>5.0</td>\n",
       "    </tr>\n",
       "    <tr>\n",
       "      <th>1356</th>\n",
       "      <td>River Hotel</td>\n",
       "      <td>56</td>\n",
       "      <td>4.053571</td>\n",
       "      <td>1.00</td>\n",
       "      <td>5.0</td>\n",
       "    </tr>\n",
       "    <tr>\n",
       "      <th>1005</th>\n",
       "      <td>Hyatt Place Baltimore/Inner Harbor</td>\n",
       "      <td>54</td>\n",
       "      <td>4.388889</td>\n",
       "      <td>1.00</td>\n",
       "      <td>5.0</td>\n",
       "    </tr>\n",
       "    <tr>\n",
       "      <th>1245</th>\n",
       "      <td>Quality Inn</td>\n",
       "      <td>54</td>\n",
       "      <td>3.759259</td>\n",
       "      <td>1.00</td>\n",
       "      <td>5.0</td>\n",
       "    </tr>\n",
       "    <tr>\n",
       "      <th>1569</th>\n",
       "      <td>The St. Regis New York</td>\n",
       "      <td>51</td>\n",
       "      <td>4.529412</td>\n",
       "      <td>1.00</td>\n",
       "      <td>5.0</td>\n",
       "    </tr>\n",
       "    <tr>\n",
       "      <th>1500</th>\n",
       "      <td>The Boxer</td>\n",
       "      <td>50</td>\n",
       "      <td>4.285000</td>\n",
       "      <td>2.50</td>\n",
       "      <td>5.0</td>\n",
       "    </tr>\n",
       "    <tr>\n",
       "      <th>1002</th>\n",
       "      <td>Hyatt House Seattle/Downtown</td>\n",
       "      <td>50</td>\n",
       "      <td>4.280000</td>\n",
       "      <td>1.00</td>\n",
       "      <td>5.0</td>\n",
       "    </tr>\n",
       "    <tr>\n",
       "      <th>1443</th>\n",
       "      <td>SpringHill Suites by Marriott Norfolk Virginia...</td>\n",
       "      <td>46</td>\n",
       "      <td>4.217391</td>\n",
       "      <td>1.00</td>\n",
       "      <td>5.0</td>\n",
       "    </tr>\n",
       "    <tr>\n",
       "      <th>1667</th>\n",
       "      <td>dana hotel and spa</td>\n",
       "      <td>46</td>\n",
       "      <td>4.482609</td>\n",
       "      <td>2.10</td>\n",
       "      <td>5.0</td>\n",
       "    </tr>\n",
       "    <tr>\n",
       "      <th>1399</th>\n",
       "      <td>Sheraton Kansas City Hotel at Crown Center</td>\n",
       "      <td>45</td>\n",
       "      <td>4.044444</td>\n",
       "      <td>2.00</td>\n",
       "      <td>5.0</td>\n",
       "    </tr>\n",
       "    <tr>\n",
       "      <th>1197</th>\n",
       "      <td>Omni Royal Orleans</td>\n",
       "      <td>44</td>\n",
       "      <td>4.500000</td>\n",
       "      <td>1.00</td>\n",
       "      <td>5.0</td>\n",
       "    </tr>\n",
       "    <tr>\n",
       "      <th>1623</th>\n",
       "      <td>Virginia Beach Resort Hotel Conference Center</td>\n",
       "      <td>42</td>\n",
       "      <td>3.785714</td>\n",
       "      <td>1.00</td>\n",
       "      <td>5.0</td>\n",
       "    </tr>\n",
       "    <tr>\n",
       "      <th>544</th>\n",
       "      <td>DoubleTree by Hilton Hotel Washington DC - Sil...</td>\n",
       "      <td>42</td>\n",
       "      <td>4.071429</td>\n",
       "      <td>2.00</td>\n",
       "      <td>5.0</td>\n",
       "    </tr>\n",
       "    <tr>\n",
       "      <th>501</th>\n",
       "      <td>Days Inn Baltimore South/Glen Burnie</td>\n",
       "      <td>42</td>\n",
       "      <td>3.190476</td>\n",
       "      <td>1.00</td>\n",
       "      <td>5.0</td>\n",
       "    </tr>\n",
       "    <tr>\n",
       "      <th>843</th>\n",
       "      <td>Hilton Garden Inn BWI Airport</td>\n",
       "      <td>41</td>\n",
       "      <td>4.439024</td>\n",
       "      <td>2.00</td>\n",
       "      <td>5.0</td>\n",
       "    </tr>\n",
       "    <tr>\n",
       "      <th>1393</th>\n",
       "      <td>Seacrest Oceanfront Hotel</td>\n",
       "      <td>41</td>\n",
       "      <td>4.512195</td>\n",
       "      <td>1.00</td>\n",
       "      <td>5.0</td>\n",
       "    </tr>\n",
       "    <tr>\n",
       "      <th>565</th>\n",
       "      <td>Econo Lodge</td>\n",
       "      <td>41</td>\n",
       "      <td>2.853659</td>\n",
       "      <td>1.00</td>\n",
       "      <td>5.0</td>\n",
       "    </tr>\n",
       "    <tr>\n",
       "      <th>376</th>\n",
       "      <td>Comfort Inn</td>\n",
       "      <td>40</td>\n",
       "      <td>4.050000</td>\n",
       "      <td>1.00</td>\n",
       "      <td>5.0</td>\n",
       "    </tr>\n",
       "    <tr>\n",
       "      <th>1225</th>\n",
       "      <td>Pier 5 Hotel Baltimore, Curio Collection by Hi...</td>\n",
       "      <td>40</td>\n",
       "      <td>4.205000</td>\n",
       "      <td>1.00</td>\n",
       "      <td>5.0</td>\n",
       "    </tr>\n",
       "    <tr>\n",
       "      <th>911</th>\n",
       "      <td>Holiday Inn Express Charleston Dwtn - Ashley R...</td>\n",
       "      <td>39</td>\n",
       "      <td>4.153846</td>\n",
       "      <td>2.00</td>\n",
       "      <td>5.0</td>\n",
       "    </tr>\n",
       "    <tr>\n",
       "      <th>1572</th>\n",
       "      <td>The Troubadour Hotel New Orleans, Tapestry Col...</td>\n",
       "      <td>39</td>\n",
       "      <td>4.512821</td>\n",
       "      <td>1.00</td>\n",
       "      <td>5.0</td>\n",
       "    </tr>\n",
       "    <tr>\n",
       "      <th>807</th>\n",
       "      <td>Hampton Inn and Suites Baltimore Inner Harbor</td>\n",
       "      <td>39</td>\n",
       "      <td>4.226923</td>\n",
       "      <td>1.90</td>\n",
       "      <td>5.0</td>\n",
       "    </tr>\n",
       "    <tr>\n",
       "      <th>25</th>\n",
       "      <td>Aloft New Orleans Downtown</td>\n",
       "      <td>39</td>\n",
       "      <td>4.230769</td>\n",
       "      <td>1.00</td>\n",
       "      <td>5.0</td>\n",
       "    </tr>\n",
       "    <tr>\n",
       "      <th>1595</th>\n",
       "      <td>TownePlace Suites Anaheim Maingate Near Angel ...</td>\n",
       "      <td>38</td>\n",
       "      <td>4.078947</td>\n",
       "      <td>1.00</td>\n",
       "      <td>5.0</td>\n",
       "    </tr>\n",
       "    <tr>\n",
       "      <th>842</th>\n",
       "      <td>Hilton Garden Inn Atlanta Downtown</td>\n",
       "      <td>38</td>\n",
       "      <td>4.210526</td>\n",
       "      <td>2.00</td>\n",
       "      <td>5.0</td>\n",
       "    </tr>\n",
       "    <tr>\n",
       "      <th>279</th>\n",
       "      <td>Best Western Twin Islands</td>\n",
       "      <td>36</td>\n",
       "      <td>4.083333</td>\n",
       "      <td>2.00</td>\n",
       "      <td>5.0</td>\n",
       "    </tr>\n",
       "    <tr>\n",
       "      <th>910</th>\n",
       "      <td>Holiday Inn Express Baltimore-Bwi Airport West</td>\n",
       "      <td>35</td>\n",
       "      <td>4.228571</td>\n",
       "      <td>2.00</td>\n",
       "      <td>5.0</td>\n",
       "    </tr>\n",
       "    <tr>\n",
       "      <th>1395</th>\n",
       "      <td>Sense Beach House</td>\n",
       "      <td>35</td>\n",
       "      <td>4.477143</td>\n",
       "      <td>2.30</td>\n",
       "      <td>5.0</td>\n",
       "    </tr>\n",
       "    <tr>\n",
       "      <th>373</th>\n",
       "      <td>Coconut Waikiki Hotel</td>\n",
       "      <td>35</td>\n",
       "      <td>4.257143</td>\n",
       "      <td>1.00</td>\n",
       "      <td>5.0</td>\n",
       "    </tr>\n",
       "  </tbody>\n",
       "</table>\n",
       "</div>"
      ],
      "text/plain": [
       "                                              HotelName  count  rate_mean  \\\n",
       "1127                Metro Points Hotel-Washington North    202   3.702970   \n",
       "1577                   The Westin Las Vegas Hotel & Spa    170   4.199412   \n",
       "269                            Best Western Springfield    160   3.712500   \n",
       "5                                    ARIA Resort Casino    139   4.503597   \n",
       "1055                                       Kinzie Hotel    138   4.438043   \n",
       "1512                              The Charlesmark Hotel     99   4.265657   \n",
       "964                                Honua Kai Resort Spa     99   4.404040   \n",
       "1272                   Ramada BWI Airport/Arundel Mills     87   3.229885   \n",
       "1575  The Virginian Suites, an Ascend Hotel Collecti...     86   4.081395   \n",
       "651                              Fremont Hotel & Casino     85   3.670000   \n",
       "585   Embassy Suites by Hilton Crystal City National...     83   4.457831   \n",
       "1625                                           W Boston     78   4.225641   \n",
       "397                                      Comfort Suites     76   4.210526   \n",
       "223                  Best Western Plus Inn At The Vines     74   4.148649   \n",
       "1370                             Room Mate Lord Balfour     65   4.257692   \n",
       "993                           Hotel Zetta San Francisco     63   4.350794   \n",
       "133                        Best Western Capital Beltway     62   3.354839   \n",
       "1069               La Quinta Inn Norfolk Virginia Beach     60   3.566667   \n",
       "1267                Quality Inn and Suites By The Parks     60   4.332500   \n",
       "249                    Best Western Plus Virginia Beach     59   3.711864   \n",
       "1542                The Mills House Wyndham Grand Hotel     58   4.517241   \n",
       "1461                          Suncoast Hotel and Casino     58   3.913793   \n",
       "1356                                        River Hotel     56   4.053571   \n",
       "1005                 Hyatt Place Baltimore/Inner Harbor     54   4.388889   \n",
       "1245                                        Quality Inn     54   3.759259   \n",
       "1569                             The St. Regis New York     51   4.529412   \n",
       "1500                                          The Boxer     50   4.285000   \n",
       "1002                       Hyatt House Seattle/Downtown     50   4.280000   \n",
       "1443  SpringHill Suites by Marriott Norfolk Virginia...     46   4.217391   \n",
       "1667                                 dana hotel and spa     46   4.482609   \n",
       "1399         Sheraton Kansas City Hotel at Crown Center     45   4.044444   \n",
       "1197                                 Omni Royal Orleans     44   4.500000   \n",
       "1623      Virginia Beach Resort Hotel Conference Center     42   3.785714   \n",
       "544   DoubleTree by Hilton Hotel Washington DC - Sil...     42   4.071429   \n",
       "501                Days Inn Baltimore South/Glen Burnie     42   3.190476   \n",
       "843                       Hilton Garden Inn BWI Airport     41   4.439024   \n",
       "1393                          Seacrest Oceanfront Hotel     41   4.512195   \n",
       "565                                         Econo Lodge     41   2.853659   \n",
       "376                                         Comfort Inn     40   4.050000   \n",
       "1225  Pier 5 Hotel Baltimore, Curio Collection by Hi...     40   4.205000   \n",
       "911   Holiday Inn Express Charleston Dwtn - Ashley R...     39   4.153846   \n",
       "1572  The Troubadour Hotel New Orleans, Tapestry Col...     39   4.512821   \n",
       "807       Hampton Inn and Suites Baltimore Inner Harbor     39   4.226923   \n",
       "25                           Aloft New Orleans Downtown     39   4.230769   \n",
       "1595  TownePlace Suites Anaheim Maingate Near Angel ...     38   4.078947   \n",
       "842                  Hilton Garden Inn Atlanta Downtown     38   4.210526   \n",
       "279                           Best Western Twin Islands     36   4.083333   \n",
       "910      Holiday Inn Express Baltimore-Bwi Airport West     35   4.228571   \n",
       "1395                                  Sense Beach House     35   4.477143   \n",
       "373                               Coconut Waikiki Hotel     35   4.257143   \n",
       "\n",
       "      rate_min  rate_max  \n",
       "1127      1.00       5.0  \n",
       "1577      1.45       5.0  \n",
       "269       1.00       5.0  \n",
       "5         1.00       5.0  \n",
       "1055      1.65       5.0  \n",
       "1512      1.45       5.0  \n",
       "964       1.00       5.0  \n",
       "1272      1.00       5.0  \n",
       "1575      1.00       5.0  \n",
       "651       1.45       5.0  \n",
       "585       2.00       5.0  \n",
       "1625      1.90       5.0  \n",
       "397       1.00       5.0  \n",
       "223       1.00       5.0  \n",
       "1370      1.25       5.0  \n",
       "993       2.30       5.0  \n",
       "133       1.00       5.0  \n",
       "1069      1.00       5.0  \n",
       "1267      1.25       5.0  \n",
       "249       2.00       5.0  \n",
       "1542      2.00       5.0  \n",
       "1461      1.00       5.0  \n",
       "1356      1.00       5.0  \n",
       "1005      1.00       5.0  \n",
       "1245      1.00       5.0  \n",
       "1569      1.00       5.0  \n",
       "1500      2.50       5.0  \n",
       "1002      1.00       5.0  \n",
       "1443      1.00       5.0  \n",
       "1667      2.10       5.0  \n",
       "1399      2.00       5.0  \n",
       "1197      1.00       5.0  \n",
       "1623      1.00       5.0  \n",
       "544       2.00       5.0  \n",
       "501       1.00       5.0  \n",
       "843       2.00       5.0  \n",
       "1393      1.00       5.0  \n",
       "565       1.00       5.0  \n",
       "376       1.00       5.0  \n",
       "1225      1.00       5.0  \n",
       "911       2.00       5.0  \n",
       "1572      1.00       5.0  \n",
       "807       1.90       5.0  \n",
       "25        1.00       5.0  \n",
       "1595      1.00       5.0  \n",
       "842       2.00       5.0  \n",
       "279       2.00       5.0  \n",
       "910       2.00       5.0  \n",
       "1395      2.30       5.0  \n",
       "373       1.00       5.0  "
      ]
     },
     "execution_count": 109,
     "metadata": {},
     "output_type": "execute_result"
    }
   ],
   "source": [
    "grouped_multiple[0:50]"
   ]
  },
  {
   "cell_type": "code",
   "execution_count": 110,
   "metadata": {},
   "outputs": [
    {
     "data": {
      "image/png": "[encoded data removed]",
      "text/plain": [
       "<Figure size 432x288 with 1 Axes>"
      ]
     },
     "metadata": {
      "needs_background": "light"
     },
     "output_type": "display_data"
    }
   ],
   "source": [
    "df50 = grouped_multiple[grouped_multiple['count'] >=80]\n",
    "box1= df50.boxplot(column = 'rate_mean', by = 'HotelName')"
   ]
  },
  {
   "cell_type": "code",
   "execution_count": 111,
   "metadata": {},
   "outputs": [
    {
     "name": "stdout",
     "output_type": "stream",
     "text": [
      "                                HotelName  ReviewYear  count  rate_mean  \\\n",
      "8                      ARIA Resort Casino        2016    126   4.555556   \n",
      "2772     The Westin Las Vegas Hotel & Spa        2017    117   4.138034   \n",
      "1821                         Kinzie Hotel        2016     60   4.319167   \n",
      "1953  Metro Points Hotel-Washington North        2013     50   3.680000   \n",
      "1118               Fremont Hotel & Casino        2017     49   3.612245   \n",
      "\n",
      "      rate_min  rate_max  \n",
      "8         1.00       5.0  \n",
      "2772      1.45       5.0  \n",
      "1821      1.65       5.0  \n",
      "1953      1.00       5.0  \n",
      "1118      1.45       5.0  \n"
     ]
    }
   ],
   "source": [
    "grouped_multiple_y = data_NRY.groupby(['HotelName', 'ReviewYear']).agg({'Rate': ['count','mean', 'min', 'max']})\n",
    "grouped_multiple_y.columns = ['count','rate_mean', 'rate_min', 'rate_max']\n",
    "grouped_multiple_y = grouped_multiple_y.reset_index().sort_values(by='count', ascending=False)\n",
    "print(grouped_multiple_y.head(5))"
   ]
  },
  {
   "cell_type": "code",
   "execution_count": null,
   "metadata": {},
   "outputs": [],
   "source": []
  },
  {
   "cell_type": "code",
   "execution_count": 177,
   "metadata": {},
   "outputs": [
    {
     "data": {
      "image/png": "[encoded data removed]",
      "text/plain": [
       "<Figure size 432x288 with 1 Axes>"
      ]
     },
     "metadata": {
      "needs_background": "light"
     },
     "output_type": "display_data"
    }
   ],
   "source": [
    "df50 = grouped_multiple_y[grouped_multiple_y['HotelName'] == 'Omni Royal Orleans']\n",
    "box1= df50.boxplot(column = 'rate_mean', by = 'HotelName')"
   ]
  },
  {
   "cell_type": "code",
   "execution_count": 124,
   "metadata": {},
   "outputs": [
    {
     "data": {
      "image/png": "[encoded data removed]",
      "text/plain": [
       "<Figure size 432x288 with 1 Axes>"
      ]
     },
     "metadata": {
      "needs_background": "light"
     },
     "output_type": "display_data"
    }
   ],
   "source": [
    "top20 = grouped_multiple_y[0:20]\n",
    "df50 = top20[top20['rate_mean'] >=4]\n",
    "box1= df50.boxplot(column = 'rate_mean', by = 'HotelName')\n",
    "\n",
    "\n",
    "#box1= df50.boxplot(column = 'rate_mean', by = 'ReviewYear')"
   ]
  },
  {
   "cell_type": "code",
   "execution_count": 127,
   "metadata": {},
   "outputs": [
    {
     "data": {
      "image/png": "[encoded data removed]",
      "text/plain": [
       "<Figure size 1080x504 with 1 Axes>"
      ]
     },
     "metadata": {
      "needs_background": "light"
     },
     "output_type": "display_data"
    }
   ],
   "source": [
    "fig, ax = plt.subplots(figsize=(15,7))\n",
    "data_NRY.groupby(['HotelName']).count()['Rate'].plot(ax=ax)\n",
    "### this shows that how the number of rating per each hotel differs\n",
    "\n",
    "\n",
    "'''\n",
    "\n",
    "grouped_multiple_y = data_NRY.groupby(['HotelName', 'ReviewYear']).agg({'Rate': ['count','mean', 'min', 'max']})\n",
    "grouped_multiple_y.columns = ['count','rate_mean', 'rate_min', 'rate_max']\n",
    "grouped_multiple_y = grouped_multiple_y.reset_index().sort_values(by='count', ascending=False)\n",
    "\n",
    "'''"
   ]
  },
  {
   "cell_type": "code",
   "execution_count": 175,
   "metadata": {},
   "outputs": [
    {
     "name": "stdout",
     "output_type": "stream",
     "text": [
      "          HotelName  ReviewYear  Rate\n",
      "2295  Hotel Lincoln        2016   4.0\n",
      "2296  Hotel Lincoln        2016   4.0\n",
      "2297  Hotel Lincoln        2016   4.0\n",
      "2298  Hotel Lincoln        2016   5.0\n",
      "2299  Hotel Lincoln        2016   4.0\n",
      "2300  Hotel Lincoln        2016   5.0\n",
      "2301  Hotel Lincoln        2016   5.0\n",
      "2302  Hotel Lincoln        2016   3.0\n"
     ]
    },
    {
     "data": {
      "text/plain": [
       "<matplotlib.axes._subplots.AxesSubplot at 0x2201c6eff08>"
      ]
     },
     "execution_count": 175,
     "metadata": {},
     "output_type": "execute_result"
    },
    {
     "data": {
      "image/png": "[encoded data removed]",
      "text/plain": [
       "<Figure size 1080x504 with 1 Axes>"
      ]
     },
     "metadata": {
      "needs_background": "light"
     },
     "output_type": "display_data"
    }
   ],
   "source": [
    "fig, ax = plt.subplots(figsize=(15,7))\n",
    "#data_NRY.groupby(['HotelName']).count()['ReviewYear'].plot(ax=ax)\n",
    "\n",
    "df50 = data_NRY[data_NRY['HotelName'] == 'Hotel Lincoln']\n",
    "print(df50)\n",
    "#reviews_rating\n",
    "df50['Rate'].plot(ax = ax)\n",
    "#df50.count()['Rate'].plot(ax=ax)\n",
    "\n"
   ]
  },
  {
   "cell_type": "code",
   "execution_count": null,
   "metadata": {},
   "outputs": [],
   "source": [
    "\n",
    "\n"
   ]
  },
  {
   "cell_type": "code",
   "execution_count": 202,
   "metadata": {},
   "outputs": [
    {
     "name": "stdout",
     "output_type": "stream",
     "text": [
      "8                        ARIA Resort Casino\n",
      "2772       The Westin Las Vegas Hotel & Spa\n",
      "1821                           Kinzie Hotel\n",
      "1953    Metro Points Hotel-Washington North\n",
      "1118                 Fremont Hotel & Casino\n",
      "Name: HotelName, dtype: object \n",
      "\n"
     ]
    }
   ],
   "source": [
    "grouped_multiple_y = data_NRY.groupby(['HotelName', 'ReviewYear']).agg({'Rate': ['count','mean', 'min', 'max']})\n",
    "grouped_multiple_y.columns = ['count','rate_mean', 'rate_min', 'rate_max']\n",
    "grouped_multiple_y = grouped_multiple_y.reset_index().sort_values(by='count', ascending=False)\n",
    "print(grouped_multiple_y.head(5).HotelName, \"\\n\")"
   ]
  },
  {
   "cell_type": "code",
   "execution_count": null,
   "metadata": {},
   "outputs": [],
   "source": []
  }
 ],
 "metadata": {
  "kernelspec": {
   "display_name": "Python 3",
   "language": "python",
   "name": "python3"
  },
  "language_info": {
   "codemirror_mode": {
    "name": "ipython",
    "version": 3
   },
   "file_extension": ".py",
   "mimetype": "text/x-python",
   "name": "python",
   "nbconvert_exporter": "python",
   "pygments_lexer": "ipython3",
   "version": "3.7.6"
  }
 },
 "nbformat": 4,
 "nbformat_minor": 4
}
