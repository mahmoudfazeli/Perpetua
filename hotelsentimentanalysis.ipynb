{
 "cells": [
  {
   "cell_type": "code",
   "execution_count": 1,
   "id": "8515550a",
   "metadata": {
    "execution": {
     "iopub.execute_input": "2022-07-26T11:09:19.015841Z",
     "iopub.status.busy": "2022-07-26T11:09:19.015409Z",
     "iopub.status.idle": "2022-07-26T11:09:20.725808Z",
     "shell.execute_reply": "2022-07-26T11:09:20.724885Z"
    },
    "papermill": {
     "duration": 1.723295,
     "end_time": "2022-07-26T11:09:20.728561",
     "exception": false,
     "start_time": "2022-07-26T11:09:19.005266",
     "status": "completed"
    },
    "tags": []
   },
   "outputs": [],
   "source": [
    "import pandas as pd\n",
    "import nltk\n",
    "#import matplotlib.pyplot as plt\n",
    "#import seaborn as sns \n",
    "#from datetime import datetime\n",
    "#import numpy as np\n",
    "#import matplotlib.pyplot as plt\n",
    "#import string\n",
    "#import re\n",
    "\n"
   ]
  },
  {
   "cell_type": "code",
   "execution_count": null,
   "id": "c6d84ead",
   "metadata": {
    "papermill": {
     "duration": 0.007623,
     "end_time": "2022-07-26T11:09:20.743929",
     "exception": false,
     "start_time": "2022-07-26T11:09:20.736306",
     "status": "completed"
    },
    "tags": []
   },
   "outputs": [],
   "source": []
  },
  {
   "cell_type": "code",
   "execution_count": 2,
   "id": "74a171ef",
   "metadata": {
    "execution": {
     "iopub.execute_input": "2022-07-26T11:09:20.761156Z",
     "iopub.status.busy": "2022-07-26T11:09:20.760168Z",
     "iopub.status.idle": "2022-07-26T11:09:25.052936Z",
     "shell.execute_reply": "2022-07-26T11:09:25.051760Z"
    },
    "papermill": {
     "duration": 4.304355,
     "end_time": "2022-07-26T11:09:25.055713",
     "exception": false,
     "start_time": "2022-07-26T11:09:20.751358",
     "status": "completed"
    },
    "tags": []
   },
   "outputs": [
    {
     "name": "stdout",
     "output_type": "stream",
     "text": [
      "Cloning into 'Perpetua'...\r\n",
      "remote: Enumerating objects: 17, done.\u001b[K\r\n",
      "remote: Counting objects: 100% (17/17), done.\u001b[K\r\n",
      "remote: Compressing objects: 100% (15/15), done.\u001b[K\r\n",
      "remote: Total 17 (delta 3), reused 5 (delta 1), pack-reused 0\u001b[K\r\n",
      "Unpacking objects: 100% (17/17), 3.25 MiB | 1.80 MiB/s, done.\r\n"
     ]
    }
   ],
   "source": [
    "!git clone https://github.com/mahmoudfazeli/Perpetua.git"
   ]
  },
  {
   "cell_type": "code",
   "execution_count": 3,
   "id": "f4a4b739",
   "metadata": {
    "execution": {
     "iopub.execute_input": "2022-07-26T11:09:25.074123Z",
     "iopub.status.busy": "2022-07-26T11:09:25.073717Z",
     "iopub.status.idle": "2022-07-26T11:09:25.522303Z",
     "shell.execute_reply": "2022-07-26T11:09:25.520637Z"
    },
    "papermill": {
     "duration": 0.4612,
     "end_time": "2022-07-26T11:09:25.524994",
     "exception": false,
     "start_time": "2022-07-26T11:09:25.063794",
     "status": "completed"
    },
    "tags": []
   },
   "outputs": [
    {
     "name": "stdout",
     "output_type": "stream",
     "text": [
      "<class 'pandas.core.frame.DataFrame'>\n",
      "Int64Index: 9998 entries, 0 to 9999\n",
      "Data columns (total 26 columns):\n",
      " #   Column                Non-Null Count  Dtype  \n",
      "---  ------                --------------  -----  \n",
      " 0   id                    9998 non-null   object \n",
      " 1   dateadded             9998 non-null   object \n",
      " 2   dateupdated           9998 non-null   object \n",
      " 3   address               9998 non-null   object \n",
      " 4   categories            9998 non-null   object \n",
      " 5   primarycategories     9998 non-null   object \n",
      " 6   city                  9998 non-null   object \n",
      " 7   country               9998 non-null   object \n",
      " 8   keys                  9998 non-null   object \n",
      " 9   latitude              9998 non-null   float64\n",
      " 10  longitude             9998 non-null   float64\n",
      " 11  name                  9998 non-null   object \n",
      " 12  postalcode            9998 non-null   object \n",
      " 13  province              9998 non-null   object \n",
      " 14  reviews_date          9998 non-null   object \n",
      " 15  reviews_dateseen      9998 non-null   object \n",
      " 16  reviews_rating        9998 non-null   float64\n",
      " 17  reviews_sourceurls    9998 non-null   object \n",
      " 18  reviews_text          9998 non-null   object \n",
      " 19  reviews_title         9998 non-null   object \n",
      " 20  reviews_usercity      4164 non-null   object \n",
      " 21  reviews_userprovince  2705 non-null   object \n",
      " 22  reviews_username      9998 non-null   object \n",
      " 23  sourceurls            9998 non-null   object \n",
      " 24  websites              9998 non-null   object \n",
      " 25  location              9998 non-null   object \n",
      "dtypes: float64(3), object(23)\n",
      "memory usage: 2.1+ MB\n"
     ]
    }
   ],
   "source": [
    "reviews = pd.read_csv('./Perpetua/datasets/hotel_reviews.csv')\n",
    "#reviews = pd.read_csv('hotel_reviews - Copy.csv')\n",
    "y = reviews.reviews_rating\n",
    "X = reviews.drop('reviews_rating', axis = 1, inplace = False)\n",
    "reviews = reviews.dropna(axis=0, subset=['reviews_text'])\n",
    "reviews = reviews.dropna(axis=0, subset=['reviews_title'])\n",
    "reviews.info()"
   ]
  },
  {
   "cell_type": "code",
   "execution_count": 4,
   "id": "22bebfe4",
   "metadata": {
    "execution": {
     "iopub.execute_input": "2022-07-26T11:09:25.542491Z",
     "iopub.status.busy": "2022-07-26T11:09:25.542129Z",
     "iopub.status.idle": "2022-07-26T11:09:25.553244Z",
     "shell.execute_reply": "2022-07-26T11:09:25.552170Z"
    },
    "papermill": {
     "duration": 0.022919,
     "end_time": "2022-07-26T11:09:25.555794",
     "exception": false,
     "start_time": "2022-07-26T11:09:25.532875",
     "status": "completed"
    },
    "tags": []
   },
   "outputs": [
    {
     "data": {
      "text/plain": [
       "0                Best romantic vacation ever!!!!\n",
       "1                           Sweet sweet serenity\n",
       "2                Amazing Property and Experience\n",
       "3       Never again...beware, if you want sleep.\n",
       "4                           ALWAYS GREAT STAY...\n",
       "                          ...                   \n",
       "9995                  Picture Window Ocean View!\n",
       "9996                Clean, comfortable and quiet\n",
       "9997                             Passing through\n",
       "9998                                    Terrible\n",
       "9999                                       Polde\n",
       "Name: reviews_title, Length: 9998, dtype: object"
      ]
     },
     "execution_count": 4,
     "metadata": {},
     "output_type": "execute_result"
    }
   ],
   "source": [
    "reviews['reviews_title']"
   ]
  },
  {
   "cell_type": "code",
   "execution_count": 5,
   "id": "dea5f186",
   "metadata": {
    "execution": {
     "iopub.execute_input": "2022-07-26T11:09:25.573329Z",
     "iopub.status.busy": "2022-07-26T11:09:25.572980Z",
     "iopub.status.idle": "2022-07-26T11:09:25.585665Z",
     "shell.execute_reply": "2022-07-26T11:09:25.584634Z"
    },
    "papermill": {
     "duration": 0.024237,
     "end_time": "2022-07-26T11:09:25.587932",
     "exception": false,
     "start_time": "2022-07-26T11:09:25.563695",
     "status": "completed"
    },
    "tags": []
   },
   "outputs": [],
   "source": [
    "reviews['reviews_title'] = reviews['reviews_title'].str.lower()"
   ]
  },
  {
   "cell_type": "code",
   "execution_count": 6,
   "id": "e9547c65",
   "metadata": {
    "execution": {
     "iopub.execute_input": "2022-07-26T11:09:25.605649Z",
     "iopub.status.busy": "2022-07-26T11:09:25.605220Z",
     "iopub.status.idle": "2022-07-26T11:09:25.613862Z",
     "shell.execute_reply": "2022-07-26T11:09:25.612755Z"
    },
    "papermill": {
     "duration": 0.020388,
     "end_time": "2022-07-26T11:09:25.616357",
     "exception": false,
     "start_time": "2022-07-26T11:09:25.595969",
     "status": "completed"
    },
    "tags": []
   },
   "outputs": [
    {
     "data": {
      "text/plain": [
       "0                best romantic vacation ever!!!!\n",
       "1                           sweet sweet serenity\n",
       "2                amazing property and experience\n",
       "3       never again...beware, if you want sleep.\n",
       "4                           always great stay...\n",
       "                          ...                   \n",
       "9995                  picture window ocean view!\n",
       "9996                clean, comfortable and quiet\n",
       "9997                             passing through\n",
       "9998                                    terrible\n",
       "9999                                       polde\n",
       "Name: reviews_title, Length: 9998, dtype: object"
      ]
     },
     "execution_count": 6,
     "metadata": {},
     "output_type": "execute_result"
    }
   ],
   "source": [
    "reviews['reviews_title']"
   ]
  },
  {
   "cell_type": "code",
   "execution_count": 7,
   "id": "a49e54dc",
   "metadata": {
    "execution": {
     "iopub.execute_input": "2022-07-26T11:09:25.635763Z",
     "iopub.status.busy": "2022-07-26T11:09:25.635345Z",
     "iopub.status.idle": "2022-07-26T11:09:25.657828Z",
     "shell.execute_reply": "2022-07-26T11:09:25.656631Z"
    },
    "papermill": {
     "duration": 0.035805,
     "end_time": "2022-07-26T11:09:25.660238",
     "exception": false,
     "start_time": "2022-07-26T11:09:25.624433",
     "status": "completed"
    },
    "tags": []
   },
   "outputs": [
    {
     "name": "stdout",
     "output_type": "stream",
     "text": [
      "['best', 'romantic', 'vacation', 'ever', '!', '!', '!', '!']\n"
     ]
    }
   ],
   "source": [
    "print(nltk.word_tokenize(reviews['reviews_title'][0]))"
   ]
  },
  {
   "cell_type": "code",
   "execution_count": 8,
   "id": "4df36dcd",
   "metadata": {
    "execution": {
     "iopub.execute_input": "2022-07-26T11:09:25.678468Z",
     "iopub.status.busy": "2022-07-26T11:09:25.678078Z",
     "iopub.status.idle": "2022-07-26T11:09:27.195094Z",
     "shell.execute_reply": "2022-07-26T11:09:27.193849Z"
    },
    "papermill": {
     "duration": 1.529314,
     "end_time": "2022-07-26T11:09:27.197643",
     "exception": false,
     "start_time": "2022-07-26T11:09:25.668329",
     "status": "completed"
    },
    "tags": []
   },
   "outputs": [
    {
     "data": {
      "text/plain": [
       "0                   [best, romantic, vacation, ever]\n",
       "1                           [sweet, sweet, serenity]\n",
       "2               [amazing, property, and, experience]\n",
       "3       [never, again, beware, if, you, want, sleep]\n",
       "4                              [always, great, stay]\n",
       "                            ...                     \n",
       "9995                  [picture, window, ocean, view]\n",
       "9996                [clean, comfortable, and, quiet]\n",
       "9997                              [passing, through]\n",
       "9998                                      [terrible]\n",
       "9999                                         [polde]\n",
       "Name: words, Length: 9998, dtype: object"
      ]
     },
     "execution_count": 8,
     "metadata": {},
     "output_type": "execute_result"
    }
   ],
   "source": [
    "def identify_tokens(data):\n",
    "    review = data['reviews_title']\n",
    "    tokens = nltk.word_tokenize(review)\n",
    "    # taken only words (not punctuation)\n",
    "    token_words = [w for w in tokens if w.isalpha()]\n",
    "    return token_words\n",
    "\n",
    "reviews['words'] = reviews.apply(identify_tokens, axis=1)\n",
    "reviews['words'] "
   ]
  },
  {
   "cell_type": "code",
   "execution_count": 9,
   "id": "913bfe5b",
   "metadata": {
    "execution": {
     "iopub.execute_input": "2022-07-26T11:09:27.216305Z",
     "iopub.status.busy": "2022-07-26T11:09:27.215908Z",
     "iopub.status.idle": "2022-07-26T11:09:28.554773Z",
     "shell.execute_reply": "2022-07-26T11:09:28.553645Z"
    },
    "papermill": {
     "duration": 1.351124,
     "end_time": "2022-07-26T11:09:28.557156",
     "exception": false,
     "start_time": "2022-07-26T11:09:27.206032",
     "status": "completed"
    },
    "tags": []
   },
   "outputs": [
    {
     "data": {
      "text/plain": [
       "0                       [best, romant, vacat, ever]\n",
       "1                             [sweet, sweet, seren]\n",
       "2                     [amaz, properti, and, experi]\n",
       "3       [never, again, bewar, if, you, want, sleep]\n",
       "4                              [alway, great, stay]\n",
       "                           ...                     \n",
       "9995                  [pictur, window, ocean, view]\n",
       "9996                   [clean, comfort, and, quiet]\n",
       "9997                                [pass, through]\n",
       "9998                                      [terribl]\n",
       "9999                                         [pold]\n",
       "Name: stemmed_words, Length: 9998, dtype: object"
      ]
     },
     "execution_count": 9,
     "metadata": {},
     "output_type": "execute_result"
    }
   ],
   "source": [
    "from nltk.stem import PorterStemmer\n",
    "stemming = PorterStemmer()\n",
    "def stem_list(data):\n",
    "    my_list = data['words']\n",
    "    stemmed_list = [stemming.stem(word) for word in my_list]\n",
    "    return (stemmed_list)\n",
    "\n",
    "reviews['stemmed_words'] = reviews.apply(stem_list, axis=1)\n",
    "reviews['stemmed_words']"
   ]
  },
  {
   "cell_type": "code",
   "execution_count": 10,
   "id": "bf54d348",
   "metadata": {
    "execution": {
     "iopub.execute_input": "2022-07-26T11:09:28.575636Z",
     "iopub.status.busy": "2022-07-26T11:09:28.575200Z",
     "iopub.status.idle": "2022-07-26T11:09:28.755383Z",
     "shell.execute_reply": "2022-07-26T11:09:28.754230Z"
    },
    "papermill": {
     "duration": 0.192149,
     "end_time": "2022-07-26T11:09:28.757601",
     "exception": false,
     "start_time": "2022-07-26T11:09:28.565452",
     "status": "completed"
    },
    "tags": []
   },
   "outputs": [
    {
     "data": {
      "text/plain": [
       "0         [best, romant, vacat, ever]\n",
       "1               [sweet, sweet, seren]\n",
       "2            [amaz, properti, experi]\n",
       "3         [never, bewar, want, sleep]\n",
       "4                [alway, great, stay]\n",
       "                    ...              \n",
       "9995    [pictur, window, ocean, view]\n",
       "9996          [clean, comfort, quiet]\n",
       "9997                           [pass]\n",
       "9998                        [terribl]\n",
       "9999                           [pold]\n",
       "Name: stem_meaningful, Length: 9998, dtype: object"
      ]
     },
     "execution_count": 10,
     "metadata": {},
     "output_type": "execute_result"
    }
   ],
   "source": [
    "from nltk.corpus import stopwords\n",
    "stops = set(stopwords.words(\"english\"))                  \n",
    "\n",
    "def remove_stops(data):\n",
    "    my_list = data['stemmed_words']\n",
    "    meaningful_words = [w for w in my_list if not w in stops]\n",
    "    return (meaningful_words)\n",
    "\n",
    "reviews['stem_meaningful'] = reviews.apply(remove_stops, axis=1)\n",
    "reviews['stem_meaningful']"
   ]
  },
  {
   "cell_type": "code",
   "execution_count": 11,
   "id": "4a9d57e1",
   "metadata": {
    "execution": {
     "iopub.execute_input": "2022-07-26T11:09:28.777550Z",
     "iopub.status.busy": "2022-07-26T11:09:28.776594Z",
     "iopub.status.idle": "2022-07-26T11:09:28.956549Z",
     "shell.execute_reply": "2022-07-26T11:09:28.955316Z"
    },
    "papermill": {
     "duration": 0.192849,
     "end_time": "2022-07-26T11:09:28.959242",
     "exception": false,
     "start_time": "2022-07-26T11:09:28.766393",
     "status": "completed"
    },
    "tags": []
   },
   "outputs": [
    {
     "data": {
      "text/html": [
       "<div>\n",
       "<style scoped>\n",
       "    .dataframe tbody tr th:only-of-type {\n",
       "        vertical-align: middle;\n",
       "    }\n",
       "\n",
       "    .dataframe tbody tr th {\n",
       "        vertical-align: top;\n",
       "    }\n",
       "\n",
       "    .dataframe thead th {\n",
       "        text-align: right;\n",
       "    }\n",
       "</style>\n",
       "<table border=\"1\" class=\"dataframe\">\n",
       "  <thead>\n",
       "    <tr style=\"text-align: right;\">\n",
       "      <th></th>\n",
       "      <th>id</th>\n",
       "      <th>dateadded</th>\n",
       "      <th>dateupdated</th>\n",
       "      <th>address</th>\n",
       "      <th>categories</th>\n",
       "      <th>primarycategories</th>\n",
       "      <th>city</th>\n",
       "      <th>country</th>\n",
       "      <th>keys</th>\n",
       "      <th>latitude</th>\n",
       "      <th>...</th>\n",
       "      <th>reviews_usercity</th>\n",
       "      <th>reviews_userprovince</th>\n",
       "      <th>reviews_username</th>\n",
       "      <th>sourceurls</th>\n",
       "      <th>websites</th>\n",
       "      <th>location</th>\n",
       "      <th>words</th>\n",
       "      <th>stemmed_words</th>\n",
       "      <th>stem_meaningful</th>\n",
       "      <th>processed</th>\n",
       "    </tr>\n",
       "  </thead>\n",
       "  <tbody>\n",
       "    <tr>\n",
       "      <th>0</th>\n",
       "      <td>AVwc252WIN2L1WUfpqLP</td>\n",
       "      <td>2016-10-30T21:42:42Z</td>\n",
       "      <td>2018-09-10T21:06:27Z</td>\n",
       "      <td>5921 Valencia Cir</td>\n",
       "      <td>Hotels,Hotels and motels,Hotel and motel reser...</td>\n",
       "      <td>Accommodation &amp; Food Services</td>\n",
       "      <td>Rancho Santa Fe</td>\n",
       "      <td>US</td>\n",
       "      <td>us/ca/ranchosantafe/5921valenciacir/359754519</td>\n",
       "      <td>32.990959</td>\n",
       "      <td>...</td>\n",
       "      <td>NaN</td>\n",
       "      <td>NaN</td>\n",
       "      <td>Paula</td>\n",
       "      <td>http://www.hotels.com/ho125419/%25252525253Flo...</td>\n",
       "      <td>http://www.ranchovalencia.com</td>\n",
       "      <td>POINT(-117.186136 32.990959)</td>\n",
       "      <td>[best, romantic, vacation, ever]</td>\n",
       "      <td>[best, romant, vacat, ever]</td>\n",
       "      <td>[best, romant, vacat, ever]</td>\n",
       "      <td>best romant vacat ever</td>\n",
       "    </tr>\n",
       "    <tr>\n",
       "      <th>1</th>\n",
       "      <td>AVwc252WIN2L1WUfpqLP</td>\n",
       "      <td>2016-10-30T21:42:42Z</td>\n",
       "      <td>2018-09-10T21:06:27Z</td>\n",
       "      <td>5921 Valencia Cir</td>\n",
       "      <td>Hotels,Hotels and motels,Hotel and motel reser...</td>\n",
       "      <td>Accommodation &amp; Food Services</td>\n",
       "      <td>Rancho Santa Fe</td>\n",
       "      <td>US</td>\n",
       "      <td>us/ca/ranchosantafe/5921valenciacir/359754519</td>\n",
       "      <td>32.990959</td>\n",
       "      <td>...</td>\n",
       "      <td>NaN</td>\n",
       "      <td>NaN</td>\n",
       "      <td>D</td>\n",
       "      <td>http://www.hotels.com/ho125419/%25252525253Flo...</td>\n",
       "      <td>http://www.ranchovalencia.com</td>\n",
       "      <td>POINT(-117.186136 32.990959)</td>\n",
       "      <td>[sweet, sweet, serenity]</td>\n",
       "      <td>[sweet, sweet, seren]</td>\n",
       "      <td>[sweet, sweet, seren]</td>\n",
       "      <td>sweet sweet seren</td>\n",
       "    </tr>\n",
       "    <tr>\n",
       "      <th>2</th>\n",
       "      <td>AVwc252WIN2L1WUfpqLP</td>\n",
       "      <td>2016-10-30T21:42:42Z</td>\n",
       "      <td>2018-09-10T21:06:27Z</td>\n",
       "      <td>5921 Valencia Cir</td>\n",
       "      <td>Hotels,Hotels and motels,Hotel and motel reser...</td>\n",
       "      <td>Accommodation &amp; Food Services</td>\n",
       "      <td>Rancho Santa Fe</td>\n",
       "      <td>US</td>\n",
       "      <td>us/ca/ranchosantafe/5921valenciacir/359754519</td>\n",
       "      <td>32.990959</td>\n",
       "      <td>...</td>\n",
       "      <td>NaN</td>\n",
       "      <td>NaN</td>\n",
       "      <td>Ron</td>\n",
       "      <td>http://www.hotels.com/ho125419/%25252525253Flo...</td>\n",
       "      <td>http://www.ranchovalencia.com</td>\n",
       "      <td>POINT(-117.186136 32.990959)</td>\n",
       "      <td>[amazing, property, and, experience]</td>\n",
       "      <td>[amaz, properti, and, experi]</td>\n",
       "      <td>[amaz, properti, experi]</td>\n",
       "      <td>amaz properti experi</td>\n",
       "    </tr>\n",
       "    <tr>\n",
       "      <th>3</th>\n",
       "      <td>AVwdOclqIN2L1WUfti38</td>\n",
       "      <td>2015-11-28T19:19:35Z</td>\n",
       "      <td>2018-09-10T21:06:16Z</td>\n",
       "      <td>7520 Teague Rd</td>\n",
       "      <td>Hotels,Hotels and motels,Travel agencies and b...</td>\n",
       "      <td>Accommodation &amp; Food Services</td>\n",
       "      <td>Hanover</td>\n",
       "      <td>US</td>\n",
       "      <td>us/md/hanover/7520teaguerd/-2043779672</td>\n",
       "      <td>39.155929</td>\n",
       "      <td>...</td>\n",
       "      <td>Richmond</td>\n",
       "      <td>VA</td>\n",
       "      <td>jaeem2016</td>\n",
       "      <td>http://www.yellowbook.com/profile/aloft-arunde...</td>\n",
       "      <td>http://www.starwoodhotels.com/alofthotels/prop...</td>\n",
       "      <td>POINT(-76.716341 39.155929)</td>\n",
       "      <td>[never, again, beware, if, you, want, sleep]</td>\n",
       "      <td>[never, again, bewar, if, you, want, sleep]</td>\n",
       "      <td>[never, bewar, want, sleep]</td>\n",
       "      <td>never bewar want sleep</td>\n",
       "    </tr>\n",
       "    <tr>\n",
       "      <th>4</th>\n",
       "      <td>AVwdOclqIN2L1WUfti38</td>\n",
       "      <td>2015-11-28T19:19:35Z</td>\n",
       "      <td>2018-09-10T21:06:16Z</td>\n",
       "      <td>7520 Teague Rd</td>\n",
       "      <td>Hotels,Hotels and motels,Travel agencies and b...</td>\n",
       "      <td>Accommodation &amp; Food Services</td>\n",
       "      <td>Hanover</td>\n",
       "      <td>US</td>\n",
       "      <td>us/md/hanover/7520teaguerd/-2043779672</td>\n",
       "      <td>39.155929</td>\n",
       "      <td>...</td>\n",
       "      <td>Laurel</td>\n",
       "      <td>MD</td>\n",
       "      <td>MamaNiaOne</td>\n",
       "      <td>http://www.yellowbook.com/profile/aloft-arunde...</td>\n",
       "      <td>http://www.starwoodhotels.com/alofthotels/prop...</td>\n",
       "      <td>POINT(-76.716341 39.155929)</td>\n",
       "      <td>[always, great, stay]</td>\n",
       "      <td>[alway, great, stay]</td>\n",
       "      <td>[alway, great, stay]</td>\n",
       "      <td>alway great stay</td>\n",
       "    </tr>\n",
       "  </tbody>\n",
       "</table>\n",
       "<p>5 rows × 30 columns</p>\n",
       "</div>"
      ],
      "text/plain": [
       "                     id             dateadded           dateupdated  \\\n",
       "0  AVwc252WIN2L1WUfpqLP  2016-10-30T21:42:42Z  2018-09-10T21:06:27Z   \n",
       "1  AVwc252WIN2L1WUfpqLP  2016-10-30T21:42:42Z  2018-09-10T21:06:27Z   \n",
       "2  AVwc252WIN2L1WUfpqLP  2016-10-30T21:42:42Z  2018-09-10T21:06:27Z   \n",
       "3  AVwdOclqIN2L1WUfti38  2015-11-28T19:19:35Z  2018-09-10T21:06:16Z   \n",
       "4  AVwdOclqIN2L1WUfti38  2015-11-28T19:19:35Z  2018-09-10T21:06:16Z   \n",
       "\n",
       "             address                                         categories  \\\n",
       "0  5921 Valencia Cir  Hotels,Hotels and motels,Hotel and motel reser...   \n",
       "1  5921 Valencia Cir  Hotels,Hotels and motels,Hotel and motel reser...   \n",
       "2  5921 Valencia Cir  Hotels,Hotels and motels,Hotel and motel reser...   \n",
       "3     7520 Teague Rd  Hotels,Hotels and motels,Travel agencies and b...   \n",
       "4     7520 Teague Rd  Hotels,Hotels and motels,Travel agencies and b...   \n",
       "\n",
       "               primarycategories             city country  \\\n",
       "0  Accommodation & Food Services  Rancho Santa Fe      US   \n",
       "1  Accommodation & Food Services  Rancho Santa Fe      US   \n",
       "2  Accommodation & Food Services  Rancho Santa Fe      US   \n",
       "3  Accommodation & Food Services          Hanover      US   \n",
       "4  Accommodation & Food Services          Hanover      US   \n",
       "\n",
       "                                            keys   latitude  ...  \\\n",
       "0  us/ca/ranchosantafe/5921valenciacir/359754519  32.990959  ...   \n",
       "1  us/ca/ranchosantafe/5921valenciacir/359754519  32.990959  ...   \n",
       "2  us/ca/ranchosantafe/5921valenciacir/359754519  32.990959  ...   \n",
       "3         us/md/hanover/7520teaguerd/-2043779672  39.155929  ...   \n",
       "4         us/md/hanover/7520teaguerd/-2043779672  39.155929  ...   \n",
       "\n",
       "   reviews_usercity reviews_userprovince reviews_username  \\\n",
       "0               NaN                  NaN            Paula   \n",
       "1               NaN                  NaN                D   \n",
       "2               NaN                  NaN              Ron   \n",
       "3          Richmond                   VA        jaeem2016   \n",
       "4            Laurel                   MD       MamaNiaOne   \n",
       "\n",
       "                                          sourceurls  \\\n",
       "0  http://www.hotels.com/ho125419/%25252525253Flo...   \n",
       "1  http://www.hotels.com/ho125419/%25252525253Flo...   \n",
       "2  http://www.hotels.com/ho125419/%25252525253Flo...   \n",
       "3  http://www.yellowbook.com/profile/aloft-arunde...   \n",
       "4  http://www.yellowbook.com/profile/aloft-arunde...   \n",
       "\n",
       "                                            websites  \\\n",
       "0                      http://www.ranchovalencia.com   \n",
       "1                      http://www.ranchovalencia.com   \n",
       "2                      http://www.ranchovalencia.com   \n",
       "3  http://www.starwoodhotels.com/alofthotels/prop...   \n",
       "4  http://www.starwoodhotels.com/alofthotels/prop...   \n",
       "\n",
       "                       location                                         words  \\\n",
       "0  POINT(-117.186136 32.990959)              [best, romantic, vacation, ever]   \n",
       "1  POINT(-117.186136 32.990959)                      [sweet, sweet, serenity]   \n",
       "2  POINT(-117.186136 32.990959)          [amazing, property, and, experience]   \n",
       "3   POINT(-76.716341 39.155929)  [never, again, beware, if, you, want, sleep]   \n",
       "4   POINT(-76.716341 39.155929)                         [always, great, stay]   \n",
       "\n",
       "                                 stemmed_words              stem_meaningful  \\\n",
       "0                  [best, romant, vacat, ever]  [best, romant, vacat, ever]   \n",
       "1                        [sweet, sweet, seren]        [sweet, sweet, seren]   \n",
       "2                [amaz, properti, and, experi]     [amaz, properti, experi]   \n",
       "3  [never, again, bewar, if, you, want, sleep]  [never, bewar, want, sleep]   \n",
       "4                         [alway, great, stay]         [alway, great, stay]   \n",
       "\n",
       "                processed  \n",
       "0  best romant vacat ever  \n",
       "1       sweet sweet seren  \n",
       "2    amaz properti experi  \n",
       "3  never bewar want sleep  \n",
       "4        alway great stay  \n",
       "\n",
       "[5 rows x 30 columns]"
      ]
     },
     "execution_count": 11,
     "metadata": {},
     "output_type": "execute_result"
    }
   ],
   "source": [
    "def rejoin_words(data):\n",
    "    my_list = data['stem_meaningful']\n",
    "    joined_words = ( \" \".join(my_list))\n",
    "    return joined_words\n",
    "\n",
    "reviews['processed'] = reviews.apply(rejoin_words, axis=1)\n",
    "reviews['processed']\n",
    "reviews.head(5)"
   ]
  },
  {
   "cell_type": "code",
   "execution_count": 12,
   "id": "96f2acd1",
   "metadata": {
    "execution": {
     "iopub.execute_input": "2022-07-26T11:09:28.980072Z",
     "iopub.status.busy": "2022-07-26T11:09:28.979348Z",
     "iopub.status.idle": "2022-07-26T11:09:28.984317Z",
     "shell.execute_reply": "2022-07-26T11:09:28.983116Z"
    },
    "papermill": {
     "duration": 0.018104,
     "end_time": "2022-07-26T11:09:28.986648",
     "exception": false,
     "start_time": "2022-07-26T11:09:28.968544",
     "status": "completed"
    },
    "tags": []
   },
   "outputs": [],
   "source": [
    "#Because once we deleted them, if we run this cell again, we face error\n",
    "#data = data.drop(columns=['words', 'stemmed_words', 'stem_meaningful', 'processed'])\n",
    "#data.reviews_rating.astype(int)"
   ]
  },
  {
   "cell_type": "code",
   "execution_count": 13,
   "id": "635fa0fd",
   "metadata": {
    "execution": {
     "iopub.execute_input": "2022-07-26T11:09:29.006857Z",
     "iopub.status.busy": "2022-07-26T11:09:29.006403Z",
     "iopub.status.idle": "2022-07-26T11:09:29.035215Z",
     "shell.execute_reply": "2022-07-26T11:09:29.034325Z"
    },
    "papermill": {
     "duration": 0.041412,
     "end_time": "2022-07-26T11:09:29.037323",
     "exception": false,
     "start_time": "2022-07-26T11:09:28.995911",
     "status": "completed"
    },
    "tags": []
   },
   "outputs": [
    {
     "data": {
      "text/html": [
       "<div>\n",
       "<style scoped>\n",
       "    .dataframe tbody tr th:only-of-type {\n",
       "        vertical-align: middle;\n",
       "    }\n",
       "\n",
       "    .dataframe tbody tr th {\n",
       "        vertical-align: top;\n",
       "    }\n",
       "\n",
       "    .dataframe thead th {\n",
       "        text-align: right;\n",
       "    }\n",
       "</style>\n",
       "<table border=\"1\" class=\"dataframe\">\n",
       "  <thead>\n",
       "    <tr style=\"text-align: right;\">\n",
       "      <th></th>\n",
       "      <th>id</th>\n",
       "      <th>dateadded</th>\n",
       "      <th>dateupdated</th>\n",
       "      <th>address</th>\n",
       "      <th>categories</th>\n",
       "      <th>primarycategories</th>\n",
       "      <th>city</th>\n",
       "      <th>country</th>\n",
       "      <th>keys</th>\n",
       "      <th>latitude</th>\n",
       "      <th>...</th>\n",
       "      <th>reviews_usercity</th>\n",
       "      <th>reviews_userprovince</th>\n",
       "      <th>reviews_username</th>\n",
       "      <th>sourceurls</th>\n",
       "      <th>websites</th>\n",
       "      <th>location</th>\n",
       "      <th>words</th>\n",
       "      <th>stemmed_words</th>\n",
       "      <th>stem_meaningful</th>\n",
       "      <th>processed</th>\n",
       "    </tr>\n",
       "  </thead>\n",
       "  <tbody>\n",
       "    <tr>\n",
       "      <th>0</th>\n",
       "      <td>AVwc252WIN2L1WUfpqLP</td>\n",
       "      <td>2016-10-30T21:42:42Z</td>\n",
       "      <td>2018-09-10T21:06:27Z</td>\n",
       "      <td>5921 Valencia Cir</td>\n",
       "      <td>Hotels,Hotels and motels,Hotel and motel reser...</td>\n",
       "      <td>Accommodation &amp; Food Services</td>\n",
       "      <td>Rancho Santa Fe</td>\n",
       "      <td>US</td>\n",
       "      <td>us/ca/ranchosantafe/5921valenciacir/359754519</td>\n",
       "      <td>32.990959</td>\n",
       "      <td>...</td>\n",
       "      <td>NaN</td>\n",
       "      <td>NaN</td>\n",
       "      <td>Paula</td>\n",
       "      <td>http://www.hotels.com/ho125419/%25252525253Flo...</td>\n",
       "      <td>http://www.ranchovalencia.com</td>\n",
       "      <td>POINT(-117.186136 32.990959)</td>\n",
       "      <td>[best, romantic, vacation, ever]</td>\n",
       "      <td>[best, romant, vacat, ever]</td>\n",
       "      <td>[best, romant, vacat, ever]</td>\n",
       "      <td>best romant vacat ever</td>\n",
       "    </tr>\n",
       "    <tr>\n",
       "      <th>1</th>\n",
       "      <td>AVwc252WIN2L1WUfpqLP</td>\n",
       "      <td>2016-10-30T21:42:42Z</td>\n",
       "      <td>2018-09-10T21:06:27Z</td>\n",
       "      <td>5921 Valencia Cir</td>\n",
       "      <td>Hotels,Hotels and motels,Hotel and motel reser...</td>\n",
       "      <td>Accommodation &amp; Food Services</td>\n",
       "      <td>Rancho Santa Fe</td>\n",
       "      <td>US</td>\n",
       "      <td>us/ca/ranchosantafe/5921valenciacir/359754519</td>\n",
       "      <td>32.990959</td>\n",
       "      <td>...</td>\n",
       "      <td>NaN</td>\n",
       "      <td>NaN</td>\n",
       "      <td>D</td>\n",
       "      <td>http://www.hotels.com/ho125419/%25252525253Flo...</td>\n",
       "      <td>http://www.ranchovalencia.com</td>\n",
       "      <td>POINT(-117.186136 32.990959)</td>\n",
       "      <td>[sweet, sweet, serenity]</td>\n",
       "      <td>[sweet, sweet, seren]</td>\n",
       "      <td>[sweet, sweet, seren]</td>\n",
       "      <td>sweet sweet seren</td>\n",
       "    </tr>\n",
       "    <tr>\n",
       "      <th>2</th>\n",
       "      <td>AVwc252WIN2L1WUfpqLP</td>\n",
       "      <td>2016-10-30T21:42:42Z</td>\n",
       "      <td>2018-09-10T21:06:27Z</td>\n",
       "      <td>5921 Valencia Cir</td>\n",
       "      <td>Hotels,Hotels and motels,Hotel and motel reser...</td>\n",
       "      <td>Accommodation &amp; Food Services</td>\n",
       "      <td>Rancho Santa Fe</td>\n",
       "      <td>US</td>\n",
       "      <td>us/ca/ranchosantafe/5921valenciacir/359754519</td>\n",
       "      <td>32.990959</td>\n",
       "      <td>...</td>\n",
       "      <td>NaN</td>\n",
       "      <td>NaN</td>\n",
       "      <td>Ron</td>\n",
       "      <td>http://www.hotels.com/ho125419/%25252525253Flo...</td>\n",
       "      <td>http://www.ranchovalencia.com</td>\n",
       "      <td>POINT(-117.186136 32.990959)</td>\n",
       "      <td>[amazing, property, and, experience]</td>\n",
       "      <td>[amaz, properti, and, experi]</td>\n",
       "      <td>[amaz, properti, experi]</td>\n",
       "      <td>amaz properti experi</td>\n",
       "    </tr>\n",
       "    <tr>\n",
       "      <th>3</th>\n",
       "      <td>AVwdOclqIN2L1WUfti38</td>\n",
       "      <td>2015-11-28T19:19:35Z</td>\n",
       "      <td>2018-09-10T21:06:16Z</td>\n",
       "      <td>7520 Teague Rd</td>\n",
       "      <td>Hotels,Hotels and motels,Travel agencies and b...</td>\n",
       "      <td>Accommodation &amp; Food Services</td>\n",
       "      <td>Hanover</td>\n",
       "      <td>US</td>\n",
       "      <td>us/md/hanover/7520teaguerd/-2043779672</td>\n",
       "      <td>39.155929</td>\n",
       "      <td>...</td>\n",
       "      <td>Richmond</td>\n",
       "      <td>VA</td>\n",
       "      <td>jaeem2016</td>\n",
       "      <td>http://www.yellowbook.com/profile/aloft-arunde...</td>\n",
       "      <td>http://www.starwoodhotels.com/alofthotels/prop...</td>\n",
       "      <td>POINT(-76.716341 39.155929)</td>\n",
       "      <td>[never, again, beware, if, you, want, sleep]</td>\n",
       "      <td>[never, again, bewar, if, you, want, sleep]</td>\n",
       "      <td>[never, bewar, want, sleep]</td>\n",
       "      <td>never bewar want sleep</td>\n",
       "    </tr>\n",
       "    <tr>\n",
       "      <th>4</th>\n",
       "      <td>AVwdOclqIN2L1WUfti38</td>\n",
       "      <td>2015-11-28T19:19:35Z</td>\n",
       "      <td>2018-09-10T21:06:16Z</td>\n",
       "      <td>7520 Teague Rd</td>\n",
       "      <td>Hotels,Hotels and motels,Travel agencies and b...</td>\n",
       "      <td>Accommodation &amp; Food Services</td>\n",
       "      <td>Hanover</td>\n",
       "      <td>US</td>\n",
       "      <td>us/md/hanover/7520teaguerd/-2043779672</td>\n",
       "      <td>39.155929</td>\n",
       "      <td>...</td>\n",
       "      <td>Laurel</td>\n",
       "      <td>MD</td>\n",
       "      <td>MamaNiaOne</td>\n",
       "      <td>http://www.yellowbook.com/profile/aloft-arunde...</td>\n",
       "      <td>http://www.starwoodhotels.com/alofthotels/prop...</td>\n",
       "      <td>POINT(-76.716341 39.155929)</td>\n",
       "      <td>[always, great, stay]</td>\n",
       "      <td>[alway, great, stay]</td>\n",
       "      <td>[alway, great, stay]</td>\n",
       "      <td>alway great stay</td>\n",
       "    </tr>\n",
       "  </tbody>\n",
       "</table>\n",
       "<p>5 rows × 30 columns</p>\n",
       "</div>"
      ],
      "text/plain": [
       "                     id             dateadded           dateupdated  \\\n",
       "0  AVwc252WIN2L1WUfpqLP  2016-10-30T21:42:42Z  2018-09-10T21:06:27Z   \n",
       "1  AVwc252WIN2L1WUfpqLP  2016-10-30T21:42:42Z  2018-09-10T21:06:27Z   \n",
       "2  AVwc252WIN2L1WUfpqLP  2016-10-30T21:42:42Z  2018-09-10T21:06:27Z   \n",
       "3  AVwdOclqIN2L1WUfti38  2015-11-28T19:19:35Z  2018-09-10T21:06:16Z   \n",
       "4  AVwdOclqIN2L1WUfti38  2015-11-28T19:19:35Z  2018-09-10T21:06:16Z   \n",
       "\n",
       "             address                                         categories  \\\n",
       "0  5921 Valencia Cir  Hotels,Hotels and motels,Hotel and motel reser...   \n",
       "1  5921 Valencia Cir  Hotels,Hotels and motels,Hotel and motel reser...   \n",
       "2  5921 Valencia Cir  Hotels,Hotels and motels,Hotel and motel reser...   \n",
       "3     7520 Teague Rd  Hotels,Hotels and motels,Travel agencies and b...   \n",
       "4     7520 Teague Rd  Hotels,Hotels and motels,Travel agencies and b...   \n",
       "\n",
       "               primarycategories             city country  \\\n",
       "0  Accommodation & Food Services  Rancho Santa Fe      US   \n",
       "1  Accommodation & Food Services  Rancho Santa Fe      US   \n",
       "2  Accommodation & Food Services  Rancho Santa Fe      US   \n",
       "3  Accommodation & Food Services          Hanover      US   \n",
       "4  Accommodation & Food Services          Hanover      US   \n",
       "\n",
       "                                            keys   latitude  ...  \\\n",
       "0  us/ca/ranchosantafe/5921valenciacir/359754519  32.990959  ...   \n",
       "1  us/ca/ranchosantafe/5921valenciacir/359754519  32.990959  ...   \n",
       "2  us/ca/ranchosantafe/5921valenciacir/359754519  32.990959  ...   \n",
       "3         us/md/hanover/7520teaguerd/-2043779672  39.155929  ...   \n",
       "4         us/md/hanover/7520teaguerd/-2043779672  39.155929  ...   \n",
       "\n",
       "   reviews_usercity reviews_userprovince reviews_username  \\\n",
       "0               NaN                  NaN            Paula   \n",
       "1               NaN                  NaN                D   \n",
       "2               NaN                  NaN              Ron   \n",
       "3          Richmond                   VA        jaeem2016   \n",
       "4            Laurel                   MD       MamaNiaOne   \n",
       "\n",
       "                                          sourceurls  \\\n",
       "0  http://www.hotels.com/ho125419/%25252525253Flo...   \n",
       "1  http://www.hotels.com/ho125419/%25252525253Flo...   \n",
       "2  http://www.hotels.com/ho125419/%25252525253Flo...   \n",
       "3  http://www.yellowbook.com/profile/aloft-arunde...   \n",
       "4  http://www.yellowbook.com/profile/aloft-arunde...   \n",
       "\n",
       "                                            websites  \\\n",
       "0                      http://www.ranchovalencia.com   \n",
       "1                      http://www.ranchovalencia.com   \n",
       "2                      http://www.ranchovalencia.com   \n",
       "3  http://www.starwoodhotels.com/alofthotels/prop...   \n",
       "4  http://www.starwoodhotels.com/alofthotels/prop...   \n",
       "\n",
       "                       location                                         words  \\\n",
       "0  POINT(-117.186136 32.990959)              [best, romantic, vacation, ever]   \n",
       "1  POINT(-117.186136 32.990959)                      [sweet, sweet, serenity]   \n",
       "2  POINT(-117.186136 32.990959)          [amazing, property, and, experience]   \n",
       "3   POINT(-76.716341 39.155929)  [never, again, beware, if, you, want, sleep]   \n",
       "4   POINT(-76.716341 39.155929)                         [always, great, stay]   \n",
       "\n",
       "                                 stemmed_words              stem_meaningful  \\\n",
       "0                  [best, romant, vacat, ever]  [best, romant, vacat, ever]   \n",
       "1                        [sweet, sweet, seren]        [sweet, sweet, seren]   \n",
       "2                [amaz, properti, and, experi]     [amaz, properti, experi]   \n",
       "3  [never, again, bewar, if, you, want, sleep]  [never, bewar, want, sleep]   \n",
       "4                         [alway, great, stay]         [alway, great, stay]   \n",
       "\n",
       "                processed  \n",
       "0  best romant vacat ever  \n",
       "1       sweet sweet seren  \n",
       "2    amaz properti experi  \n",
       "3  never bewar want sleep  \n",
       "4        alway great stay  \n",
       "\n",
       "[5 rows x 30 columns]"
      ]
     },
     "execution_count": 13,
     "metadata": {},
     "output_type": "execute_result"
    }
   ],
   "source": [
    "reviews.head(5)"
   ]
  },
  {
   "cell_type": "code",
   "execution_count": 14,
   "id": "fab57dc1",
   "metadata": {
    "execution": {
     "iopub.execute_input": "2022-07-26T11:09:29.058474Z",
     "iopub.status.busy": "2022-07-26T11:09:29.057904Z",
     "iopub.status.idle": "2022-07-26T11:09:31.233974Z",
     "shell.execute_reply": "2022-07-26T11:09:31.232485Z"
    },
    "papermill": {
     "duration": 2.189935,
     "end_time": "2022-07-26T11:09:31.236821",
     "exception": false,
     "start_time": "2022-07-26T11:09:29.046886",
     "status": "completed"
    },
    "tags": []
   },
   "outputs": [],
   "source": [
    "reviews.isnull().sum().sort_values(ascending = False)\n",
    "#data = data.dropna(axis=0, subset=['reviews_title'])\n",
    "reviews.head(5)\n",
    "reviews.to_csv('./Perpetua/datasets/hotels_reviews_processed.csv', index=False)"
   ]
  },
  {
   "cell_type": "code",
   "execution_count": 15,
   "id": "d91b551c",
   "metadata": {
    "execution": {
     "iopub.execute_input": "2022-07-26T11:09:31.259300Z",
     "iopub.status.busy": "2022-07-26T11:09:31.258762Z",
     "iopub.status.idle": "2022-07-26T11:09:31.370371Z",
     "shell.execute_reply": "2022-07-26T11:09:31.369100Z"
    },
    "papermill": {
     "duration": 0.125329,
     "end_time": "2022-07-26T11:09:31.372623",
     "exception": false,
     "start_time": "2022-07-26T11:09:31.247294",
     "status": "completed"
    },
    "tags": []
   },
   "outputs": [
    {
     "name": "stdout",
     "output_type": "stream",
     "text": [
      "<class 'pandas.core.frame.DataFrame'>\n",
      "Int64Index: 9998 entries, 0 to 9999\n",
      "Data columns (total 30 columns):\n",
      " #   Column                Non-Null Count  Dtype  \n",
      "---  ------                --------------  -----  \n",
      " 0   id                    9998 non-null   object \n",
      " 1   dateadded             9998 non-null   object \n",
      " 2   dateupdated           9998 non-null   object \n",
      " 3   address               9998 non-null   object \n",
      " 4   categories            9998 non-null   object \n",
      " 5   primarycategories     9998 non-null   object \n",
      " 6   city                  9998 non-null   object \n",
      " 7   country               9998 non-null   object \n",
      " 8   keys                  9998 non-null   object \n",
      " 9   latitude              9998 non-null   float64\n",
      " 10  longitude             9998 non-null   float64\n",
      " 11  name                  9998 non-null   object \n",
      " 12  postalcode            9998 non-null   object \n",
      " 13  province              9998 non-null   object \n",
      " 14  reviews_date          9998 non-null   object \n",
      " 15  reviews_dateseen      9998 non-null   object \n",
      " 16  reviews_rating        9998 non-null   float64\n",
      " 17  reviews_sourceurls    9998 non-null   object \n",
      " 18  reviews_text          9998 non-null   object \n",
      " 19  reviews_title         9998 non-null   object \n",
      " 20  reviews_usercity      4164 non-null   object \n",
      " 21  reviews_userprovince  2705 non-null   object \n",
      " 22  reviews_username      9998 non-null   object \n",
      " 23  sourceurls            9998 non-null   object \n",
      " 24  websites              9998 non-null   object \n",
      " 25  location              9998 non-null   object \n",
      " 26  words                 9998 non-null   object \n",
      " 27  stemmed_words         9998 non-null   object \n",
      " 28  stem_meaningful       9998 non-null   object \n",
      " 29  processed             9998 non-null   object \n",
      "dtypes: float64(3), object(27)\n",
      "memory usage: 2.6+ MB\n"
     ]
    },
    {
     "data": {
      "text/html": [
       "<div>\n",
       "<style scoped>\n",
       "    .dataframe tbody tr th:only-of-type {\n",
       "        vertical-align: middle;\n",
       "    }\n",
       "\n",
       "    .dataframe tbody tr th {\n",
       "        vertical-align: top;\n",
       "    }\n",
       "\n",
       "    .dataframe thead th {\n",
       "        text-align: right;\n",
       "    }\n",
       "</style>\n",
       "<table border=\"1\" class=\"dataframe\">\n",
       "  <thead>\n",
       "    <tr style=\"text-align: right;\">\n",
       "      <th></th>\n",
       "      <th>id</th>\n",
       "      <th>dateadded</th>\n",
       "      <th>dateupdated</th>\n",
       "      <th>address</th>\n",
       "      <th>categories</th>\n",
       "      <th>primarycategories</th>\n",
       "      <th>city</th>\n",
       "      <th>country</th>\n",
       "      <th>keys</th>\n",
       "      <th>latitude</th>\n",
       "      <th>...</th>\n",
       "      <th>reviews_usercity</th>\n",
       "      <th>reviews_userprovince</th>\n",
       "      <th>reviews_username</th>\n",
       "      <th>sourceurls</th>\n",
       "      <th>websites</th>\n",
       "      <th>location</th>\n",
       "      <th>words</th>\n",
       "      <th>stemmed_words</th>\n",
       "      <th>stem_meaningful</th>\n",
       "      <th>processed</th>\n",
       "    </tr>\n",
       "  </thead>\n",
       "  <tbody>\n",
       "    <tr>\n",
       "      <th>0</th>\n",
       "      <td>AVwc252WIN2L1WUfpqLP</td>\n",
       "      <td>2016-10-30T21:42:42Z</td>\n",
       "      <td>2018-09-10T21:06:27Z</td>\n",
       "      <td>5921 Valencia Cir</td>\n",
       "      <td>Hotels,Hotels and motels,Hotel and motel reser...</td>\n",
       "      <td>Accommodation &amp; Food Services</td>\n",
       "      <td>Rancho Santa Fe</td>\n",
       "      <td>US</td>\n",
       "      <td>us/ca/ranchosantafe/5921valenciacir/359754519</td>\n",
       "      <td>32.990959</td>\n",
       "      <td>...</td>\n",
       "      <td>NaN</td>\n",
       "      <td>NaN</td>\n",
       "      <td>Paula</td>\n",
       "      <td>http://www.hotels.com/ho125419/%25252525253Flo...</td>\n",
       "      <td>http://www.ranchovalencia.com</td>\n",
       "      <td>POINT(-117.186136 32.990959)</td>\n",
       "      <td>[best, romantic, vacation, ever]</td>\n",
       "      <td>[best, romant, vacat, ever]</td>\n",
       "      <td>[best, romant, vacat, ever]</td>\n",
       "      <td>best romant vacat ever</td>\n",
       "    </tr>\n",
       "    <tr>\n",
       "      <th>1</th>\n",
       "      <td>AVwc252WIN2L1WUfpqLP</td>\n",
       "      <td>2016-10-30T21:42:42Z</td>\n",
       "      <td>2018-09-10T21:06:27Z</td>\n",
       "      <td>5921 Valencia Cir</td>\n",
       "      <td>Hotels,Hotels and motels,Hotel and motel reser...</td>\n",
       "      <td>Accommodation &amp; Food Services</td>\n",
       "      <td>Rancho Santa Fe</td>\n",
       "      <td>US</td>\n",
       "      <td>us/ca/ranchosantafe/5921valenciacir/359754519</td>\n",
       "      <td>32.990959</td>\n",
       "      <td>...</td>\n",
       "      <td>NaN</td>\n",
       "      <td>NaN</td>\n",
       "      <td>D</td>\n",
       "      <td>http://www.hotels.com/ho125419/%25252525253Flo...</td>\n",
       "      <td>http://www.ranchovalencia.com</td>\n",
       "      <td>POINT(-117.186136 32.990959)</td>\n",
       "      <td>[sweet, sweet, serenity]</td>\n",
       "      <td>[sweet, sweet, seren]</td>\n",
       "      <td>[sweet, sweet, seren]</td>\n",
       "      <td>sweet sweet seren</td>\n",
       "    </tr>\n",
       "    <tr>\n",
       "      <th>2</th>\n",
       "      <td>AVwc252WIN2L1WUfpqLP</td>\n",
       "      <td>2016-10-30T21:42:42Z</td>\n",
       "      <td>2018-09-10T21:06:27Z</td>\n",
       "      <td>5921 Valencia Cir</td>\n",
       "      <td>Hotels,Hotels and motels,Hotel and motel reser...</td>\n",
       "      <td>Accommodation &amp; Food Services</td>\n",
       "      <td>Rancho Santa Fe</td>\n",
       "      <td>US</td>\n",
       "      <td>us/ca/ranchosantafe/5921valenciacir/359754519</td>\n",
       "      <td>32.990959</td>\n",
       "      <td>...</td>\n",
       "      <td>NaN</td>\n",
       "      <td>NaN</td>\n",
       "      <td>Ron</td>\n",
       "      <td>http://www.hotels.com/ho125419/%25252525253Flo...</td>\n",
       "      <td>http://www.ranchovalencia.com</td>\n",
       "      <td>POINT(-117.186136 32.990959)</td>\n",
       "      <td>[amazing, property, and, experience]</td>\n",
       "      <td>[amaz, properti, and, experi]</td>\n",
       "      <td>[amaz, properti, experi]</td>\n",
       "      <td>amaz properti experi</td>\n",
       "    </tr>\n",
       "    <tr>\n",
       "      <th>3</th>\n",
       "      <td>AVwdOclqIN2L1WUfti38</td>\n",
       "      <td>2015-11-28T19:19:35Z</td>\n",
       "      <td>2018-09-10T21:06:16Z</td>\n",
       "      <td>7520 Teague Rd</td>\n",
       "      <td>Hotels,Hotels and motels,Travel agencies and b...</td>\n",
       "      <td>Accommodation &amp; Food Services</td>\n",
       "      <td>Hanover</td>\n",
       "      <td>US</td>\n",
       "      <td>us/md/hanover/7520teaguerd/-2043779672</td>\n",
       "      <td>39.155929</td>\n",
       "      <td>...</td>\n",
       "      <td>Richmond</td>\n",
       "      <td>VA</td>\n",
       "      <td>jaeem2016</td>\n",
       "      <td>http://www.yellowbook.com/profile/aloft-arunde...</td>\n",
       "      <td>http://www.starwoodhotels.com/alofthotels/prop...</td>\n",
       "      <td>POINT(-76.716341 39.155929)</td>\n",
       "      <td>[never, again, beware, if, you, want, sleep]</td>\n",
       "      <td>[never, again, bewar, if, you, want, sleep]</td>\n",
       "      <td>[never, bewar, want, sleep]</td>\n",
       "      <td>never bewar want sleep</td>\n",
       "    </tr>\n",
       "    <tr>\n",
       "      <th>4</th>\n",
       "      <td>AVwdOclqIN2L1WUfti38</td>\n",
       "      <td>2015-11-28T19:19:35Z</td>\n",
       "      <td>2018-09-10T21:06:16Z</td>\n",
       "      <td>7520 Teague Rd</td>\n",
       "      <td>Hotels,Hotels and motels,Travel agencies and b...</td>\n",
       "      <td>Accommodation &amp; Food Services</td>\n",
       "      <td>Hanover</td>\n",
       "      <td>US</td>\n",
       "      <td>us/md/hanover/7520teaguerd/-2043779672</td>\n",
       "      <td>39.155929</td>\n",
       "      <td>...</td>\n",
       "      <td>Laurel</td>\n",
       "      <td>MD</td>\n",
       "      <td>MamaNiaOne</td>\n",
       "      <td>http://www.yellowbook.com/profile/aloft-arunde...</td>\n",
       "      <td>http://www.starwoodhotels.com/alofthotels/prop...</td>\n",
       "      <td>POINT(-76.716341 39.155929)</td>\n",
       "      <td>[always, great, stay]</td>\n",
       "      <td>[alway, great, stay]</td>\n",
       "      <td>[alway, great, stay]</td>\n",
       "      <td>alway great stay</td>\n",
       "    </tr>\n",
       "  </tbody>\n",
       "</table>\n",
       "<p>5 rows × 30 columns</p>\n",
       "</div>"
      ],
      "text/plain": [
       "                     id             dateadded           dateupdated  \\\n",
       "0  AVwc252WIN2L1WUfpqLP  2016-10-30T21:42:42Z  2018-09-10T21:06:27Z   \n",
       "1  AVwc252WIN2L1WUfpqLP  2016-10-30T21:42:42Z  2018-09-10T21:06:27Z   \n",
       "2  AVwc252WIN2L1WUfpqLP  2016-10-30T21:42:42Z  2018-09-10T21:06:27Z   \n",
       "3  AVwdOclqIN2L1WUfti38  2015-11-28T19:19:35Z  2018-09-10T21:06:16Z   \n",
       "4  AVwdOclqIN2L1WUfti38  2015-11-28T19:19:35Z  2018-09-10T21:06:16Z   \n",
       "\n",
       "             address                                         categories  \\\n",
       "0  5921 Valencia Cir  Hotels,Hotels and motels,Hotel and motel reser...   \n",
       "1  5921 Valencia Cir  Hotels,Hotels and motels,Hotel and motel reser...   \n",
       "2  5921 Valencia Cir  Hotels,Hotels and motels,Hotel and motel reser...   \n",
       "3     7520 Teague Rd  Hotels,Hotels and motels,Travel agencies and b...   \n",
       "4     7520 Teague Rd  Hotels,Hotels and motels,Travel agencies and b...   \n",
       "\n",
       "               primarycategories             city country  \\\n",
       "0  Accommodation & Food Services  Rancho Santa Fe      US   \n",
       "1  Accommodation & Food Services  Rancho Santa Fe      US   \n",
       "2  Accommodation & Food Services  Rancho Santa Fe      US   \n",
       "3  Accommodation & Food Services          Hanover      US   \n",
       "4  Accommodation & Food Services          Hanover      US   \n",
       "\n",
       "                                            keys   latitude  ...  \\\n",
       "0  us/ca/ranchosantafe/5921valenciacir/359754519  32.990959  ...   \n",
       "1  us/ca/ranchosantafe/5921valenciacir/359754519  32.990959  ...   \n",
       "2  us/ca/ranchosantafe/5921valenciacir/359754519  32.990959  ...   \n",
       "3         us/md/hanover/7520teaguerd/-2043779672  39.155929  ...   \n",
       "4         us/md/hanover/7520teaguerd/-2043779672  39.155929  ...   \n",
       "\n",
       "   reviews_usercity reviews_userprovince reviews_username  \\\n",
       "0               NaN                  NaN            Paula   \n",
       "1               NaN                  NaN                D   \n",
       "2               NaN                  NaN              Ron   \n",
       "3          Richmond                   VA        jaeem2016   \n",
       "4            Laurel                   MD       MamaNiaOne   \n",
       "\n",
       "                                          sourceurls  \\\n",
       "0  http://www.hotels.com/ho125419/%25252525253Flo...   \n",
       "1  http://www.hotels.com/ho125419/%25252525253Flo...   \n",
       "2  http://www.hotels.com/ho125419/%25252525253Flo...   \n",
       "3  http://www.yellowbook.com/profile/aloft-arunde...   \n",
       "4  http://www.yellowbook.com/profile/aloft-arunde...   \n",
       "\n",
       "                                            websites  \\\n",
       "0                      http://www.ranchovalencia.com   \n",
       "1                      http://www.ranchovalencia.com   \n",
       "2                      http://www.ranchovalencia.com   \n",
       "3  http://www.starwoodhotels.com/alofthotels/prop...   \n",
       "4  http://www.starwoodhotels.com/alofthotels/prop...   \n",
       "\n",
       "                       location                                         words  \\\n",
       "0  POINT(-117.186136 32.990959)              [best, romantic, vacation, ever]   \n",
       "1  POINT(-117.186136 32.990959)                      [sweet, sweet, serenity]   \n",
       "2  POINT(-117.186136 32.990959)          [amazing, property, and, experience]   \n",
       "3   POINT(-76.716341 39.155929)  [never, again, beware, if, you, want, sleep]   \n",
       "4   POINT(-76.716341 39.155929)                         [always, great, stay]   \n",
       "\n",
       "                                 stemmed_words              stem_meaningful  \\\n",
       "0                  [best, romant, vacat, ever]  [best, romant, vacat, ever]   \n",
       "1                        [sweet, sweet, seren]        [sweet, sweet, seren]   \n",
       "2                [amaz, properti, and, experi]     [amaz, properti, experi]   \n",
       "3  [never, again, bewar, if, you, want, sleep]  [never, bewar, want, sleep]   \n",
       "4                         [alway, great, stay]         [alway, great, stay]   \n",
       "\n",
       "                processed  \n",
       "0  best romant vacat ever  \n",
       "1       sweet sweet seren  \n",
       "2    amaz properti experi  \n",
       "3  never bewar want sleep  \n",
       "4        alway great stay  \n",
       "\n",
       "[5 rows x 30 columns]"
      ]
     },
     "execution_count": 15,
     "metadata": {},
     "output_type": "execute_result"
    }
   ],
   "source": [
    "reviews.isnull().sum().sort_values(ascending = False)\n",
    "reviews.dropna(subset=['reviews_title'])\n",
    "reviews.info()\n",
    "reviews.head()"
   ]
  },
  {
   "cell_type": "code",
   "execution_count": null,
   "id": "501417b8",
   "metadata": {
    "papermill": {
     "duration": 0.010045,
     "end_time": "2022-07-26T11:09:31.392680",
     "exception": false,
     "start_time": "2022-07-26T11:09:31.382635",
     "status": "completed"
    },
    "tags": []
   },
   "outputs": [],
   "source": []
  },
  {
   "cell_type": "code",
   "execution_count": 16,
   "id": "f4b6da64",
   "metadata": {
    "execution": {
     "iopub.execute_input": "2022-07-26T11:09:31.415380Z",
     "iopub.status.busy": "2022-07-26T11:09:31.414545Z",
     "iopub.status.idle": "2022-07-26T11:09:31.825399Z",
     "shell.execute_reply": "2022-07-26T11:09:31.823482Z"
    },
    "papermill": {
     "duration": 0.42573,
     "end_time": "2022-07-26T11:09:31.828595",
     "exception": false,
     "start_time": "2022-07-26T11:09:31.402865",
     "status": "completed"
    },
    "tags": []
   },
   "outputs": [
    {
     "name": "stdout",
     "output_type": "stream",
     "text": [
      "<class 'pandas.core.frame.DataFrame'>\n",
      "RangeIndex: 10000 entries, 0 to 9999\n",
      "Data columns (total 26 columns):\n",
      " #   Column                Non-Null Count  Dtype  \n",
      "---  ------                --------------  -----  \n",
      " 0   id                    10000 non-null  object \n",
      " 1   dateadded             10000 non-null  object \n",
      " 2   dateupdated           10000 non-null  object \n",
      " 3   address               10000 non-null  object \n",
      " 4   categories            10000 non-null  object \n",
      " 5   primarycategories     10000 non-null  object \n",
      " 6   city                  10000 non-null  object \n",
      " 7   country               10000 non-null  object \n",
      " 8   keys                  10000 non-null  object \n",
      " 9   latitude              10000 non-null  float64\n",
      " 10  longitude             10000 non-null  float64\n",
      " 11  name                  10000 non-null  object \n",
      " 12  postalcode            10000 non-null  object \n",
      " 13  province              10000 non-null  object \n",
      " 14  reviews_date          10000 non-null  object \n",
      " 15  reviews_dateseen      10000 non-null  object \n",
      " 16  reviews_rating        10000 non-null  float64\n",
      " 17  reviews_sourceurls    10000 non-null  object \n",
      " 18  reviews_text          9999 non-null   object \n",
      " 19  reviews_title         9999 non-null   object \n",
      " 20  reviews_usercity      4164 non-null   object \n",
      " 21  reviews_userprovince  2705 non-null   object \n",
      " 22  reviews_username      10000 non-null  object \n",
      " 23  sourceurls            10000 non-null  object \n",
      " 24  websites              10000 non-null  object \n",
      " 25  location              10000 non-null  object \n",
      "dtypes: float64(3), object(23)\n",
      "memory usage: 2.0+ MB\n"
     ]
    }
   ],
   "source": [
    "cleaned_data = pd.read_csv('./Perpetua/datasets/hotel_reviews.csv')\n",
    "cleaned_data.info()"
   ]
  },
  {
   "cell_type": "code",
   "execution_count": 17,
   "id": "628c00f5",
   "metadata": {
    "execution": {
     "iopub.execute_input": "2022-07-26T11:09:31.851427Z",
     "iopub.status.busy": "2022-07-26T11:09:31.851055Z",
     "iopub.status.idle": "2022-07-26T11:09:31.857304Z",
     "shell.execute_reply": "2022-07-26T11:09:31.856295Z"
    },
    "papermill": {
     "duration": 0.020131,
     "end_time": "2022-07-26T11:09:31.859393",
     "exception": false,
     "start_time": "2022-07-26T11:09:31.839262",
     "status": "completed"
    },
    "tags": []
   },
   "outputs": [
    {
     "data": {
      "text/plain": [
       "\"\\ncleaned_data = pd.read_csv('hotels_reviews_processed.csv')\\n\\ncleaned_data.isnull().sum().sort_values(ascending = False)\\ncleaned_data.dropna(subset=['reviews_title'])\\ncleaned_data.info()\\n\""
      ]
     },
     "execution_count": 17,
     "metadata": {},
     "output_type": "execute_result"
    }
   ],
   "source": [
    "'''\n",
    "cleaned_data = pd.read_csv('hotels_reviews_processed.csv')\n",
    "\n",
    "cleaned_data.isnull().sum().sort_values(ascending = False)\n",
    "cleaned_data.dropna(subset=['reviews_title'])\n",
    "cleaned_data.info()\n",
    "'''"
   ]
  },
  {
   "cell_type": "code",
   "execution_count": 18,
   "id": "ab0d8dea",
   "metadata": {
    "execution": {
     "iopub.execute_input": "2022-07-26T11:09:31.882088Z",
     "iopub.status.busy": "2022-07-26T11:09:31.881704Z",
     "iopub.status.idle": "2022-07-26T11:09:31.886020Z",
     "shell.execute_reply": "2022-07-26T11:09:31.884990Z"
    },
    "papermill": {
     "duration": 0.018329,
     "end_time": "2022-07-26T11:09:31.888268",
     "exception": false,
     "start_time": "2022-07-26T11:09:31.869939",
     "status": "completed"
    },
    "tags": []
   },
   "outputs": [],
   "source": [
    "#cleaned_data[cleaned_data['reviews_title'] == ''].index\n",
    "#m = pd.isna(cleaned_data['reviews_title'])\n"
   ]
  },
  {
   "cell_type": "code",
   "execution_count": 19,
   "id": "84e2c66c",
   "metadata": {
    "execution": {
     "iopub.execute_input": "2022-07-26T11:09:31.911090Z",
     "iopub.status.busy": "2022-07-26T11:09:31.910695Z",
     "iopub.status.idle": "2022-07-26T11:09:31.915878Z",
     "shell.execute_reply": "2022-07-26T11:09:31.914804Z"
    },
    "papermill": {
     "duration": 0.019327,
     "end_time": "2022-07-26T11:09:31.917960",
     "exception": false,
     "start_time": "2022-07-26T11:09:31.898633",
     "status": "completed"
    },
    "tags": []
   },
   "outputs": [],
   "source": [
    "reviews.head(5)\n",
    "clean_reviews = reviews.reviews_title\n",
    "#text_to_numbers(data_reviews)\n",
    "\n",
    "#reviews_rate = data['reviews_rating']\n",
    "#reviews_rating\n",
    "\n"
   ]
  },
  {
   "cell_type": "code",
   "execution_count": 20,
   "id": "d315f7aa",
   "metadata": {
    "execution": {
     "iopub.execute_input": "2022-07-26T11:09:31.941357Z",
     "iopub.status.busy": "2022-07-26T11:09:31.940938Z",
     "iopub.status.idle": "2022-07-26T11:09:48.001803Z",
     "shell.execute_reply": "2022-07-26T11:09:48.000484Z"
    },
    "papermill": {
     "duration": 16.076916,
     "end_time": "2022-07-26T11:09:48.005912",
     "exception": false,
     "start_time": "2022-07-26T11:09:31.928996",
     "status": "completed"
    },
    "tags": []
   },
   "outputs": [
    {
     "name": "stdout",
     "output_type": "stream",
     "text": [
      "Final Accuracy: 0.479\n",
      "Final Accuracy: 0.527\n",
      "Final Accuracy: 0.562\n"
     ]
    },
    {
     "name": "stderr",
     "output_type": "stream",
     "text": [
      "/opt/conda/lib/python3.7/site-packages/sklearn/linear_model/_logistic.py:818: ConvergenceWarning: lbfgs failed to converge (status=1):\n",
      "STOP: TOTAL NO. of ITERATIONS REACHED LIMIT.\n",
      "\n",
      "Increase the number of iterations (max_iter) or scale the data as shown in:\n",
      "    https://scikit-learn.org/stable/modules/preprocessing.html\n",
      "Please also refer to the documentation for alternative solver options:\n",
      "    https://scikit-learn.org/stable/modules/linear_model.html#logistic-regression\n",
      "  extra_warning_msg=_LOGISTIC_SOLVER_CONVERGENCE_MSG,\n"
     ]
    },
    {
     "name": "stdout",
     "output_type": "stream",
     "text": [
      "Final Accuracy: 0.564\n",
      "Final Accuracy: 0.559\n"
     ]
    },
    {
     "name": "stderr",
     "output_type": "stream",
     "text": [
      "/opt/conda/lib/python3.7/site-packages/sklearn/linear_model/_logistic.py:818: ConvergenceWarning: lbfgs failed to converge (status=1):\n",
      "STOP: TOTAL NO. of ITERATIONS REACHED LIMIT.\n",
      "\n",
      "Increase the number of iterations (max_iter) or scale the data as shown in:\n",
      "    https://scikit-learn.org/stable/modules/preprocessing.html\n",
      "Please also refer to the documentation for alternative solver options:\n",
      "    https://scikit-learn.org/stable/modules/linear_model.html#logistic-regression\n",
      "  extra_warning_msg=_LOGISTIC_SOLVER_CONVERGENCE_MSG,\n"
     ]
    }
   ],
   "source": [
    "from sklearn.feature_extraction.text import CountVectorizer\n",
    "from sklearn.linear_model import LogisticRegression\n",
    "from sklearn.metrics import accuracy_score\n",
    "from sklearn.model_selection import train_test_split\n",
    "\n",
    "ngram_vectorizer = CountVectorizer(binary=True, ngram_range=(1, 2))\n",
    "ngram_vectorizer.fit(clean_reviews)\n",
    "X = ngram_vectorizer.transform(clean_reviews)\n",
    "\n",
    "#print(X[0])\n",
    "#print(X.shape)\n",
    "#target = reviews_rating\n",
    "target = reviews.reviews_rating.astype(int)\n",
    "target\n",
    "\n",
    "\n",
    "#target = data.reviews_rating.astype(int)\n",
    "\n",
    "X_train, X_val, y_train, y_val = train_test_split(\n",
    "    X, target, train_size = 0.9\n",
    ")\n",
    "\n",
    "for c in [0.01, 0.05, 0.25, 0.5, 1]:\n",
    "    \n",
    "    final_ngram = LogisticRegression(C=c)\n",
    "    final_ngram.fit(X_train, y_train)\n",
    "    print (\"Final Accuracy: %s\" \n",
    "           % accuracy_score(y_val, final_ngram.predict(X_val)))\n",
    "\n",
    "\n",
    "# Final Accuracy: 0.507\n",
    "# Final Accuracy: 0.52\n",
    "# Final Accuracy: 0.55\n",
    "# Final Accuracy: 0.549\n",
    "# Final Accuracy: 0.552 \n",
    "\n",
    "# The best accuracy was for C=1\n",
    "    \n"
   ]
  },
  {
   "cell_type": "code",
   "execution_count": null,
   "id": "5d8d42af",
   "metadata": {
    "papermill": {
     "duration": 0.03652,
     "end_time": "2022-07-26T11:09:48.076690",
     "exception": false,
     "start_time": "2022-07-26T11:09:48.040170",
     "status": "completed"
    },
    "tags": []
   },
   "outputs": [],
   "source": []
  },
  {
   "cell_type": "code",
   "execution_count": 21,
   "id": "659480b3",
   "metadata": {
    "execution": {
     "iopub.execute_input": "2022-07-26T11:09:48.120866Z",
     "iopub.status.busy": "2022-07-26T11:09:48.120485Z",
     "iopub.status.idle": "2022-07-26T11:09:56.889635Z",
     "shell.execute_reply": "2022-07-26T11:09:56.888105Z"
    },
    "papermill": {
     "duration": 8.7855,
     "end_time": "2022-07-26T11:09:56.893506",
     "exception": false,
     "start_time": "2022-07-26T11:09:48.108006",
     "status": "completed"
    },
    "tags": []
   },
   "outputs": [
    {
     "name": "stdout",
     "output_type": "stream",
     "text": [
      "Accuracy for C=0.01: 0.429\n",
      "Accuracy for C=0.05: 0.482\n",
      "Accuracy for C=0.25: 0.511\n"
     ]
    },
    {
     "name": "stderr",
     "output_type": "stream",
     "text": [
      "/opt/conda/lib/python3.7/site-packages/sklearn/linear_model/_logistic.py:818: ConvergenceWarning: lbfgs failed to converge (status=1):\n",
      "STOP: TOTAL NO. of ITERATIONS REACHED LIMIT.\n",
      "\n",
      "Increase the number of iterations (max_iter) or scale the data as shown in:\n",
      "    https://scikit-learn.org/stable/modules/preprocessing.html\n",
      "Please also refer to the documentation for alternative solver options:\n",
      "    https://scikit-learn.org/stable/modules/linear_model.html#logistic-regression\n",
      "  extra_warning_msg=_LOGISTIC_SOLVER_CONVERGENCE_MSG,\n"
     ]
    },
    {
     "name": "stdout",
     "output_type": "stream",
     "text": [
      "Accuracy for C=0.5: 0.538\n"
     ]
    },
    {
     "name": "stderr",
     "output_type": "stream",
     "text": [
      "/opt/conda/lib/python3.7/site-packages/sklearn/linear_model/_logistic.py:818: ConvergenceWarning: lbfgs failed to converge (status=1):\n",
      "STOP: TOTAL NO. of ITERATIONS REACHED LIMIT.\n",
      "\n",
      "Increase the number of iterations (max_iter) or scale the data as shown in:\n",
      "    https://scikit-learn.org/stable/modules/preprocessing.html\n",
      "Please also refer to the documentation for alternative solver options:\n",
      "    https://scikit-learn.org/stable/modules/linear_model.html#logistic-regression\n",
      "  extra_warning_msg=_LOGISTIC_SOLVER_CONVERGENCE_MSG,\n"
     ]
    },
    {
     "name": "stdout",
     "output_type": "stream",
     "text": [
      "Accuracy for C=1: 0.544\n",
      "Final Accuracy: 0.684\n"
     ]
    },
    {
     "name": "stderr",
     "output_type": "stream",
     "text": [
      "/opt/conda/lib/python3.7/site-packages/sklearn/linear_model/_logistic.py:818: ConvergenceWarning: lbfgs failed to converge (status=1):\n",
      "STOP: TOTAL NO. of ITERATIONS REACHED LIMIT.\n",
      "\n",
      "Increase the number of iterations (max_iter) or scale the data as shown in:\n",
      "    https://scikit-learn.org/stable/modules/preprocessing.html\n",
      "Please also refer to the documentation for alternative solver options:\n",
      "    https://scikit-learn.org/stable/modules/linear_model.html#logistic-regression\n",
      "  extra_warning_msg=_LOGISTIC_SOLVER_CONVERGENCE_MSG,\n"
     ]
    }
   ],
   "source": [
    "from sklearn.feature_extraction.text import TfidfVectorizer\n",
    "from sklearn.linear_model import LogisticRegression\n",
    "from sklearn.metrics import accuracy_score\n",
    "from sklearn.model_selection import train_test_split\n",
    "\n",
    "\n",
    "target = reviews.reviews_rating.astype(int)\n",
    "\n",
    "tfidf_vectorizer = TfidfVectorizer()\n",
    "tfidf_vectorizer.fit(clean_reviews)\n",
    "X = tfidf_vectorizer.transform(clean_reviews)\n",
    "#X_test = tfidf_vectorizer.transform(reviews_test_clean)\n",
    "\n",
    "X_train, X_val, y_train, y_val = train_test_split(\n",
    "    X, target, train_size = 0.90\n",
    ")\n",
    "\n",
    "for c in [0.01, 0.05, 0.25, 0.5, 1]:\n",
    "    \n",
    "    lr = LogisticRegression(C=c)\n",
    "    lr.fit(X_train, y_train)\n",
    "    print (\"Accuracy for C=%s: %s\" \n",
    "           % (c, accuracy_score(y_val, lr.predict(X_val))))\n",
    "#Accuracy for C=0.01: 0.497\n",
    "#Accuracy for C=0.05: 0.51\n",
    "#Accuracy for C=0.25: 0.55\n",
    "#Accuracy for C=0.5: 0.566\n",
    "#Accuracy for C=1: 0.573\n",
    "#Final Accuracy: 0.693\n",
    "\n",
    "final_tfidf = LogisticRegression(C=1)\n",
    "final_tfidf.fit(X, target)\n",
    "print (\"Final Accuracy: %s\" \n",
    "       % accuracy_score(y_val, final_tfidf.predict(X_val)))"
   ]
  },
  {
   "cell_type": "code",
   "execution_count": 22,
   "id": "8a25d164",
   "metadata": {
    "execution": {
     "iopub.execute_input": "2022-07-26T11:09:56.995152Z",
     "iopub.status.busy": "2022-07-26T11:09:56.994742Z",
     "iopub.status.idle": "2022-07-26T11:09:58.573079Z",
     "shell.execute_reply": "2022-07-26T11:09:58.571673Z"
    },
    "papermill": {
     "duration": 1.635266,
     "end_time": "2022-07-26T11:09:58.575691",
     "exception": false,
     "start_time": "2022-07-26T11:09:56.940425",
     "status": "completed"
    },
    "tags": []
   },
   "outputs": [
    {
     "name": "stdout",
     "output_type": "stream",
     "text": [
      "Accuracy for C=0.01: 0.545\n",
      "Accuracy for C=0.05: 0.569\n",
      "Accuracy for C=0.25: 0.559\n",
      "Accuracy for C=0.5: 0.546\n",
      "Accuracy for C=1: 0.531\n",
      "Final Accuracy: 0.635\n"
     ]
    }
   ],
   "source": [
    "\n",
    "from sklearn.feature_extraction.text import CountVectorizer\n",
    "from sklearn.svm import LinearSVC\n",
    "from sklearn.metrics import accuracy_score\n",
    "from sklearn.model_selection import train_test_split\n",
    "\n",
    "ngram_vectorizer = CountVectorizer(binary=True, ngram_range=(1, 2))\n",
    "ngram_vectorizer.fit(clean_reviews)\n",
    "X = ngram_vectorizer.transform(clean_reviews)\n",
    "\n",
    "X_train, X_val, y_train, y_val = train_test_split(\n",
    "    X, target, train_size = 0.90\n",
    ")\n",
    "\n",
    "for c in [0.01, 0.05, 0.25, 0.5, 1]:\n",
    "    \n",
    "    svm = LinearSVC(C=c)\n",
    "    svm.fit(X_train, y_train)\n",
    "    print (\"Accuracy for C=%s: %s\" \n",
    "           % (c, accuracy_score(y_val, svm.predict(X_val))))\n",
    "    \n",
    "#Accuracy for C=0.01: 0.529\n",
    "#Accuracy for C=0.05: 0.557\n",
    "#Accuracy for C=0.25: 0.542\n",
    "#Accuracy for C=0.5: 0.531\n",
    "#Accuracy for C=1: 0.523\n",
    "#Final Accuracy: 0.633\n",
    "\n",
    "final_svm_ngram = LinearSVC(C=0.01)\n",
    "final_svm_ngram.fit(X, target)\n",
    "print (\"Final Accuracy: %s\" \n",
    "       % accuracy_score(y_val, final_svm_ngram.predict(X_val)))\n",
    "\n",
    "# Final Accuracy: 0.8974"
   ]
  },
  {
   "cell_type": "code",
   "execution_count": null,
   "id": "3cd5db9a",
   "metadata": {
    "papermill": {
     "duration": 0.011357,
     "end_time": "2022-07-26T11:09:58.598873",
     "exception": false,
     "start_time": "2022-07-26T11:09:58.587516",
     "status": "completed"
    },
    "tags": []
   },
   "outputs": [],
   "source": []
  }
 ],
 "metadata": {
  "kernelspec": {
   "display_name": "Python 3",
   "language": "python",
   "name": "python3"
  },
  "language_info": {
   "codemirror_mode": {
    "name": "ipython",
    "version": 3
   },
   "file_extension": ".py",
   "mimetype": "text/x-python",
   "name": "python",
   "nbconvert_exporter": "python",
   "pygments_lexer": "ipython3",
   "version": "3.7.12"
  },
  "papermill": {
   "default_parameters": {},
   "duration": 50.287455,
   "end_time": "2022-07-26T11:09:59.432074",
   "environment_variables": {},
   "exception": null,
   "input_path": "__notebook__.ipynb",
   "output_path": "__notebook__.ipynb",
   "parameters": {},
   "start_time": "2022-07-26T11:09:09.144619",
   "version": "2.3.4"
  }
 },
 "nbformat": 4,
 "nbformat_minor": 5
}
